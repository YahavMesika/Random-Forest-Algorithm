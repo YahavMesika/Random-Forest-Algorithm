{
  "nbformat": 4,
  "nbformat_minor": 0,
  "metadata": {
    "colab": {
      "provenance": [],
      "collapsed_sections": []
    },
    "kernelspec": {
      "name": "python3",
      "display_name": "Python 3"
    }
  },
  "cells": [
    {
      "cell_type": "code",
      "metadata": {
        "id": "Kq23T99g4bvW",
        "cellView": "form"
      },
      "source": [
        "#@title ## Big Data Lab  - Assignment 4 - Random forests\n",
        "#@markdown ### Instructions\n",
        "#@markdown 1. The purpose of this assignment is to cover the necessary pandas library operations \n",
        "#@markdown  you need to dominate in order to handle the course material.\n",
        "#@markdown 2. Please complete the assignment on your own. You are welcome to discuss your work with your fellow students but to maintain a healthy learning process - please keep all final answers to yourself! \n",
        "#@markdown 3. Complete the answers in the empty cells - Feel free to add as many extra cell as you require.\n",
        "#@markdown 4. Fill in your name and select the Year and Department.\n",
        "#@markdown 5. When done - Download the colab notebook by going to 'File -> Download .ipynb' and submit the file in the course's moodle page before the due date. \n",
        " \n",
        "#@markdown ---\n",
        "#@markdown ### Enter your information:\n",
        "Full_Name = \"Yahav Mesika\" #@param {type:\"string\"}\n",
        "Depatment = \"Industrial Engineering\" #@param [\"Select\",\"Computer Science\", \"Industrial Engineering\", \"Economics and Management\"]\n",
        "Year = \"Third\" #@param [\"Select\",\"Second\", \"Third\", \"Fourth\"]\n",
        "\n",
        "#@markdown ---\n"
      ],
      "execution_count": null,
      "outputs": []
    },
    {
      "cell_type": "markdown",
      "metadata": {
        "id": "4I5oydnL4tYr"
      },
      "source": [
        "1. Import the necessary libraries"
      ]
    },
    {
      "cell_type": "code",
      "metadata": {
        "id": "SB3GTVsP5W-6"
      },
      "source": [
        "import numpy as np\n",
        "import pandas as pd\n",
        "import plotly.graph_objects as go\n",
        "import seaborn as sns"
      ],
      "execution_count": null,
      "outputs": []
    },
    {
      "cell_type": "markdown",
      "metadata": {
        "id": "Rc_795F15cOH"
      },
      "source": [
        "2. Create a dataframe from the following link. Name it \"wine_df\".\n",
        ">'https://raw.githubusercontent.com/ShaiShmuel/BigData_Course/main/bigData/DataSets/wine_.csv'"
      ]
    },
    {
      "cell_type": "code",
      "metadata": {
        "id": "b9ZQ_VcY5lVW"
      },
      "source": [
        "df=pd.read_csv('https://raw.githubusercontent.com/ShaiShmuel/BigData_Course/main/bigData/DataSets/wine_.csv')\n"
      ],
      "execution_count": null,
      "outputs": []
    },
    {
      "cell_type": "markdown",
      "metadata": {
        "id": "jZamSdTTIzr8"
      },
      "source": [
        "##Know your data\n",
        "Here is a summary of the dataframe features.\n",
        "\n",
        "Attribute Information:\n",
        "Input variables (based on physicochemical tests):\n",
        "\n",
        "1 - fixed acidity\n",
        "\n",
        "2 - volatile acidity\n",
        "\n",
        "3 - citric acid\n",
        "\n",
        "4 - residual sugar\n",
        "\n",
        "5 - chlorides\n",
        "\n",
        "6 - free sulfur dioxide\n",
        "\n",
        "7 - total sulfur dioxide\n",
        "\n",
        "8 - density\n",
        "\n",
        "9 - pH\n",
        "\n",
        "10 - sulphates\n",
        "\n",
        "11 - alcohol\n",
        "\n",
        "12 - quality ('good' and 'bad' based on score >5 and <5)"
      ]
    },
    {
      "cell_type": "markdown",
      "metadata": {
        "id": "lVuojjZ25vyG"
      },
      "source": [
        "3. Print the head, info and the statistical analysis of the dataframe"
      ]
    },
    {
      "cell_type": "code",
      "metadata": {
        "id": "WCp73PctDKUJ",
        "colab": {
          "base_uri": "https://localhost:8080/",
          "height": 206
        },
        "outputId": "ff70d8f2-e6df-4386-8cd8-c82fb5dfabf5"
      },
      "source": [
        "df.head()"
      ],
      "execution_count": null,
      "outputs": [
        {
          "output_type": "execute_result",
          "data": {
            "text/plain": [
              "   fixed acidity  volatile acidity  citric acid  residual sugar  chlorides  \\\n",
              "0            7.4              0.70         0.00             1.9      0.076   \n",
              "1            7.8              0.88         0.00             2.6      0.098   \n",
              "2            7.8              0.76         0.04             2.3      0.092   \n",
              "3           11.2              0.28         0.56             1.9      0.075   \n",
              "4            7.4              0.70         0.00             1.9      0.076   \n",
              "\n",
              "   free sulfur dioxide  total sulfur dioxide  density    pH  sulphates  \\\n",
              "0                 11.0                  34.0   0.9978  3.51       0.56   \n",
              "1                 25.0                  67.0   0.9968  3.20       0.68   \n",
              "2                 15.0                  54.0   0.9970  3.26       0.65   \n",
              "3                 17.0                  60.0   0.9980  3.16       0.58   \n",
              "4                 11.0                  34.0   0.9978  3.51       0.56   \n",
              "\n",
              "   alcohol quality  \n",
              "0      9.4     bad  \n",
              "1      9.8     bad  \n",
              "2      9.8     bad  \n",
              "3      9.8    good  \n",
              "4      9.4     bad  "
            ],
            "text/html": [
              "\n",
              "  <div id=\"df-e0c0da09-a4fd-41ef-b489-b23405cd2b67\">\n",
              "    <div class=\"colab-df-container\">\n",
              "      <div>\n",
              "<style scoped>\n",
              "    .dataframe tbody tr th:only-of-type {\n",
              "        vertical-align: middle;\n",
              "    }\n",
              "\n",
              "    .dataframe tbody tr th {\n",
              "        vertical-align: top;\n",
              "    }\n",
              "\n",
              "    .dataframe thead th {\n",
              "        text-align: right;\n",
              "    }\n",
              "</style>\n",
              "<table border=\"1\" class=\"dataframe\">\n",
              "  <thead>\n",
              "    <tr style=\"text-align: right;\">\n",
              "      <th></th>\n",
              "      <th>fixed acidity</th>\n",
              "      <th>volatile acidity</th>\n",
              "      <th>citric acid</th>\n",
              "      <th>residual sugar</th>\n",
              "      <th>chlorides</th>\n",
              "      <th>free sulfur dioxide</th>\n",
              "      <th>total sulfur dioxide</th>\n",
              "      <th>density</th>\n",
              "      <th>pH</th>\n",
              "      <th>sulphates</th>\n",
              "      <th>alcohol</th>\n",
              "      <th>quality</th>\n",
              "    </tr>\n",
              "  </thead>\n",
              "  <tbody>\n",
              "    <tr>\n",
              "      <th>0</th>\n",
              "      <td>7.4</td>\n",
              "      <td>0.70</td>\n",
              "      <td>0.00</td>\n",
              "      <td>1.9</td>\n",
              "      <td>0.076</td>\n",
              "      <td>11.0</td>\n",
              "      <td>34.0</td>\n",
              "      <td>0.9978</td>\n",
              "      <td>3.51</td>\n",
              "      <td>0.56</td>\n",
              "      <td>9.4</td>\n",
              "      <td>bad</td>\n",
              "    </tr>\n",
              "    <tr>\n",
              "      <th>1</th>\n",
              "      <td>7.8</td>\n",
              "      <td>0.88</td>\n",
              "      <td>0.00</td>\n",
              "      <td>2.6</td>\n",
              "      <td>0.098</td>\n",
              "      <td>25.0</td>\n",
              "      <td>67.0</td>\n",
              "      <td>0.9968</td>\n",
              "      <td>3.20</td>\n",
              "      <td>0.68</td>\n",
              "      <td>9.8</td>\n",
              "      <td>bad</td>\n",
              "    </tr>\n",
              "    <tr>\n",
              "      <th>2</th>\n",
              "      <td>7.8</td>\n",
              "      <td>0.76</td>\n",
              "      <td>0.04</td>\n",
              "      <td>2.3</td>\n",
              "      <td>0.092</td>\n",
              "      <td>15.0</td>\n",
              "      <td>54.0</td>\n",
              "      <td>0.9970</td>\n",
              "      <td>3.26</td>\n",
              "      <td>0.65</td>\n",
              "      <td>9.8</td>\n",
              "      <td>bad</td>\n",
              "    </tr>\n",
              "    <tr>\n",
              "      <th>3</th>\n",
              "      <td>11.2</td>\n",
              "      <td>0.28</td>\n",
              "      <td>0.56</td>\n",
              "      <td>1.9</td>\n",
              "      <td>0.075</td>\n",
              "      <td>17.0</td>\n",
              "      <td>60.0</td>\n",
              "      <td>0.9980</td>\n",
              "      <td>3.16</td>\n",
              "      <td>0.58</td>\n",
              "      <td>9.8</td>\n",
              "      <td>good</td>\n",
              "    </tr>\n",
              "    <tr>\n",
              "      <th>4</th>\n",
              "      <td>7.4</td>\n",
              "      <td>0.70</td>\n",
              "      <td>0.00</td>\n",
              "      <td>1.9</td>\n",
              "      <td>0.076</td>\n",
              "      <td>11.0</td>\n",
              "      <td>34.0</td>\n",
              "      <td>0.9978</td>\n",
              "      <td>3.51</td>\n",
              "      <td>0.56</td>\n",
              "      <td>9.4</td>\n",
              "      <td>bad</td>\n",
              "    </tr>\n",
              "  </tbody>\n",
              "</table>\n",
              "</div>\n",
              "      <button class=\"colab-df-convert\" onclick=\"convertToInteractive('df-e0c0da09-a4fd-41ef-b489-b23405cd2b67')\"\n",
              "              title=\"Convert this dataframe to an interactive table.\"\n",
              "              style=\"display:none;\">\n",
              "        \n",
              "  <svg xmlns=\"http://www.w3.org/2000/svg\" height=\"24px\"viewBox=\"0 0 24 24\"\n",
              "       width=\"24px\">\n",
              "    <path d=\"M0 0h24v24H0V0z\" fill=\"none\"/>\n",
              "    <path d=\"M18.56 5.44l.94 2.06.94-2.06 2.06-.94-2.06-.94-.94-2.06-.94 2.06-2.06.94zm-11 1L8.5 8.5l.94-2.06 2.06-.94-2.06-.94L8.5 2.5l-.94 2.06-2.06.94zm10 10l.94 2.06.94-2.06 2.06-.94-2.06-.94-.94-2.06-.94 2.06-2.06.94z\"/><path d=\"M17.41 7.96l-1.37-1.37c-.4-.4-.92-.59-1.43-.59-.52 0-1.04.2-1.43.59L10.3 9.45l-7.72 7.72c-.78.78-.78 2.05 0 2.83L4 21.41c.39.39.9.59 1.41.59.51 0 1.02-.2 1.41-.59l7.78-7.78 2.81-2.81c.8-.78.8-2.07 0-2.86zM5.41 20L4 18.59l7.72-7.72 1.47 1.35L5.41 20z\"/>\n",
              "  </svg>\n",
              "      </button>\n",
              "      \n",
              "  <style>\n",
              "    .colab-df-container {\n",
              "      display:flex;\n",
              "      flex-wrap:wrap;\n",
              "      gap: 12px;\n",
              "    }\n",
              "\n",
              "    .colab-df-convert {\n",
              "      background-color: #E8F0FE;\n",
              "      border: none;\n",
              "      border-radius: 50%;\n",
              "      cursor: pointer;\n",
              "      display: none;\n",
              "      fill: #1967D2;\n",
              "      height: 32px;\n",
              "      padding: 0 0 0 0;\n",
              "      width: 32px;\n",
              "    }\n",
              "\n",
              "    .colab-df-convert:hover {\n",
              "      background-color: #E2EBFA;\n",
              "      box-shadow: 0px 1px 2px rgba(60, 64, 67, 0.3), 0px 1px 3px 1px rgba(60, 64, 67, 0.15);\n",
              "      fill: #174EA6;\n",
              "    }\n",
              "\n",
              "    [theme=dark] .colab-df-convert {\n",
              "      background-color: #3B4455;\n",
              "      fill: #D2E3FC;\n",
              "    }\n",
              "\n",
              "    [theme=dark] .colab-df-convert:hover {\n",
              "      background-color: #434B5C;\n",
              "      box-shadow: 0px 1px 3px 1px rgba(0, 0, 0, 0.15);\n",
              "      filter: drop-shadow(0px 1px 2px rgba(0, 0, 0, 0.3));\n",
              "      fill: #FFFFFF;\n",
              "    }\n",
              "  </style>\n",
              "\n",
              "      <script>\n",
              "        const buttonEl =\n",
              "          document.querySelector('#df-e0c0da09-a4fd-41ef-b489-b23405cd2b67 button.colab-df-convert');\n",
              "        buttonEl.style.display =\n",
              "          google.colab.kernel.accessAllowed ? 'block' : 'none';\n",
              "\n",
              "        async function convertToInteractive(key) {\n",
              "          const element = document.querySelector('#df-e0c0da09-a4fd-41ef-b489-b23405cd2b67');\n",
              "          const dataTable =\n",
              "            await google.colab.kernel.invokeFunction('convertToInteractive',\n",
              "                                                     [key], {});\n",
              "          if (!dataTable) return;\n",
              "\n",
              "          const docLinkHtml = 'Like what you see? Visit the ' +\n",
              "            '<a target=\"_blank\" href=https://colab.research.google.com/notebooks/data_table.ipynb>data table notebook</a>'\n",
              "            + ' to learn more about interactive tables.';\n",
              "          element.innerHTML = '';\n",
              "          dataTable['output_type'] = 'display_data';\n",
              "          await google.colab.output.renderOutput(dataTable, element);\n",
              "          const docLink = document.createElement('div');\n",
              "          docLink.innerHTML = docLinkHtml;\n",
              "          element.appendChild(docLink);\n",
              "        }\n",
              "      </script>\n",
              "    </div>\n",
              "  </div>\n",
              "  "
            ]
          },
          "metadata": {},
          "execution_count": 80
        }
      ]
    },
    {
      "cell_type": "code",
      "metadata": {
        "id": "W6GXWS4QX9n4",
        "colab": {
          "base_uri": "https://localhost:8080/"
        },
        "outputId": "233d13e0-ddfe-42ae-e7a0-0dee0266b3e5"
      },
      "source": [
        "df.info()"
      ],
      "execution_count": null,
      "outputs": [
        {
          "output_type": "stream",
          "name": "stdout",
          "text": [
            "<class 'pandas.core.frame.DataFrame'>\n",
            "RangeIndex: 1599 entries, 0 to 1598\n",
            "Data columns (total 12 columns):\n",
            " #   Column                Non-Null Count  Dtype  \n",
            "---  ------                --------------  -----  \n",
            " 0   fixed acidity         1599 non-null   float64\n",
            " 1   volatile acidity      1599 non-null   float64\n",
            " 2   citric acid           1599 non-null   float64\n",
            " 3   residual sugar        1599 non-null   float64\n",
            " 4   chlorides             1599 non-null   float64\n",
            " 5   free sulfur dioxide   1599 non-null   float64\n",
            " 6   total sulfur dioxide  1599 non-null   float64\n",
            " 7   density               1583 non-null   float64\n",
            " 8   pH                    1599 non-null   float64\n",
            " 9   sulphates             1599 non-null   float64\n",
            " 10  alcohol               1599 non-null   float64\n",
            " 11  quality               1599 non-null   object \n",
            "dtypes: float64(11), object(1)\n",
            "memory usage: 150.0+ KB\n"
          ]
        }
      ]
    },
    {
      "cell_type": "code",
      "source": [
        "df.describe()"
      ],
      "metadata": {
        "colab": {
          "base_uri": "https://localhost:8080/",
          "height": 300
        },
        "id": "aKJJveKagOt5",
        "outputId": "bdb14b0d-856f-4ecb-935e-08b6e74752d0"
      },
      "execution_count": null,
      "outputs": [
        {
          "output_type": "execute_result",
          "data": {
            "text/plain": [
              "       fixed acidity  volatile acidity  citric acid  residual sugar  \\\n",
              "count    1599.000000       1599.000000  1599.000000     1599.000000   \n",
              "mean        8.319637          0.527821     0.270976        2.538806   \n",
              "std         1.741096          0.179060     0.194801        1.409928   \n",
              "min         4.600000          0.120000     0.000000        0.900000   \n",
              "25%         7.100000          0.390000     0.090000        1.900000   \n",
              "50%         7.900000          0.520000     0.260000        2.200000   \n",
              "75%         9.200000          0.640000     0.420000        2.600000   \n",
              "max        15.900000          1.580000     1.000000       15.500000   \n",
              "\n",
              "         chlorides  free sulfur dioxide  total sulfur dioxide      density  \\\n",
              "count  1599.000000          1599.000000           1599.000000  1583.000000   \n",
              "mean      0.087467            15.874922             46.467792     0.996739   \n",
              "std       0.047065            10.460157             32.895324     0.001888   \n",
              "min       0.012000             1.000000              6.000000     0.990070   \n",
              "25%       0.070000             7.000000             22.000000     0.995600   \n",
              "50%       0.079000            14.000000             38.000000     0.996740   \n",
              "75%       0.090000            21.000000             62.000000     0.997835   \n",
              "max       0.611000            72.000000            289.000000     1.003690   \n",
              "\n",
              "                pH    sulphates      alcohol  \n",
              "count  1599.000000  1599.000000  1599.000000  \n",
              "mean      3.281082     0.658149    10.422983  \n",
              "std       0.354124     0.169507     1.065668  \n",
              "min       0.000000     0.330000     8.400000  \n",
              "25%       3.210000     0.550000     9.500000  \n",
              "50%       3.310000     0.620000    10.200000  \n",
              "75%       3.400000     0.730000    11.100000  \n",
              "max       4.010000     2.000000    14.900000  "
            ],
            "text/html": [
              "\n",
              "  <div id=\"df-7c5fdbfe-51de-40c8-8034-17a2f362600a\">\n",
              "    <div class=\"colab-df-container\">\n",
              "      <div>\n",
              "<style scoped>\n",
              "    .dataframe tbody tr th:only-of-type {\n",
              "        vertical-align: middle;\n",
              "    }\n",
              "\n",
              "    .dataframe tbody tr th {\n",
              "        vertical-align: top;\n",
              "    }\n",
              "\n",
              "    .dataframe thead th {\n",
              "        text-align: right;\n",
              "    }\n",
              "</style>\n",
              "<table border=\"1\" class=\"dataframe\">\n",
              "  <thead>\n",
              "    <tr style=\"text-align: right;\">\n",
              "      <th></th>\n",
              "      <th>fixed acidity</th>\n",
              "      <th>volatile acidity</th>\n",
              "      <th>citric acid</th>\n",
              "      <th>residual sugar</th>\n",
              "      <th>chlorides</th>\n",
              "      <th>free sulfur dioxide</th>\n",
              "      <th>total sulfur dioxide</th>\n",
              "      <th>density</th>\n",
              "      <th>pH</th>\n",
              "      <th>sulphates</th>\n",
              "      <th>alcohol</th>\n",
              "    </tr>\n",
              "  </thead>\n",
              "  <tbody>\n",
              "    <tr>\n",
              "      <th>count</th>\n",
              "      <td>1599.000000</td>\n",
              "      <td>1599.000000</td>\n",
              "      <td>1599.000000</td>\n",
              "      <td>1599.000000</td>\n",
              "      <td>1599.000000</td>\n",
              "      <td>1599.000000</td>\n",
              "      <td>1599.000000</td>\n",
              "      <td>1583.000000</td>\n",
              "      <td>1599.000000</td>\n",
              "      <td>1599.000000</td>\n",
              "      <td>1599.000000</td>\n",
              "    </tr>\n",
              "    <tr>\n",
              "      <th>mean</th>\n",
              "      <td>8.319637</td>\n",
              "      <td>0.527821</td>\n",
              "      <td>0.270976</td>\n",
              "      <td>2.538806</td>\n",
              "      <td>0.087467</td>\n",
              "      <td>15.874922</td>\n",
              "      <td>46.467792</td>\n",
              "      <td>0.996739</td>\n",
              "      <td>3.281082</td>\n",
              "      <td>0.658149</td>\n",
              "      <td>10.422983</td>\n",
              "    </tr>\n",
              "    <tr>\n",
              "      <th>std</th>\n",
              "      <td>1.741096</td>\n",
              "      <td>0.179060</td>\n",
              "      <td>0.194801</td>\n",
              "      <td>1.409928</td>\n",
              "      <td>0.047065</td>\n",
              "      <td>10.460157</td>\n",
              "      <td>32.895324</td>\n",
              "      <td>0.001888</td>\n",
              "      <td>0.354124</td>\n",
              "      <td>0.169507</td>\n",
              "      <td>1.065668</td>\n",
              "    </tr>\n",
              "    <tr>\n",
              "      <th>min</th>\n",
              "      <td>4.600000</td>\n",
              "      <td>0.120000</td>\n",
              "      <td>0.000000</td>\n",
              "      <td>0.900000</td>\n",
              "      <td>0.012000</td>\n",
              "      <td>1.000000</td>\n",
              "      <td>6.000000</td>\n",
              "      <td>0.990070</td>\n",
              "      <td>0.000000</td>\n",
              "      <td>0.330000</td>\n",
              "      <td>8.400000</td>\n",
              "    </tr>\n",
              "    <tr>\n",
              "      <th>25%</th>\n",
              "      <td>7.100000</td>\n",
              "      <td>0.390000</td>\n",
              "      <td>0.090000</td>\n",
              "      <td>1.900000</td>\n",
              "      <td>0.070000</td>\n",
              "      <td>7.000000</td>\n",
              "      <td>22.000000</td>\n",
              "      <td>0.995600</td>\n",
              "      <td>3.210000</td>\n",
              "      <td>0.550000</td>\n",
              "      <td>9.500000</td>\n",
              "    </tr>\n",
              "    <tr>\n",
              "      <th>50%</th>\n",
              "      <td>7.900000</td>\n",
              "      <td>0.520000</td>\n",
              "      <td>0.260000</td>\n",
              "      <td>2.200000</td>\n",
              "      <td>0.079000</td>\n",
              "      <td>14.000000</td>\n",
              "      <td>38.000000</td>\n",
              "      <td>0.996740</td>\n",
              "      <td>3.310000</td>\n",
              "      <td>0.620000</td>\n",
              "      <td>10.200000</td>\n",
              "    </tr>\n",
              "    <tr>\n",
              "      <th>75%</th>\n",
              "      <td>9.200000</td>\n",
              "      <td>0.640000</td>\n",
              "      <td>0.420000</td>\n",
              "      <td>2.600000</td>\n",
              "      <td>0.090000</td>\n",
              "      <td>21.000000</td>\n",
              "      <td>62.000000</td>\n",
              "      <td>0.997835</td>\n",
              "      <td>3.400000</td>\n",
              "      <td>0.730000</td>\n",
              "      <td>11.100000</td>\n",
              "    </tr>\n",
              "    <tr>\n",
              "      <th>max</th>\n",
              "      <td>15.900000</td>\n",
              "      <td>1.580000</td>\n",
              "      <td>1.000000</td>\n",
              "      <td>15.500000</td>\n",
              "      <td>0.611000</td>\n",
              "      <td>72.000000</td>\n",
              "      <td>289.000000</td>\n",
              "      <td>1.003690</td>\n",
              "      <td>4.010000</td>\n",
              "      <td>2.000000</td>\n",
              "      <td>14.900000</td>\n",
              "    </tr>\n",
              "  </tbody>\n",
              "</table>\n",
              "</div>\n",
              "      <button class=\"colab-df-convert\" onclick=\"convertToInteractive('df-7c5fdbfe-51de-40c8-8034-17a2f362600a')\"\n",
              "              title=\"Convert this dataframe to an interactive table.\"\n",
              "              style=\"display:none;\">\n",
              "        \n",
              "  <svg xmlns=\"http://www.w3.org/2000/svg\" height=\"24px\"viewBox=\"0 0 24 24\"\n",
              "       width=\"24px\">\n",
              "    <path d=\"M0 0h24v24H0V0z\" fill=\"none\"/>\n",
              "    <path d=\"M18.56 5.44l.94 2.06.94-2.06 2.06-.94-2.06-.94-.94-2.06-.94 2.06-2.06.94zm-11 1L8.5 8.5l.94-2.06 2.06-.94-2.06-.94L8.5 2.5l-.94 2.06-2.06.94zm10 10l.94 2.06.94-2.06 2.06-.94-2.06-.94-.94-2.06-.94 2.06-2.06.94z\"/><path d=\"M17.41 7.96l-1.37-1.37c-.4-.4-.92-.59-1.43-.59-.52 0-1.04.2-1.43.59L10.3 9.45l-7.72 7.72c-.78.78-.78 2.05 0 2.83L4 21.41c.39.39.9.59 1.41.59.51 0 1.02-.2 1.41-.59l7.78-7.78 2.81-2.81c.8-.78.8-2.07 0-2.86zM5.41 20L4 18.59l7.72-7.72 1.47 1.35L5.41 20z\"/>\n",
              "  </svg>\n",
              "      </button>\n",
              "      \n",
              "  <style>\n",
              "    .colab-df-container {\n",
              "      display:flex;\n",
              "      flex-wrap:wrap;\n",
              "      gap: 12px;\n",
              "    }\n",
              "\n",
              "    .colab-df-convert {\n",
              "      background-color: #E8F0FE;\n",
              "      border: none;\n",
              "      border-radius: 50%;\n",
              "      cursor: pointer;\n",
              "      display: none;\n",
              "      fill: #1967D2;\n",
              "      height: 32px;\n",
              "      padding: 0 0 0 0;\n",
              "      width: 32px;\n",
              "    }\n",
              "\n",
              "    .colab-df-convert:hover {\n",
              "      background-color: #E2EBFA;\n",
              "      box-shadow: 0px 1px 2px rgba(60, 64, 67, 0.3), 0px 1px 3px 1px rgba(60, 64, 67, 0.15);\n",
              "      fill: #174EA6;\n",
              "    }\n",
              "\n",
              "    [theme=dark] .colab-df-convert {\n",
              "      background-color: #3B4455;\n",
              "      fill: #D2E3FC;\n",
              "    }\n",
              "\n",
              "    [theme=dark] .colab-df-convert:hover {\n",
              "      background-color: #434B5C;\n",
              "      box-shadow: 0px 1px 3px 1px rgba(0, 0, 0, 0.15);\n",
              "      filter: drop-shadow(0px 1px 2px rgba(0, 0, 0, 0.3));\n",
              "      fill: #FFFFFF;\n",
              "    }\n",
              "  </style>\n",
              "\n",
              "      <script>\n",
              "        const buttonEl =\n",
              "          document.querySelector('#df-7c5fdbfe-51de-40c8-8034-17a2f362600a button.colab-df-convert');\n",
              "        buttonEl.style.display =\n",
              "          google.colab.kernel.accessAllowed ? 'block' : 'none';\n",
              "\n",
              "        async function convertToInteractive(key) {\n",
              "          const element = document.querySelector('#df-7c5fdbfe-51de-40c8-8034-17a2f362600a');\n",
              "          const dataTable =\n",
              "            await google.colab.kernel.invokeFunction('convertToInteractive',\n",
              "                                                     [key], {});\n",
              "          if (!dataTable) return;\n",
              "\n",
              "          const docLinkHtml = 'Like what you see? Visit the ' +\n",
              "            '<a target=\"_blank\" href=https://colab.research.google.com/notebooks/data_table.ipynb>data table notebook</a>'\n",
              "            + ' to learn more about interactive tables.';\n",
              "          element.innerHTML = '';\n",
              "          dataTable['output_type'] = 'display_data';\n",
              "          await google.colab.output.renderOutput(dataTable, element);\n",
              "          const docLink = document.createElement('div');\n",
              "          docLink.innerHTML = docLinkHtml;\n",
              "          element.appendChild(docLink);\n",
              "        }\n",
              "      </script>\n",
              "    </div>\n",
              "  </div>\n",
              "  "
            ]
          },
          "metadata": {},
          "execution_count": 82
        }
      ]
    },
    {
      "cell_type": "markdown",
      "metadata": {
        "id": "CsRmSQl5AxhL"
      },
      "source": [
        "4. What is the dataframe's shape?"
      ]
    },
    {
      "cell_type": "code",
      "metadata": {
        "id": "taoykc0SD_4r",
        "colab": {
          "base_uri": "https://localhost:8080/"
        },
        "outputId": "a3cb604c-131f-4ba8-9fba-4bf1dff7b3d6"
      },
      "source": [
        "df.shape"
      ],
      "execution_count": null,
      "outputs": [
        {
          "output_type": "execute_result",
          "data": {
            "text/plain": [
              "(1599, 12)"
            ]
          },
          "metadata": {},
          "execution_count": 83
        }
      ]
    },
    {
      "cell_type": "markdown",
      "source": [
        "5. Plot ouliers for columns 'pH' 'sulphats' 'alcohol'"
      ],
      "metadata": {
        "id": "VBDgGbKL7mZy"
      }
    },
    {
      "cell_type": "code",
      "source": [
        "fig = go.Figure()\n",
        "fig.add_trace(go.Box(name='pH',y=df.pH))\n",
        "fig.add_trace(go.Box(name='alcohol',y=df.alcohol))\n",
        "fig.add_trace(go.Box(name='sulphates',y=df.sulphates))\n",
        "\n",
        "fig.show()"
      ],
      "metadata": {
        "colab": {
          "base_uri": "https://localhost:8080/",
          "height": 542
        },
        "id": "I1lwpdzfjb76",
        "outputId": "6970354d-acc8-4238-f3b1-1bb2d22bb2e4"
      },
      "execution_count": null,
      "outputs": [
        {
          "output_type": "display_data",
          "data": {
            "text/html": [
              "<html>\n",
              "<head><meta charset=\"utf-8\" /></head>\n",
              "<body>\n",
              "    <div>            <script src=\"https://cdnjs.cloudflare.com/ajax/libs/mathjax/2.7.5/MathJax.js?config=TeX-AMS-MML_SVG\"></script><script type=\"text/javascript\">if (window.MathJax) {MathJax.Hub.Config({SVG: {font: \"STIX-Web\"}});}</script>                <script type=\"text/javascript\">window.PlotlyConfig = {MathJaxConfig: 'local'};</script>\n",
              "        <script src=\"https://cdn.plot.ly/plotly-2.8.3.min.js\"></script>                <div id=\"521a8364-f585-43e1-a8b8-f144fc4c25ea\" class=\"plotly-graph-div\" style=\"height:525px; width:100%;\"></div>            <script type=\"text/javascript\">                                    window.PLOTLYENV=window.PLOTLYENV || {};                                    if (document.getElementById(\"521a8364-f585-43e1-a8b8-f144fc4c25ea\")) {                    Plotly.newPlot(                        \"521a8364-f585-43e1-a8b8-f144fc4c25ea\",                        [{\"name\":\"pH\",\"y\":[3.51,3.2,3.26,3.16,3.51,3.51,3.3,3.39,3.36,3.35,3.28,3.35,3.58,3.26,3.16,3.17,3.3,3.11,3.38,3.04,3.39,3.52,3.17,3.17,3.43,3.34,3.28,3.17,3.47,3.38,3.35,3.46,3.17,3.45,3.38,3.4,3.42,3.23,3.5,3.33,3.33,3.26,3.21,3.3,3.48,3.9,3.25,3.25,3.34,3.32,3.15,3.4,3.39,3.2,3.17,3.34,3.04,3.26,3.43,3.41,3.44,3.21,3.38,3.39,3.41,3.41,3.42,3.44,3.28,3.34,3.32,3.32,3.31,3.31,3.28,3.54,3.54,3.52,3.38,3.16,3.41,3.13,3.36,3.16,3.44,3.41,2.93,3.39,3.14,3.48,3.23,2.93,2.93,3.39,3.75,3.85,3.45,3.25,3.39,3.3,3.4,3.31,3.3,3.29,3.33,3.29,3.08,3.46,3.37,3.21,3.19,3.15,3.15,3.32,3.19,3.07,3.39,3.37,3.21,3.34,3.3,3.21,3.49,3.44,3.39,3.16,3.53,3.54,3.42,3.42,3.24,3.63,3.63,3.4,3.22,3.19,3.23,3.48,3.33,3.32,3.19,3.23,3.68,3.34,3.68,3.17,3.54,3.11,3.42,3.53,3.33,2.74,3.35,3.35,3.42,3.42,3.42,3.42,3.48,3.59,3.2,3.17,3.33,3.37,3.37,3.19,3.34,3.37,3.47,3.0,3.36,3.29,3.29,3.42,3.33,3.35,3.33,3.58,3.48,3.19,3.19,3.12,3.44,3.54,3.52,3.26,3.34,3.39,3.2,3.2,3.23,3.57,3.28,3.28,3.28,3.25,3.46,3.11,3.57,3.51,3.22,3.04,3.36,3.34,3.34,3.2,3.2,3.29,3.22,3.31,3.3,3.35,3.21,3.3,3.24,3.34,3.14,3.36,3.39,3.3,3.34,3.15,3.42,3.28,3.31,3.37,3.04,3.39,3.37,3.46,3.54,3.37,3.34,3.46,3.32,3.37,3.37,3.37,3.37,3.32,3.0,3.14,3.08,3.07,3.07,3.61,3.38,3.2,3.35,3.61,3.22,3.47,3.17,3.23,3.47,3.26,3.22,3.49,3.06,3.36,3.29,3.35,3.34,3.28,3.08,3.2,3.6,3.35,3.69,3.28,3.36,3.28,3.22,3.31,3.38,3.36,3.69,3.28,3.23,3.38,3.12,3.25,3.36,3.38,3.31,3.31,3.1,3.37,3.34,3.2,3.34,3.3,3.22,3.41,3.05,3.05,3.16,3.67,3.67,3.68,3.38,3.22,3.51,3.39,3.2,3.12,3.36,3.19,3.19,3.41,3.12,3.27,3.32,3.3,3.39,3.42,3.3,3.3,3.37,3.3,3.37,3.24,3.29,3.28,3.16,3.16,3.05,3.28,3.16,3.18,3.23,3.23,3.22,3.13,3.34,0.0,0.0,3.31,3.16,3.11,3.12,0.0,3.3,3.3,3.12,3.6,3.58,3.02,3.11,3.36,3.28,3.35,3.27,3.18,3.25,3.55,3.26,3.24,3.15,3.17,3.19,3.37,3.05,2.99,3.07,3.26,3.07,3.16,3.18,3.2,3.57,3.32,3.32,3.05,3.01,3.01,3.26,3.2,3.11,3.31,3.21,3.06,3.21,3.21,3.42,3.43,3.41,3.31,3.43,3.19,3.56,3.06,3.18,3.16,3.03,3.22,3.47,3.18,3.18,3.1,3.47,3.29,3.1,3.15,3.26,3.36,3.24,3.18,3.19,3.05,3.38,3.38,3.27,3.27,3.26,3.32,3.26,3.44,3.24,3.62,3.28,0.0,3.36,3.15,0.0,3.52,3.49,3.26,3.24,3.1,3.15,3.25,3.0,3.16,3.15,3.16,3.26,3.17,3.15,3.08,2.88,3.06,2.95,3.23,3.57,3.23,3.1,3.22,3.2,3.1,3.1,3.06,3.44,3.26,3.5,3.22,3.37,3.28,3.26,3.25,3.35,3.26,3.18,3.08,2.98,3.48,3.16,3.32,3.17,3.2,3.05,3.2,3.15,3.26,3.2,3.14,3.28,3.18,3.14,3.19,3.12,3.15,3.04,3.04,3.06,3.17,3.17,3.17,3.32,3.34,3.31,3.34,3.32,3.48,3.44,3.15,3.43,3.32,3.15,3.48,3.43,3.17,3.17,3.18,3.21,3.16,3.25,3.17,3.18,3.04,0.0,0.0,0.0,3.09,3.09,3.31,3.25,3.16,3.22,3.36,3.42,3.48,3.38,3.22,3.23,3.24,3.36,3.39,3.34,3.09,3.41,3.16,3.16,3.22,3.28,3.41,3.09,3.37,3.2,3.22,3.26,3.21,3.12,3.06,2.86,3.08,3.45,3.26,3.12,3.27,3.33,3.19,3.12,3.74,2.92,2.92,3.07,2.92,3.07,3.3,3.14,3.23,3.08,3.31,3.3,3.14,3.32,3.32,3.31,3.57,3.32,3.57,3.14,3.3,3.19,3.2,3.34,3.3,3.29,3.14,3.19,3.19,3.19,2.98,3.3,3.47,3.12,3.26,3.72,3.05,3.35,3.12,3.35,3.29,3.4,3.27,3.04,3.09,3.2,3.0,3.26,3.1,3.3,3.1,3.17,3.31,3.34,3.31,3.32,3.56,3.39,2.98,3.32,3.26,2.87,3.5,3.5,3.03,3.13,3.09,3.27,3.28,3.13,3.49,3.46,3.46,3.36,3.36,3.27,3.21,3.27,3.25,3.32,3.43,3.27,3.27,3.24,3.24,3.35,3.18,3.39,3.46,3.39,3.46,3.39,3.37,3.4,3.32,3.33,3.16,2.89,3.41,2.98,0.0,3.08,0.0,0.0,2.92,3.32,3.41,3.32,3.31,3.36,3.04,3.03,3.14,3.18,2.94,3.15,2.94,3.26,3.2,3.15,3.2,3.08,3.26,3.08,3.4,3.48,3.13,3.06,3.21,3.33,3.37,3.25,3.37,3.44,3.28,3.4,3.3,3.63,3.48,3.03,3.32,3.31,3.9,3.47,3.47,3.31,3.11,3.08,3.47,3.47,3.32,3.29,3.37,3.4,3.37,3.34,3.27,3.06,3.38,3.36,3.34,3.28,3.29,0.0,3.21,3.22,3.46,3.22,3.1,0.0,0.0,0.0,3.29,3.43,3.46,3.46,3.61,3.17,3.44,3.39,3.55,3.48,3.26,3.26,3.5,3.1,3.35,3.45,3.21,3.46,3.13,3.13,3.52,3.3,3.3,3.52,3.52,3.29,3.29,3.39,3.29,3.09,3.51,3.6,3.25,3.25,3.19,3.23,3.25,3.31,3.25,3.31,3.31,3.14,3.45,3.55,3.39,3.55,3.28,3.27,3.3,3.31,3.43,3.4,3.4,3.36,3.5,3.31,3.66,3.36,3.66,3.55,3.21,3.21,3.18,3.18,3.09,3.33,3.23,3.48,3.38,3.17,2.99,3.1,3.24,3.29,3.29,3.25,3.23,3.56,3.24,3.26,3.33,3.27,3.33,3.26,3.22,3.3,3.09,3.24,3.44,3.21,3.24,3.23,3.28,3.29,3.28,3.34,3.71,3.61,3.61,3.24,3.36,3.4,3.36,3.46,3.56,3.38,3.56,3.38,3.38,3.32,3.39,3.26,3.26,3.24,3.46,3.24,3.45,3.23,3.28,3.18,3.59,3.59,3.5,3.59,3.58,3.28,3.28,3.22,3.47,3.47,3.51,3.47,3.4,3.15,3.4,3.51,3.66,3.24,3.51,3.51,3.51,3.41,3.4,3.4,3.44,3.41,3.53,3.43,3.23,3.12,3.31,3.4,3.41,3.22,3.53,3.15,3.48,3.22,3.53,3.22,3.34,3.33,3.15,3.43,3.22,3.44,3.53,3.22,3.53,3.53,3.42,3.31,3.42,3.31,3.48,3.4,3.58,3.58,3.41,3.41,3.23,3.39,3.59,3.43,3.29,3.23,3.18,3.33,3.27,3.29,3.27,3.62,3.38,3.3,3.38,3.24,3.3,3.38,3.38,3.18,3.47,3.47,3.2,3.18,3.3,3.69,3.48,3.45,3.48,3.69,3.39,3.39,3.07,3.34,3.61,3.36,3.19,3.22,3.24,3.27,3.14,3.29,3.26,3.41,3.41,3.41,3.26,3.31,3.2,3.44,3.36,3.31,3.29,3.47,3.36,3.16,3.27,3.38,3.15,3.16,3.34,3.13,3.13,3.2,3.46,3.33,3.33,3.22,3.52,3.3,3.44,3.44,3.15,3.28,3.13,3.32,3.25,3.34,3.32,3.13,3.45,3.19,3.44,3.16,3.14,3.16,3.45,3.36,3.45,3.15,3.39,3.71,3.71,3.12,3.47,3.44,3.26,3.26,3.36,3.25,3.36,3.26,3.26,3.23,3.18,3.25,3.17,3.23,3.38,3.22,3.06,3.27,2.89,2.89,3.53,3.2,3.2,3.35,3.27,3.32,3.33,3.41,3.49,3.37,3.32,3.42,3.35,3.36,3.3,3.2,3.17,3.22,3.35,3.24,3.33,3.58,3.38,3.33,3.29,3.36,3.32,3.31,3.49,3.27,3.27,3.49,3.03,3.56,3.38,3.13,3.13,3.21,3.15,3.19,3.21,3.14,3.21,3.3,3.22,3.28,3.29,3.4,3.02,3.02,3.31,3.18,3.2,3.4,3.31,3.2,3.44,3.15,3.27,3.27,3.01,3.16,3.01,3.42,3.33,3.42,3.12,3.38,3.29,3.02,3.02,2.98,3.35,3.43,3.33,3.35,3.15,3.35,3.2,3.15,3.2,3.11,3.35,3.45,3.35,3.28,3.41,3.21,3.27,3.36,3.17,3.25,3.78,3.29,3.12,3.49,3.38,3.38,3.38,3.3,3.52,3.2,3.44,3.45,3.12,3.62,3.14,3.39,3.51,3.22,3.21,3.18,3.32,3.38,3.37,3.3,3.38,3.22,3.22,3.14,3.34,3.41,3.27,3.3,3.61,3.43,3.53,3.28,3.21,3.39,3.23,3.3,3.46,3.15,3.23,3.59,3.15,3.33,3.46,3.42,3.16,3.14,3.21,3.14,3.29,3.29,3.01,2.94,3.32,3.21,3.32,3.2,3.42,3.27,3.46,3.46,3.61,3.58,3.35,3.68,3.27,3.27,3.19,3.38,3.29,3.36,3.33,3.52,3.33,3.36,3.3,3.28,3.56,3.52,3.56,3.22,3.52,3.21,3.16,3.15,3.21,3.16,3.27,3.35,3.14,3.4,3.4,3.4,3.35,3.4,3.45,3.35,3.32,3.35,3.15,3.1,3.26,3.29,3.23,3.24,3.2,3.28,3.28,3.26,3.23,3.07,3.15,3.02,3.27,3.68,3.4,3.37,3.38,3.4,3.23,3.39,3.3,3.26,3.39,3.38,3.45,3.1,3.16,3.22,3.37,3.33,3.49,3.12,3.49,3.41,3.4,3.4,3.28,3.45,3.43,3.4,3.47,3.1,3.32,3.44,3.44,3.02,3.59,3.15,3.37,3.38,3.38,3.38,3.1,3.47,3.5,3.7,3.38,3.5,3.1,3.24,3.24,3.28,3.35,3.24,3.14,3.37,3.37,3.33,3.26,3.39,3.15,3.35,3.22,3.3,3.3,3.36,3.29,3.62,3.34,3.29,3.2,3.2,3.35,3.45,3.5,3.78,3.6,3.3,3.36,3.12,3.3,3.29,3.41,3.29,3.28,3.3,3.33,3.34,3.4,3.4,3.26,4.01,3.18,3.26,2.9,3.26,4.01,3.18,3.18,3.39,3.39,3.39,3.39,3.34,3.29,3.29,3.26,3.09,3.18,3.39,3.38,3.36,3.36,3.36,3.36,3.36,3.36,3.37,3.36,3.09,3.25,3.52,3.34,3.34,3.41,3.34,3.32,3.37,3.37,3.35,3.36,3.36,3.6,3.28,3.07,3.24,3.36,3.07,3.29,3.46,3.18,3.24,3.25,3.27,3.33,3.0,3.21,3.0,3.24,3.32,3.26,3.11,3.71,3.29,3.36,3.36,3.38,3.3,3.3,3.19,3.19,3.3,3.3,3.35,3.1,3.58,3.37,3.17,3.3,3.32,3.31,3.31,3.28,3.52,3.42,3.25,3.25,3.44,3.23,3.43,3.28,3.22,3.54,3.27,3.54,3.5,3.56,3.22,3.04,3.2,3.56,3.2,3.35,3.16,3.27,3.16,3.34,3.39,3.5,3.26,3.26,3.41,3.3,3.31,3.33,3.37,3.26,3.48,3.42,3.18,3.18,3.15,3.53,3.41,3.32,3.23,3.16,3.4,3.38,3.32,3.16,3.4,3.4,3.4,3.23,3.23,3.33,3.35,3.41,3.21,3.5,3.3,3.41,3.39,3.32,3.41,3.59,3.36,3.34,3.41,3.41,3.3,3.52,3.3,3.31,2.88,3.43,3.38,3.38,3.16,3.54,3.16,3.54,3.4,3.39,3.66,3.39,3.33,3.35,3.53,3.37,3.38,3.52,3.72,3.44,3.39,3.72,3.57,3.26,3.42,3.35,3.26,3.45,3.53,3.45,3.26,3.16,3.31,3.51,3.36,3.55,3.51,3.36,3.38,3.28,3.47,3.44,3.53,3.33,3.53,3.53,3.42,3.38,3.32,3.44,3.38,3.39,3.42,3.34,3.39,3.33,3.3,3.29,3.31,3.42,3.42,3.6,3.21,3.39,3.42,3.36,3.6,3.5,3.57,3.46,3.56,3.4,3.3,3.25,3.17,3.36,3.36,3.55,3.1,3.24,3.45,3.44,3.51,3.41,3.54,3.44,3.53,3.54,3.22,3.21,3.21,3.21,3.29,3.29,3.29,3.39,3.34,3.29,3.34,3.48,3.37,3.44,3.33,3.58,3.39,3.26,3.3,3.54,3.42,3.54,3.36,3.54,3.57,3.33,3.29,3.3,3.34,3.55,3.27,3.29,3.32,3.67,3.42,3.42,3.45,3.52,3.42,3.57,3.39],\"type\":\"box\"},{\"name\":\"alcohol\",\"y\":[9.4,9.8,9.8,9.8,9.4,9.4,9.4,10.0,9.5,10.5,9.2,10.5,9.9,9.1,9.2,9.2,10.5,9.3,9.0,9.2,9.4,9.7,9.5,9.4,9.7,9.3,9.5,9.5,9.4,9.8,10.1,10.6,9.8,9.4,9.2,9.6,10.8,9.7,9.8,10.5,10.5,9.3,10.5,10.3,9.5,13.1,9.2,9.5,9.2,9.2,9.2,9.4,9.4,9.4,10.2,9.5,9.6,9.4,10.0,9.4,9.2,9.3,9.5,9.8,10.9,10.9,9.6,10.7,10.7,10.5,9.5,9.5,9.5,9.2,9.6,10.5,10.5,10.7,10.1,9.1,9.2,9.4,9.1,9.4,10.3,10.1,9.9,9.6,9.5,9.0,9.5,9.9,9.8,9.6,10.5,12.9,10.7,9.2,9.8,9.0,10.2,10.4,9.0,9.2,9.4,9.2,9.3,9.3,9.6,9.3,9.5,9.8,9.8,9.7,9.5,10.5,10.0,9.4,10.9,9.2,9.0,10.9,9.2,9.5,9.5,9.4,10.9,10.9,10.5,9.4,9.4,13.0,13.0,9.8,9.9,9.6,9.5,9.2,9.5,9.5,9.6,9.5,14.0,9.4,14.0,9.4,10.0,9.3,10.2,10.5,10.3,9.4,10.1,10.1,10.5,10.5,10.5,10.5,9.3,9.3,9.6,9.2,10.0,9.4,9.4,9.5,10.2,9.0,10.4,9.5,9.1,9.2,9.2,11.5,9.5,9.5,9.5,10.5,9.6,9.5,9.5,9.3,9.3,9.3,9.3,9.7,9.2,9.7,9.5,9.5,9.4,9.8,9.5,9.7,9.7,9.4,10.2,10.1,13.0,11.4,10.3,9.3,9.5,9.2,9.2,10.8,10.8,9.3,9.4,10.5,12.4,10.0,10.2,10.1,9.8,10.5,11.0,9.1,9.7,9.5,9.4,9.4,9.5,10.0,10.4,10.5,9.5,9.8,10.5,11.0,12.2,9.9,9.6,11.0,9.0,9.0,9.0,9.2,9.0,9.0,9.3,10.9,9.8,9.2,9.2,9.9,9.5,9.3,9.8,9.9,10.0,9.9,10.5,9.5,9.9,9.3,9.2,9.2,9.4,10.5,9.3,9.4,10.0,9.3,10.9,10.2,9.8,12.8,9.4,10.1,10.7,10.1,10.1,9.4,9.4,10.7,9.4,10.1,12.6,10.5,9.3,9.9,9.1,10.5,9.8,9.8,10.3,10.3,10.6,9.2,10.6,10.5,10.3,10.1,9.5,9.5,9.9,9.6,9.7,9.6,10.7,10.1,10.0,9.5,9.2,9.3,9.4,9.5,9.5,9.5,9.3,9.4,9.5,9.4,11.0,11.0,10.1,10.4,11.5,10.4,11.5,9.7,9.3,9.5,9.2,9.2,11.5,11.5,9.7,9.5,12.5,12.5,9.4,11.0,11.7,12.2,12.5,10.3,11.5,9.8,9.2,11.3,9.8,9.8,10.7,9.9,12.3,12.0,10.0,9.4,9.9,9.4,9.3,13.0,11.9,12.8,11.0,11.7,10.4,9.8,9.4,9.9,10.0,10.2,10.0,11.8,10.0,9.0,9.4,12.0,9.9,8.7,10.6,9.2,10.8,11.8,11.0,12.0,13.3,10.8,9.4,10.0,9.4,9.4,9.2,9.7,9.2,9.6,9.2,10.0,12.9,10.0,9.5,9.1,9.9,13.0,9.9,11.0,11.0,9.4,9.9,10.8,10.5,10.5,9.1,10.1,10.8,10.8,11.3,9.6,9.5,9.5,9.3,11.7,9.5,9.3,11.7,10.5,10.4,9.9,11.8,12.3,10.9,11.0,10.9,12.3,11.4,10.6,9.3,10.4,11.0,9.2,12.8,9.5,9.9,9.5,10.2,11.2,9.9,9.3,9.8,11.3,11.2,11.6,12.5,10.1,10.5,11.2,10.2,10.8,10.8,9.1,10.0,11.2,11.1,13.4,10.3,9.6,11.2,9.0,11.3,9.3,11.8,9.0,9.2,9.7,11.5,14.0,9.2,9.8,10.6,11.4,10.4,10.6,9.4,10.2,9.7,11.0,10.2,10.1,9.2,11.7,9.4,9.4,13.4,10.0,10.0,10.0,10.8,10.2,10.6,13.3,13.4,11.6,12.1,11.0,9.0,11.1,11.0,11.6,9.0,12.0,12.0,10.9,10.8,12.5,10.8,9.5,10.2,11.4,9.5,10.2,9.7,11.8,11.8,9.3,11.9,8.4,11.7,11.0,10.0,9.1,9.8,9.4,9.5,9.9,11.0,11.4,8.7,9.4,10.3,10.3,10.3,12.8,10.0,10.3,9.4,10.7,12.0,11.2,9.6,11.0,9.9,11.0,8.4,9.1,9.5,10.7,10.4,9.4,9.5,10.0,10.0,11.5,11.1,11.1,11.7,11.1,11.7,12.7,11.4,9.2,9.2,10.1,12.7,11.4,9.0,9.0,10.7,11.7,11.0,11.7,10.4,9.6,10.0,10.2,10.0,9.5,9.8,9.8,9.6,9.6,9.2,9.9,10.7,9.6,10.6,9.3,14.0,10.5,9.7,11.5,9.7,9.0,9.5,9.3,9.3,10.0,9.8,9.3,10.0,9.0,9.3,9.0,9.1,9.2,12.2,10.5,10.4,12.7,9.2,9.4,10.0,9.8,10.2,9.7,9.7,9.8,10.2,9.3,9.4,9.4,9.5,12.1,10.2,10.2,9.1,9.1,9.3,9.3,9.3,9.5,10.5,11.3,9.5,9.7,9.4,9.4,10.2,10.3,9.4,9.5,9.4,9.5,9.4,10.1,10.1,11.0,11.2,11.3,9.6,11.2,14.9,12.0,9.5,9.4,9.6,10.5,9.6,11.0,9.6,9.0,9.6,10.2,10.2,9.7,9.5,9.2,11.0,9.2,10.0,9.5,9.5,9.5,9.3,10.2,9.3,9.9,10.0,9.6,9.0,10.2,9.8,11.3,9.4,11.3,9.1,9.7,9.4,9.4,10.7,9.8,9.0,9.4,9.4,12.8,9.5,9.5,9.7,10.8,10.1,9.5,9.4,9.6,9.7,9.9,10.0,10.5,11.6,10.0,10.1,9.5,9.4,9.4,9.8,9.2,9.4,10.0,9.6,9.5,9.6,9.2,10.0,9.5,11.2,10.4,11.1,9.5,9.5,12.7,9.6,11.5,9.6,9.5,9.3,9.5,9.5,9.3,9.2,9.3,11.5,9.5,9.2,10.0,9.5,9.5,9.0,9.4,9.6,9.5,9.5,9.5,9.4,9.5,9.1,10.7,11.2,9.8,9.8,9.2,9.7,9.6,10.0,9.6,9.5,9.5,9.4,9.5,9.7,9.6,9.7,9.4,9.4,9.5,9.5,10.0,10.3,10.3,10.5,9.8,9.4,9.8,10.0,9.8,9.8,9.5,9.5,10.1,10.1,9.3,9.7,9.6,9.7,10.8,12.5,10.2,9.6,10.8,10.7,10.7,9.4,10.0,12.9,9.6,9.9,12.8,12.5,12.8,9.2,10.3,10.5,10.9,10.8,11.4,11.3,10.8,10.5,11.9,9.4,9.6,9.7,14.0,9.8,9.8,10.3,10.7,11.0,10.7,12.7,11.1,10.9,11.1,9.9,9.9,9.4,9.3,11.7,11.7,11.2,10.0,12.1,10.3,10.9,9.4,10.6,9.8,9.8,9.9,9.8,9.8,9.5,9.5,9.7,10.9,10.9,11.7,10.9,11.3,10.6,11.2,9.5,11.5,10.4,9.7,9.5,9.7,11.3,11.2,11.2,10.9,11.8,10.6,10.0,11.1,11.8,11.8,10.9,11.8,10.0,9.5,9.9,11.4,12.0,9.5,10.0,10.5,10.4,12.1,11.2,9.3,10.1,9.7,9.3,9.7,9.8,10.7,12.5,10.7,12.5,11.0,11.8,10.8,10.8,10.8,10.8,9.5,11.0,11.5,10.8,11.5,13.2,10.9,12.2,12.2,11.5,11.9,11.0,10.1,11.0,11.8,10.5,11.0,11.8,10.1,11.2,11.0,10.2,9.2,11.2,12.0,10.5,9.8,9.5,9.8,10.5,11.8,11.8,10.4,12.9,11.4,12.4,12.5,10.0,9.7,12.1,11.1,12.0,12.4,11.9,11.9,11.9,12.4,11.2,12.1,12.2,10.4,11.3,11.1,11.3,10.0,11.1,9.3,9.5,11.2,11.1,11.0,11.9,9.2,12.2,10.2,10.9,10.9,11.6,10.7,12.1,9.4,9.4,9.1,11.3,10.4,10.5,10.0,12.9,10.5,10.4,11.3,11.4,9.4,9.4,10.9,9.4,9.4,9.4,9.4,9.4,10.1,12.8,12.8,9.1,12.9,11.5,10.6,11.7,12.8,10.3,12.8,11.7,11.7,12.0,10.9,12.3,10.4,10.0,10.0,11.2,11.4,12.6,12.7,12.7,10.4,11.9,11.9,10.5,12.3,10.5,10.4,12.6,11.6,10.1,10.5,11.5,11.0,9.6,10.4,9.7,10.6,12.5,9.2,12.6,11.1,10.2,9.8,11.1,10.9,12.2,11.4,10.7,10.4,10.9,10.8,10.4,9.2,12.9,12.7,9.1,9.1,12.1,9.1,11.6,12.1,9.9,12.5,11.4,11.8,11.8,10.2,12.5,10.9,10.9,10.8,11.1,9.2,9.5,10.7,9.2,10.2,11.4,11.0,11.0,12.3,11.8,12.3,9.5,12.0,9.5,9.6,11.6,11.2,9.9,9.9,11.8,11.4,11.5,12.0,10.8,10.5,10.8,9.4,12.5,9.4,12.4,12.0,11.2,12.0,12.4,12.8,12.3,11.7,9.5,10.8,10.0,12.3,11.0,9.5,13.6,11.3,11.3,11.3,13.3,12.9,13.1,12.3,12.3,11.2,11.5,11.3,13.5,11.5,10.0,10.5,10.4,9.5,13.6,11.2,11.8,11.9,11.4,11.4,9.1,9.5,9.5,11.0,11.4,10.0,10.1,10.4,9.8,11.8,11.6,12.0,12.8,12.5,9.8,11.1,11.4,9.8,11.8,12.9,10.6,10.8,11.1,10.2,11.8,10.0,10.0,9.4,10.2,12.4,12.0,11.5,10.5,10.8,12.3,9.5,9.5,11.5,11.2,12.7,11.4,11.0,11.0,11.4,10.5,9.3,10.9,11.9,12.2,11.9,10.9,9.6,12.5,10.8,12.4,10.8,9.5,9.5,9.5,9.8,10.9,9.5,9.8,11.2,11.7,9.4,11.0,11.0,11.0,10.0,11.0,11.2,10.4,9.3,10.4,10.5,10.4,11.3,9.5,12.0,10.6,10.9,11.5,11.5,9.6,12.0,10.3,9.4,9.2,9.6,13.6,9.5,11.8,10.8,9.5,9.3,12.8,11.5,9.4,12.8,9.6,11.8,9.3,9.8,12.2,9.5,10.3,10.5,10.0,10.5,11.1,10.9,10.9,9.8,9.8,9.5,10.9,11.0,9.2,11.0,11.3,11.3,9.3,11.2,9.8,9.6,11.8,10.3,10.3,11.4,9.5,14.0,14.0,11.7,11.2,9.3,11.2,9.5,12.0,9.7,9.5,11.5,10.4,10.4,10.9,10.2,10.9,10.5,12.4,13.0,10.2,10.2,11.0,10.9,12.4,9.7,10.9,9.5,9.5,12.1,12.2,10.9,12.5,11.7,11.2,11.2,9.2,9.8,10.1,11.1,10.1,9.2,9.8,12.8,10.5,10.1,10.1,9.8,12.5,11.9,9.8,9.1,10.1,12.5,11.4,11.0,10.6,10.6,10.6,10.6,9.3,9.8,9.8,9.2,9.7,9.6,10.0,12.6,9.5,9.5,9.5,10.5,10.5,10.5,10.4,10.5,11.0,10.2,11.4,9.5,9.5,10.8,10.0,11.8,10.3,10.3,10.0,10.1,10.1,11.1,9.5,10.0333333333333,10.9,10.1,10.0333333333333,9.8,11.8,9.5,9.8,10.5,9.8,10.4,9.2,11.6,9.2,9.3,9.8,9.9,10.0,12.2,9.9,10.8,10.8,9.6,9.9,9.9,9.5,9.2,9.6,9.6,10.3,9.7,12.5,11.0,9.8,10.2,9.2,9.55,9.55,9.9,10.2,11.1,9.9,9.9,11.9,10.0,10.7,11.3,10.9,10.7,12.4,10.7,11.9,10.6,10.9,10.1,9.6,9.4,9.6,12.1,9.8,9.9,9.8,9.4,11.4,11.0,9.6,9.6,12.1,11.2,11.0,11.3,10.4,9.9,11.7,10.1,9.0,9.0,8.5,11.1,10.3,11.0666666666667,11.3,9.56666666666667,9.8,11.7,11.1,9.6,9.8,9.7,9.7,11.3,11.3,11.0,11.6,9.0,10.9,10.9,10.55,9.0,10.5,11.9,10.4,10.0,10.4,10.8,9.7,9.7,10.0,11.0,10.0,9.7,9.7,12.6,11.1,11.0,8.8,13.5666666666667,8.8,13.6,10.2,10.6,10.1,10.6,10.3,10.7,10.9,9.7,10.3,10.6,11.4,10.8,12.4,11.4,11.95,9.7,10.0,10.6,9.7,11.5,10.8,11.5,9.6,9.4,9.8,11.0,11.4,9.95,10.8,11.4,10.6,11.1,9.7,9.8,10.4,10.5,9.23333333333333,9.25,10.6,10.3,10.5,10.2,10.3,9.05,10.6,10.4,10.0,9.7,9.6,10.8,10.1,10.2,11.3,10.2,9.9,9.0,11.7,9.7,10.3,10.2,12.0,9.9,11.6,10.9,10.75,10.4,11.2,10.1,10.2,12.1,10.4,11.4,9.5,9.4,11.3,9.4,11.0,10.55,9.9,11.0,9.5,9.9,9.9,9.9,10.1,10.1,10.1,10.9,11.2,10.1,9.2,11.5,12.4,11.1,9.5,12.5,10.5,11.8,10.8,11.9,11.3,11.3,11.9,11.3,11.9,9.8,11.6,11.5,11.4,10.9,12.8,9.2,11.6,11.6,11.0,9.5,10.5,11.2,11.0,10.2,11.0],\"type\":\"box\"},{\"name\":\"sulphates\",\"y\":[0.56,0.68,0.65,0.58,0.56,0.56,0.46,0.47,0.57,0.8,0.54,0.8,0.52,1.56,0.88,0.93,0.75,1.28,0.5,1.08,0.53,0.65,0.91,0.53,0.63,0.56,0.59,0.91,0.55,0.59,0.54,0.57,0.66,0.52,0.55,0.55,0.6,0.73,0.48,0.83,0.83,0.51,0.9,1.2,0.52,0.56,0.73,0.58,0.56,0.58,0.74,0.63,0.64,0.56,0.63,0.53,0.63,0.77,0.59,0.54,0.64,0.71,0.62,0.57,0.39,0.39,0.58,0.58,0.79,0.95,0.54,0.48,0.48,0.53,0.82,0.66,0.66,0.55,0.52,1.12,0.56,1.28,0.57,1.14,0.78,0.59,1.95,0.64,1.22,0.53,0.54,1.95,1.98,0.64,0.48,0.6,0.56,0.63,0.56,0.59,0.61,0.56,0.59,0.51,0.48,0.51,1.31,0.79,0.8,0.69,0.93,0.66,0.66,0.67,0.93,0.63,0.61,0.5,0.6,0.54,0.57,0.6,0.52,0.53,0.48,0.7,0.49,0.48,0.92,0.57,0.66,0.63,0.63,0.58,0.55,0.82,0.77,0.64,0.54,0.54,0.82,0.77,0.79,0.58,0.79,0.62,0.52,0.8,0.58,0.61,0.53,2.0,0.54,0.54,0.72,0.71,0.72,0.71,0.5,0.57,0.56,1.08,0.56,0.49,0.49,0.62,0.52,0.48,0.55,1.59,0.33,0.61,0.61,0.57,0.47,0.78,0.47,0.61,0.56,0.59,0.59,1.02,0.52,0.58,0.58,0.53,0.55,0.49,0.55,0.55,0.62,0.62,0.61,0.55,0.55,0.54,0.59,0.97,0.85,0.43,0.82,1.03,0.79,0.55,0.56,0.77,0.77,0.53,0.67,0.88,0.86,0.56,0.67,0.43,0.71,0.76,0.57,0.55,0.54,0.6,0.59,0.57,0.6,0.6,0.57,0.58,1.61,0.63,0.58,0.5,0.62,0.52,0.7,0.5,0.55,0.58,0.58,0.58,0.58,0.55,1.09,0.71,0.49,0.84,0.84,0.96,0.52,0.45,0.48,0.96,0.78,0.7,0.53,0.59,0.7,0.57,0.62,0.67,1.26,0.8,0.65,0.6,0.57,0.67,0.87,0.72,0.72,0.86,0.91,0.97,0.67,0.97,0.78,0.64,0.77,0.67,0.91,0.97,0.82,0.77,0.82,1.08,0.57,0.77,0.71,0.71,0.76,0.7,0.86,0.95,0.86,0.71,0.64,0.6,0.81,0.64,0.52,0.73,0.8,0.71,0.59,0.64,0.72,0.54,0.52,0.59,0.52,0.62,0.63,0.53,0.59,0.54,0.63,0.53,0.68,0.65,0.65,0.64,0.71,0.64,0.71,0.62,0.63,0.7,0.69,0.69,0.74,0.83,0.67,0.62,0.66,0.66,0.54,0.52,0.74,0.84,0.7,0.64,1.0,1.36,1.18,0.87,0.75,0.75,0.78,0.81,0.89,0.93,0.92,0.86,0.98,0.83,0.73,0.77,0.59,0.61,0.88,0.75,0.85,0.68,0.7,0.91,0.56,0.87,0.73,0.93,0.73,0.69,0.64,1.13,0.78,0.87,1.04,0.63,0.81,0.83,1.11,1.13,0.99,0.7,0.8,0.8,0.8,0.8,0.74,0.76,0.74,0.54,0.74,0.7,0.82,0.8,0.51,0.54,0.57,0.6,0.53,0.65,0.65,0.55,0.53,0.47,0.61,0.63,0.61,0.76,0.65,0.63,0.7,0.57,0.62,0.62,0.64,0.82,0.61,1.07,0.66,0.48,0.76,0.68,0.73,0.56,0.44,0.9,0.44,0.56,0.49,0.56,0.6,0.6,0.9,0.56,0.65,0.49,0.89,0.49,0.56,0.66,0.89,0.6,0.82,0.68,0.68,0.63,0.84,0.56,0.73,0.72,0.56,0.61,0.61,1.06,0.63,0.74,0.63,0.69,0.58,0.58,0.74,0.57,0.61,0.61,0.61,0.53,0.7,0.91,0.72,0.79,0.62,0.58,0.61,0.71,0.82,0.79,0.89,0.6,0.7,1.06,0.6,0.7,0.66,0.92,1.05,1.06,0.66,0.47,0.47,0.42,0.92,0.75,0.67,0.79,0.9,0.74,0.55,0.65,0.65,0.79,0.65,0.74,0.65,0.85,0.85,1.04,1.05,0.78,1.02,0.71,0.63,0.68,0.61,0.63,0.81,0.66,0.66,1.14,0.74,0.63,0.68,0.78,0.9,0.64,0.99,0.55,0.64,0.67,0.78,0.77,0.75,0.57,0.87,0.61,0.61,0.66,0.56,0.87,0.57,0.77,0.66,0.62,0.67,0.73,0.59,0.72,0.79,0.59,0.78,0.86,0.75,0.61,0.56,0.73,0.74,0.62,0.74,0.74,0.56,0.74,0.56,0.68,0.57,0.58,0.61,0.61,0.68,0.57,0.6,0.6,0.79,0.57,0.91,0.57,0.61,0.56,0.7,0.8,0.52,0.6,0.6,0.51,0.44,0.44,0.43,0.66,0.76,0.66,1.02,0.59,0.74,0.74,0.57,0.5,0.57,0.58,0.53,0.57,0.6,0.63,0.48,0.7,0.47,0.56,0.52,0.56,0.62,0.59,0.79,0.53,0.64,0.52,0.54,0.54,0.6,0.74,1.36,0.57,0.57,0.93,0.7,0.8,0.61,0.62,0.55,0.96,0.72,0.72,0.49,0.49,0.6,0.61,0.6,0.63,0.57,0.64,0.58,0.55,0.53,0.53,0.65,1.36,0.62,0.63,0.62,0.63,0.62,0.69,0.63,0.58,0.67,0.57,0.5,0.67,0.84,0.54,0.46,0.61,0.5,0.68,0.81,0.57,0.81,0.64,0.7,0.79,0.66,0.56,0.6,0.66,0.57,0.66,0.58,0.52,0.53,0.52,0.67,0.65,0.67,0.48,0.53,0.54,0.49,0.49,0.54,0.56,0.48,0.56,0.6,0.59,0.47,1.05,0.54,0.54,1.17,0.62,0.61,0.62,0.67,0.67,0.53,0.62,0.57,0.67,0.67,0.7,0.54,0.49,0.47,0.51,0.61,0.66,0.57,0.61,0.45,0.46,0.51,0.48,0.46,0.57,0.44,0.54,0.44,0.53,0.59,1.62,0.6,0.55,0.72,0.68,0.68,0.49,0.67,0.52,0.47,0.6,0.62,0.5,0.5,0.65,0.56,0.6,0.68,0.57,0.65,0.53,0.51,0.73,0.47,0.48,0.72,0.73,0.55,0.55,0.61,0.55,1.06,0.43,0.46,0.5,0.5,0.52,0.57,0.42,0.53,0.42,0.55,0.54,0.54,0.62,0.53,0.54,0.53,0.55,0.55,0.92,0.91,0.46,0.6,0.59,0.61,0.6,0.6,0.65,0.53,0.65,0.59,0.5,0.5,0.56,0.56,0.52,0.68,0.54,0.6,0.56,0.53,1.18,0.74,0.81,0.52,0.52,0.51,0.44,0.94,0.66,0.57,0.7,0.71,0.7,0.86,0.55,0.47,0.68,0.71,0.58,0.76,0.71,0.58,0.73,0.45,0.54,0.6,0.74,0.64,0.64,0.53,0.49,0.64,0.49,0.74,0.77,0.55,0.77,0.86,0.86,0.47,0.51,0.39,0.39,0.83,0.47,0.77,0.63,0.72,0.62,0.83,0.66,0.66,0.7,0.66,0.66,0.55,0.55,1.07,0.73,0.73,0.71,0.73,0.78,0.67,0.82,0.54,0.6,0.44,0.53,0.54,0.54,0.83,0.84,0.82,0.64,0.57,0.57,0.54,0.58,0.65,0.79,0.58,0.57,0.5,0.55,0.49,0.65,0.78,0.55,0.5,0.64,0.65,0.79,0.56,0.68,0.58,0.57,0.65,0.57,0.58,0.58,0.77,0.58,0.77,0.49,0.69,0.69,0.69,0.59,0.59,0.59,0.71,0.54,0.59,0.52,0.57,0.6,0.62,0.64,0.52,0.67,0.61,0.64,0.72,0.89,0.56,0.72,0.89,0.64,0.8,0.87,0.9,0.59,0.8,0.73,0.73,0.65,0.59,0.65,0.73,0.72,0.72,0.6,0.72,0.54,0.76,0.52,0.64,0.6,0.64,0.79,0.99,0.62,0.76,0.76,0.76,0.62,0.68,0.69,0.54,0.67,0.62,0.58,0.71,0.61,0.85,0.62,0.69,0.69,0.85,0.86,0.58,0.48,0.6,0.61,0.87,0.87,0.65,0.63,0.62,0.52,0.52,0.5,0.49,0.63,0.71,0.62,0.82,0.71,0.63,0.58,0.55,0.5,0.49,0.51,0.49,0.48,0.48,0.48,0.43,0.62,0.63,0.63,0.48,0.53,0.72,0.82,0.84,0.55,0.54,0.55,0.84,0.84,0.7,0.68,0.55,0.55,0.48,0.58,0.58,0.84,0.75,0.44,0.44,0.61,0.53,0.53,0.54,0.55,0.56,0.6,0.56,0.52,0.54,0.56,0.55,0.58,0.53,0.59,0.47,0.65,0.59,0.56,0.77,0.83,0.67,0.64,0.83,0.81,0.62,0.58,0.62,0.64,0.78,0.77,0.64,1.34,0.55,0.77,0.62,0.62,0.59,0.57,0.76,0.59,0.7,0.69,0.64,0.63,0.57,0.6,0.72,0.83,0.83,0.62,0.89,0.58,0.58,0.58,0.58,0.86,0.73,0.58,0.58,0.51,0.51,0.51,0.59,0.77,0.59,0.49,0.66,0.69,0.76,0.76,0.63,0.6,0.59,0.86,0.49,0.5,0.49,0.52,0.81,0.52,0.78,0.63,0.54,0.63,0.66,0.6,0.54,0.85,0.49,0.76,0.64,0.64,0.71,0.59,0.66,0.6,0.6,0.6,0.53,0.58,0.72,0.55,0.48,0.65,0.62,0.59,0.54,0.6,0.68,0.69,0.63,0.44,0.88,0.68,0.74,0.6,0.76,0.76,0.58,0.64,0.65,0.85,0.65,0.82,0.62,0.81,0.87,0.49,0.66,0.52,0.76,0.65,0.53,0.66,0.68,0.53,0.76,0.87,1.16,0.67,0.72,0.75,0.71,0.67,0.67,1.1,0.98,0.88,0.56,0.62,0.67,0.68,0.74,0.62,0.62,0.7,0.5,0.66,0.73,0.81,0.81,0.46,0.86,0.6,0.7,0.46,0.5,0.46,0.7,0.44,0.57,0.51,0.8,0.51,0.59,0.6,0.58,0.54,0.79,0.58,0.54,0.54,0.69,0.55,0.85,0.85,0.85,0.94,0.85,0.87,0.62,0.62,0.62,0.75,0.48,0.56,0.69,0.81,0.69,0.83,0.77,0.77,0.46,0.76,0.82,0.51,0.47,0.72,0.73,0.64,0.78,0.62,0.64,0.49,0.4,0.56,0.64,0.4,0.46,0.56,0.4,0.59,0.6,0.62,0.54,0.68,0.48,0.68,0.75,0.61,0.61,0.59,0.58,0.58,0.69,0.45,0.42,0.7,0.63,0.63,1.15,0.55,0.58,0.46,0.72,0.6,0.6,0.87,0.55,0.82,0.75,0.57,0.53,0.43,0.53,0.54,0.56,0.6,0.54,0.57,0.64,0.64,0.68,0.63,0.56,0.57,0.54,0.37,1.17,1.17,0.59,0.75,0.67,0.49,0.75,0.45,0.45,0.61,0.56,0.4,0.61,0.74,0.8,0.66,0.44,0.53,0.62,0.52,0.62,0.61,0.53,0.59,0.47,0.54,0.53,0.58,0.59,0.69,0.58,1.33,0.66,0.59,0.55,0.82,0.6,0.6,0.6,0.6,0.52,0.56,0.56,0.46,0.43,0.51,0.52,0.66,0.45,0.45,0.45,0.54,0.54,0.54,0.51,0.54,0.53,0.53,0.56,0.39,0.39,0.52,0.57,0.51,0.46,0.46,0.52,0.44,0.44,0.59,0.5,0.65,0.56,0.54,0.65,0.48,0.53,0.62,0.5,1.18,0.5,0.37,1.17,1.03,1.17,0.45,0.51,0.52,0.46,0.62,0.51,0.62,0.62,0.45,0.49,0.49,0.5,0.42,0.58,0.58,0.68,0.53,0.59,0.58,0.48,0.48,0.48,0.65,0.65,0.52,0.62,0.72,0.51,0.51,0.82,1.1,0.62,0.9,0.94,0.93,1.01,0.93,0.44,0.73,0.94,0.9,0.78,0.84,0.78,0.77,0.46,0.45,0.46,0.58,0.84,0.67,0.7,0.7,0.71,0.58,0.63,0.93,0.62,0.54,0.85,0.74,0.77,0.77,0.65,0.54,0.47,0.68,0.73,0.52,0.75,0.49,0.68,0.52,0.75,0.74,0.73,0.76,0.73,0.78,0.76,0.58,0.69,0.63,0.5,0.58,0.6,0.8,0.68,0.61,0.58,0.53,0.67,0.67,0.65,0.57,0.65,0.55,0.47,0.52,0.79,0.54,0.75,0.88,0.75,0.88,0.52,0.68,0.62,0.68,0.57,0.61,0.64,0.55,0.6,0.78,0.58,0.76,0.56,0.58,0.54,0.59,0.7,0.81,0.59,0.63,0.58,0.63,0.53,0.53,0.54,0.69,0.55,0.63,0.66,0.55,0.72,0.7,0.77,0.67,0.65,0.6,0.72,0.72,0.97,0.83,0.63,0.58,0.83,0.43,0.97,0.6,0.78,0.64,0.65,0.66,0.67,0.6,0.69,0.66,0.68,0.61,0.62,0.59,0.68,0.64,0.63,0.78,0.63,0.76,0.56,0.57,0.81,0.64,0.61,0.51,0.58,0.7,0.53,0.54,0.66,0.6,0.6,0.68,0.56,0.6,0.56,0.52,0.52,0.52,0.54,0.54,0.54,0.82,0.71,0.54,0.59,0.57,0.93,0.65,0.51,0.67,0.48,0.64,0.78,0.6,0.67,0.6,0.6,0.6,0.5,0.62,0.8,0.84,0.85,0.66,0.78,0.54,0.82,0.56,0.75,0.82,0.58,0.76,0.75,0.71,0.66],\"type\":\"box\"}],                        {\"template\":{\"data\":{\"bar\":[{\"error_x\":{\"color\":\"#2a3f5f\"},\"error_y\":{\"color\":\"#2a3f5f\"},\"marker\":{\"line\":{\"color\":\"#E5ECF6\",\"width\":0.5},\"pattern\":{\"fillmode\":\"overlay\",\"size\":10,\"solidity\":0.2}},\"type\":\"bar\"}],\"barpolar\":[{\"marker\":{\"line\":{\"color\":\"#E5ECF6\",\"width\":0.5},\"pattern\":{\"fillmode\":\"overlay\",\"size\":10,\"solidity\":0.2}},\"type\":\"barpolar\"}],\"carpet\":[{\"aaxis\":{\"endlinecolor\":\"#2a3f5f\",\"gridcolor\":\"white\",\"linecolor\":\"white\",\"minorgridcolor\":\"white\",\"startlinecolor\":\"#2a3f5f\"},\"baxis\":{\"endlinecolor\":\"#2a3f5f\",\"gridcolor\":\"white\",\"linecolor\":\"white\",\"minorgridcolor\":\"white\",\"startlinecolor\":\"#2a3f5f\"},\"type\":\"carpet\"}],\"choropleth\":[{\"colorbar\":{\"outlinewidth\":0,\"ticks\":\"\"},\"type\":\"choropleth\"}],\"contour\":[{\"colorbar\":{\"outlinewidth\":0,\"ticks\":\"\"},\"colorscale\":[[0.0,\"#0d0887\"],[0.1111111111111111,\"#46039f\"],[0.2222222222222222,\"#7201a8\"],[0.3333333333333333,\"#9c179e\"],[0.4444444444444444,\"#bd3786\"],[0.5555555555555556,\"#d8576b\"],[0.6666666666666666,\"#ed7953\"],[0.7777777777777778,\"#fb9f3a\"],[0.8888888888888888,\"#fdca26\"],[1.0,\"#f0f921\"]],\"type\":\"contour\"}],\"contourcarpet\":[{\"colorbar\":{\"outlinewidth\":0,\"ticks\":\"\"},\"type\":\"contourcarpet\"}],\"heatmap\":[{\"colorbar\":{\"outlinewidth\":0,\"ticks\":\"\"},\"colorscale\":[[0.0,\"#0d0887\"],[0.1111111111111111,\"#46039f\"],[0.2222222222222222,\"#7201a8\"],[0.3333333333333333,\"#9c179e\"],[0.4444444444444444,\"#bd3786\"],[0.5555555555555556,\"#d8576b\"],[0.6666666666666666,\"#ed7953\"],[0.7777777777777778,\"#fb9f3a\"],[0.8888888888888888,\"#fdca26\"],[1.0,\"#f0f921\"]],\"type\":\"heatmap\"}],\"heatmapgl\":[{\"colorbar\":{\"outlinewidth\":0,\"ticks\":\"\"},\"colorscale\":[[0.0,\"#0d0887\"],[0.1111111111111111,\"#46039f\"],[0.2222222222222222,\"#7201a8\"],[0.3333333333333333,\"#9c179e\"],[0.4444444444444444,\"#bd3786\"],[0.5555555555555556,\"#d8576b\"],[0.6666666666666666,\"#ed7953\"],[0.7777777777777778,\"#fb9f3a\"],[0.8888888888888888,\"#fdca26\"],[1.0,\"#f0f921\"]],\"type\":\"heatmapgl\"}],\"histogram\":[{\"marker\":{\"pattern\":{\"fillmode\":\"overlay\",\"size\":10,\"solidity\":0.2}},\"type\":\"histogram\"}],\"histogram2d\":[{\"colorbar\":{\"outlinewidth\":0,\"ticks\":\"\"},\"colorscale\":[[0.0,\"#0d0887\"],[0.1111111111111111,\"#46039f\"],[0.2222222222222222,\"#7201a8\"],[0.3333333333333333,\"#9c179e\"],[0.4444444444444444,\"#bd3786\"],[0.5555555555555556,\"#d8576b\"],[0.6666666666666666,\"#ed7953\"],[0.7777777777777778,\"#fb9f3a\"],[0.8888888888888888,\"#fdca26\"],[1.0,\"#f0f921\"]],\"type\":\"histogram2d\"}],\"histogram2dcontour\":[{\"colorbar\":{\"outlinewidth\":0,\"ticks\":\"\"},\"colorscale\":[[0.0,\"#0d0887\"],[0.1111111111111111,\"#46039f\"],[0.2222222222222222,\"#7201a8\"],[0.3333333333333333,\"#9c179e\"],[0.4444444444444444,\"#bd3786\"],[0.5555555555555556,\"#d8576b\"],[0.6666666666666666,\"#ed7953\"],[0.7777777777777778,\"#fb9f3a\"],[0.8888888888888888,\"#fdca26\"],[1.0,\"#f0f921\"]],\"type\":\"histogram2dcontour\"}],\"mesh3d\":[{\"colorbar\":{\"outlinewidth\":0,\"ticks\":\"\"},\"type\":\"mesh3d\"}],\"parcoords\":[{\"line\":{\"colorbar\":{\"outlinewidth\":0,\"ticks\":\"\"}},\"type\":\"parcoords\"}],\"pie\":[{\"automargin\":true,\"type\":\"pie\"}],\"scatter\":[{\"marker\":{\"colorbar\":{\"outlinewidth\":0,\"ticks\":\"\"}},\"type\":\"scatter\"}],\"scatter3d\":[{\"line\":{\"colorbar\":{\"outlinewidth\":0,\"ticks\":\"\"}},\"marker\":{\"colorbar\":{\"outlinewidth\":0,\"ticks\":\"\"}},\"type\":\"scatter3d\"}],\"scattercarpet\":[{\"marker\":{\"colorbar\":{\"outlinewidth\":0,\"ticks\":\"\"}},\"type\":\"scattercarpet\"}],\"scattergeo\":[{\"marker\":{\"colorbar\":{\"outlinewidth\":0,\"ticks\":\"\"}},\"type\":\"scattergeo\"}],\"scattergl\":[{\"marker\":{\"colorbar\":{\"outlinewidth\":0,\"ticks\":\"\"}},\"type\":\"scattergl\"}],\"scattermapbox\":[{\"marker\":{\"colorbar\":{\"outlinewidth\":0,\"ticks\":\"\"}},\"type\":\"scattermapbox\"}],\"scatterpolar\":[{\"marker\":{\"colorbar\":{\"outlinewidth\":0,\"ticks\":\"\"}},\"type\":\"scatterpolar\"}],\"scatterpolargl\":[{\"marker\":{\"colorbar\":{\"outlinewidth\":0,\"ticks\":\"\"}},\"type\":\"scatterpolargl\"}],\"scatterternary\":[{\"marker\":{\"colorbar\":{\"outlinewidth\":0,\"ticks\":\"\"}},\"type\":\"scatterternary\"}],\"surface\":[{\"colorbar\":{\"outlinewidth\":0,\"ticks\":\"\"},\"colorscale\":[[0.0,\"#0d0887\"],[0.1111111111111111,\"#46039f\"],[0.2222222222222222,\"#7201a8\"],[0.3333333333333333,\"#9c179e\"],[0.4444444444444444,\"#bd3786\"],[0.5555555555555556,\"#d8576b\"],[0.6666666666666666,\"#ed7953\"],[0.7777777777777778,\"#fb9f3a\"],[0.8888888888888888,\"#fdca26\"],[1.0,\"#f0f921\"]],\"type\":\"surface\"}],\"table\":[{\"cells\":{\"fill\":{\"color\":\"#EBF0F8\"},\"line\":{\"color\":\"white\"}},\"header\":{\"fill\":{\"color\":\"#C8D4E3\"},\"line\":{\"color\":\"white\"}},\"type\":\"table\"}]},\"layout\":{\"annotationdefaults\":{\"arrowcolor\":\"#2a3f5f\",\"arrowhead\":0,\"arrowwidth\":1},\"autotypenumbers\":\"strict\",\"coloraxis\":{\"colorbar\":{\"outlinewidth\":0,\"ticks\":\"\"}},\"colorscale\":{\"diverging\":[[0,\"#8e0152\"],[0.1,\"#c51b7d\"],[0.2,\"#de77ae\"],[0.3,\"#f1b6da\"],[0.4,\"#fde0ef\"],[0.5,\"#f7f7f7\"],[0.6,\"#e6f5d0\"],[0.7,\"#b8e186\"],[0.8,\"#7fbc41\"],[0.9,\"#4d9221\"],[1,\"#276419\"]],\"sequential\":[[0.0,\"#0d0887\"],[0.1111111111111111,\"#46039f\"],[0.2222222222222222,\"#7201a8\"],[0.3333333333333333,\"#9c179e\"],[0.4444444444444444,\"#bd3786\"],[0.5555555555555556,\"#d8576b\"],[0.6666666666666666,\"#ed7953\"],[0.7777777777777778,\"#fb9f3a\"],[0.8888888888888888,\"#fdca26\"],[1.0,\"#f0f921\"]],\"sequentialminus\":[[0.0,\"#0d0887\"],[0.1111111111111111,\"#46039f\"],[0.2222222222222222,\"#7201a8\"],[0.3333333333333333,\"#9c179e\"],[0.4444444444444444,\"#bd3786\"],[0.5555555555555556,\"#d8576b\"],[0.6666666666666666,\"#ed7953\"],[0.7777777777777778,\"#fb9f3a\"],[0.8888888888888888,\"#fdca26\"],[1.0,\"#f0f921\"]]},\"colorway\":[\"#636efa\",\"#EF553B\",\"#00cc96\",\"#ab63fa\",\"#FFA15A\",\"#19d3f3\",\"#FF6692\",\"#B6E880\",\"#FF97FF\",\"#FECB52\"],\"font\":{\"color\":\"#2a3f5f\"},\"geo\":{\"bgcolor\":\"white\",\"lakecolor\":\"white\",\"landcolor\":\"#E5ECF6\",\"showlakes\":true,\"showland\":true,\"subunitcolor\":\"white\"},\"hoverlabel\":{\"align\":\"left\"},\"hovermode\":\"closest\",\"mapbox\":{\"style\":\"light\"},\"paper_bgcolor\":\"white\",\"plot_bgcolor\":\"#E5ECF6\",\"polar\":{\"angularaxis\":{\"gridcolor\":\"white\",\"linecolor\":\"white\",\"ticks\":\"\"},\"bgcolor\":\"#E5ECF6\",\"radialaxis\":{\"gridcolor\":\"white\",\"linecolor\":\"white\",\"ticks\":\"\"}},\"scene\":{\"xaxis\":{\"backgroundcolor\":\"#E5ECF6\",\"gridcolor\":\"white\",\"gridwidth\":2,\"linecolor\":\"white\",\"showbackground\":true,\"ticks\":\"\",\"zerolinecolor\":\"white\"},\"yaxis\":{\"backgroundcolor\":\"#E5ECF6\",\"gridcolor\":\"white\",\"gridwidth\":2,\"linecolor\":\"white\",\"showbackground\":true,\"ticks\":\"\",\"zerolinecolor\":\"white\"},\"zaxis\":{\"backgroundcolor\":\"#E5ECF6\",\"gridcolor\":\"white\",\"gridwidth\":2,\"linecolor\":\"white\",\"showbackground\":true,\"ticks\":\"\",\"zerolinecolor\":\"white\"}},\"shapedefaults\":{\"line\":{\"color\":\"#2a3f5f\"}},\"ternary\":{\"aaxis\":{\"gridcolor\":\"white\",\"linecolor\":\"white\",\"ticks\":\"\"},\"baxis\":{\"gridcolor\":\"white\",\"linecolor\":\"white\",\"ticks\":\"\"},\"bgcolor\":\"#E5ECF6\",\"caxis\":{\"gridcolor\":\"white\",\"linecolor\":\"white\",\"ticks\":\"\"}},\"title\":{\"x\":0.05},\"xaxis\":{\"automargin\":true,\"gridcolor\":\"white\",\"linecolor\":\"white\",\"ticks\":\"\",\"title\":{\"standoff\":15},\"zerolinecolor\":\"white\",\"zerolinewidth\":2},\"yaxis\":{\"automargin\":true,\"gridcolor\":\"white\",\"linecolor\":\"white\",\"ticks\":\"\",\"title\":{\"standoff\":15},\"zerolinecolor\":\"white\",\"zerolinewidth\":2}}}},                        {\"responsive\": true}                    ).then(function(){\n",
              "                            \n",
              "var gd = document.getElementById('521a8364-f585-43e1-a8b8-f144fc4c25ea');\n",
              "var x = new MutationObserver(function (mutations, observer) {{\n",
              "        var display = window.getComputedStyle(gd).display;\n",
              "        if (!display || display === 'none') {{\n",
              "            console.log([gd, 'removed!']);\n",
              "            Plotly.purge(gd);\n",
              "            observer.disconnect();\n",
              "        }}\n",
              "}});\n",
              "\n",
              "// Listen for the removal of the full notebook cells\n",
              "var notebookContainer = gd.closest('#notebook-container');\n",
              "if (notebookContainer) {{\n",
              "    x.observe(notebookContainer, {childList: true});\n",
              "}}\n",
              "\n",
              "// Listen for the clearing of the current output cell\n",
              "var outputEl = gd.closest('.output');\n",
              "if (outputEl) {{\n",
              "    x.observe(outputEl, {childList: true});\n",
              "}}\n",
              "\n",
              "                        })                };                            </script>        </div>\n",
              "</body>\n",
              "</html>"
            ]
          },
          "metadata": {}
        }
      ]
    },
    {
      "cell_type": "markdown",
      "source": [
        "6. Keep rows that have pH value that is greater than 0 and print the shape\n"
      ],
      "metadata": {
        "id": "Z8WTYsd09Zfz"
      }
    },
    {
      "cell_type": "code",
      "metadata": {
        "id": "k8e9evO5MyxE",
        "colab": {
          "base_uri": "https://localhost:8080/"
        },
        "outputId": "43501342-5e9b-4964-cb12-08b54e5c8500"
      },
      "source": [
        "df= df[df.pH != 0]\n",
        "df.shape"
      ],
      "execution_count": null,
      "outputs": [
        {
          "output_type": "execute_result",
          "data": {
            "text/plain": [
              "(1584, 12)"
            ]
          },
          "metadata": {},
          "execution_count": 85
        }
      ]
    },
    {
      "cell_type": "markdown",
      "source": [
        "7. a. Chek missing values"
      ],
      "metadata": {
        "id": "Ozxr-6GN9z88"
      }
    },
    {
      "cell_type": "code",
      "source": [
        "df.isnull().sum()"
      ],
      "metadata": {
        "colab": {
          "base_uri": "https://localhost:8080/"
        },
        "id": "ABjH9OSg99QT",
        "outputId": "1c8f5c2b-46d1-492d-91e0-e801cdd5348e"
      },
      "execution_count": null,
      "outputs": [
        {
          "output_type": "execute_result",
          "data": {
            "text/plain": [
              "fixed acidity            0\n",
              "volatile acidity         0\n",
              "citric acid              0\n",
              "residual sugar           0\n",
              "chlorides                0\n",
              "free sulfur dioxide      0\n",
              "total sulfur dioxide     0\n",
              "density                 16\n",
              "pH                       0\n",
              "sulphates                0\n",
              "alcohol                  0\n",
              "quality                  0\n",
              "dtype: int64"
            ]
          },
          "metadata": {},
          "execution_count": 86
        }
      ]
    },
    {
      "cell_type": "markdown",
      "source": [
        "7. b. Delete rows with missing values"
      ],
      "metadata": {
        "id": "a0BB4K0Sqhhs"
      }
    },
    {
      "cell_type": "code",
      "source": [
        "df.dropna(axis=0 , inplace=True)\n",
        "df.isnull().sum()"
      ],
      "metadata": {
        "colab": {
          "base_uri": "https://localhost:8080/"
        },
        "id": "ywCCM1nX-OlY",
        "outputId": "5ef918a3-8ec0-4414-9c17-496372e84fb7"
      },
      "execution_count": null,
      "outputs": [
        {
          "output_type": "stream",
          "name": "stderr",
          "text": [
            "/usr/local/lib/python3.7/dist-packages/pandas/util/_decorators.py:311: SettingWithCopyWarning:\n",
            "\n",
            "\n",
            "A value is trying to be set on a copy of a slice from a DataFrame\n",
            "\n",
            "See the caveats in the documentation: https://pandas.pydata.org/pandas-docs/stable/user_guide/indexing.html#returning-a-view-versus-a-copy\n",
            "\n"
          ]
        },
        {
          "output_type": "execute_result",
          "data": {
            "text/plain": [
              "fixed acidity           0\n",
              "volatile acidity        0\n",
              "citric acid             0\n",
              "residual sugar          0\n",
              "chlorides               0\n",
              "free sulfur dioxide     0\n",
              "total sulfur dioxide    0\n",
              "density                 0\n",
              "pH                      0\n",
              "sulphates               0\n",
              "alcohol                 0\n",
              "quality                 0\n",
              "dtype: int64"
            ]
          },
          "metadata": {},
          "execution_count": 87
        }
      ]
    },
    {
      "cell_type": "markdown",
      "metadata": {
        "id": "ZYROR7w7QYrz"
      },
      "source": [
        "8. Sort the dataframe by alcohol from low to high and reset the index "
      ]
    },
    {
      "cell_type": "code",
      "metadata": {
        "id": "a8QkEbjCWUWo",
        "colab": {
          "base_uri": "https://localhost:8080/",
          "height": 363
        },
        "outputId": "30f26da1-dd9a-4b94-db82-2ff80baccc39"
      },
      "source": [
        "df=df.sort_values(by='alcohol')\n",
        "df.reset_index(inplace=True)\n",
        "df.head(10)"
      ],
      "execution_count": null,
      "outputs": [
        {
          "output_type": "execute_result",
          "data": {
            "text/plain": [
              "   index  fixed acidity  volatile acidity  citric acid  residual sugar  \\\n",
              "0    517           10.4              0.61         0.49             2.1   \n",
              "1    544           14.3              0.31         0.74             1.8   \n",
              "2   1436           10.0              0.38         0.38             1.6   \n",
              "3    371            7.9              0.24         0.40             1.6   \n",
              "4    528            8.2              0.42         0.49             2.6   \n",
              "5   1474            9.9              0.50         0.50            13.8   \n",
              "6   1476            9.9              0.50         0.50            13.8   \n",
              "7    496            7.8              0.52         0.25             1.9   \n",
              "8    601           13.2              0.46         0.52             2.2   \n",
              "9    239            8.2              1.00         0.09             2.3   \n",
              "\n",
              "   chlorides  free sulfur dioxide  total sulfur dioxide  density    pH  \\\n",
              "0      0.200                  5.0                  16.0  0.99940  3.16   \n",
              "1      0.075                  6.0                  15.0  1.00080  2.86   \n",
              "2      0.169                 27.0                  90.0  0.99914  3.15   \n",
              "3      0.056                 11.0                  25.0  0.99670  3.32   \n",
              "4      0.084                 32.0                  55.0  0.99880  3.34   \n",
              "5      0.205                 48.0                  82.0  1.00242  3.16   \n",
              "6      0.205                 48.0                  82.0  1.00242  3.16   \n",
              "7      0.081                 14.0                  38.0  0.99840  3.43   \n",
              "8      0.071                 12.0                  35.0  1.00060  3.10   \n",
              "9      0.065                  7.0                  37.0  0.99685  3.32   \n",
              "\n",
              "   sulphates  alcohol quality  \n",
              "0       0.63      8.4     bad  \n",
              "1       0.79      8.4    good  \n",
              "2       0.65      8.5     bad  \n",
              "3       0.87      8.7    good  \n",
              "4       0.75      8.7    good  \n",
              "5       0.75      8.8     bad  \n",
              "6       0.75      8.8     bad  \n",
              "7       0.65      9.0    good  \n",
              "8       0.56      9.0    good  \n",
              "9       0.55      9.0    good  "
            ],
            "text/html": [
              "\n",
              "  <div id=\"df-6ddb8ec8-4f00-4772-91c8-26b05a0403dc\">\n",
              "    <div class=\"colab-df-container\">\n",
              "      <div>\n",
              "<style scoped>\n",
              "    .dataframe tbody tr th:only-of-type {\n",
              "        vertical-align: middle;\n",
              "    }\n",
              "\n",
              "    .dataframe tbody tr th {\n",
              "        vertical-align: top;\n",
              "    }\n",
              "\n",
              "    .dataframe thead th {\n",
              "        text-align: right;\n",
              "    }\n",
              "</style>\n",
              "<table border=\"1\" class=\"dataframe\">\n",
              "  <thead>\n",
              "    <tr style=\"text-align: right;\">\n",
              "      <th></th>\n",
              "      <th>index</th>\n",
              "      <th>fixed acidity</th>\n",
              "      <th>volatile acidity</th>\n",
              "      <th>citric acid</th>\n",
              "      <th>residual sugar</th>\n",
              "      <th>chlorides</th>\n",
              "      <th>free sulfur dioxide</th>\n",
              "      <th>total sulfur dioxide</th>\n",
              "      <th>density</th>\n",
              "      <th>pH</th>\n",
              "      <th>sulphates</th>\n",
              "      <th>alcohol</th>\n",
              "      <th>quality</th>\n",
              "    </tr>\n",
              "  </thead>\n",
              "  <tbody>\n",
              "    <tr>\n",
              "      <th>0</th>\n",
              "      <td>517</td>\n",
              "      <td>10.4</td>\n",
              "      <td>0.61</td>\n",
              "      <td>0.49</td>\n",
              "      <td>2.1</td>\n",
              "      <td>0.200</td>\n",
              "      <td>5.0</td>\n",
              "      <td>16.0</td>\n",
              "      <td>0.99940</td>\n",
              "      <td>3.16</td>\n",
              "      <td>0.63</td>\n",
              "      <td>8.4</td>\n",
              "      <td>bad</td>\n",
              "    </tr>\n",
              "    <tr>\n",
              "      <th>1</th>\n",
              "      <td>544</td>\n",
              "      <td>14.3</td>\n",
              "      <td>0.31</td>\n",
              "      <td>0.74</td>\n",
              "      <td>1.8</td>\n",
              "      <td>0.075</td>\n",
              "      <td>6.0</td>\n",
              "      <td>15.0</td>\n",
              "      <td>1.00080</td>\n",
              "      <td>2.86</td>\n",
              "      <td>0.79</td>\n",
              "      <td>8.4</td>\n",
              "      <td>good</td>\n",
              "    </tr>\n",
              "    <tr>\n",
              "      <th>2</th>\n",
              "      <td>1436</td>\n",
              "      <td>10.0</td>\n",
              "      <td>0.38</td>\n",
              "      <td>0.38</td>\n",
              "      <td>1.6</td>\n",
              "      <td>0.169</td>\n",
              "      <td>27.0</td>\n",
              "      <td>90.0</td>\n",
              "      <td>0.99914</td>\n",
              "      <td>3.15</td>\n",
              "      <td>0.65</td>\n",
              "      <td>8.5</td>\n",
              "      <td>bad</td>\n",
              "    </tr>\n",
              "    <tr>\n",
              "      <th>3</th>\n",
              "      <td>371</td>\n",
              "      <td>7.9</td>\n",
              "      <td>0.24</td>\n",
              "      <td>0.40</td>\n",
              "      <td>1.6</td>\n",
              "      <td>0.056</td>\n",
              "      <td>11.0</td>\n",
              "      <td>25.0</td>\n",
              "      <td>0.99670</td>\n",
              "      <td>3.32</td>\n",
              "      <td>0.87</td>\n",
              "      <td>8.7</td>\n",
              "      <td>good</td>\n",
              "    </tr>\n",
              "    <tr>\n",
              "      <th>4</th>\n",
              "      <td>528</td>\n",
              "      <td>8.2</td>\n",
              "      <td>0.42</td>\n",
              "      <td>0.49</td>\n",
              "      <td>2.6</td>\n",
              "      <td>0.084</td>\n",
              "      <td>32.0</td>\n",
              "      <td>55.0</td>\n",
              "      <td>0.99880</td>\n",
              "      <td>3.34</td>\n",
              "      <td>0.75</td>\n",
              "      <td>8.7</td>\n",
              "      <td>good</td>\n",
              "    </tr>\n",
              "    <tr>\n",
              "      <th>5</th>\n",
              "      <td>1474</td>\n",
              "      <td>9.9</td>\n",
              "      <td>0.50</td>\n",
              "      <td>0.50</td>\n",
              "      <td>13.8</td>\n",
              "      <td>0.205</td>\n",
              "      <td>48.0</td>\n",
              "      <td>82.0</td>\n",
              "      <td>1.00242</td>\n",
              "      <td>3.16</td>\n",
              "      <td>0.75</td>\n",
              "      <td>8.8</td>\n",
              "      <td>bad</td>\n",
              "    </tr>\n",
              "    <tr>\n",
              "      <th>6</th>\n",
              "      <td>1476</td>\n",
              "      <td>9.9</td>\n",
              "      <td>0.50</td>\n",
              "      <td>0.50</td>\n",
              "      <td>13.8</td>\n",
              "      <td>0.205</td>\n",
              "      <td>48.0</td>\n",
              "      <td>82.0</td>\n",
              "      <td>1.00242</td>\n",
              "      <td>3.16</td>\n",
              "      <td>0.75</td>\n",
              "      <td>8.8</td>\n",
              "      <td>bad</td>\n",
              "    </tr>\n",
              "    <tr>\n",
              "      <th>7</th>\n",
              "      <td>496</td>\n",
              "      <td>7.8</td>\n",
              "      <td>0.52</td>\n",
              "      <td>0.25</td>\n",
              "      <td>1.9</td>\n",
              "      <td>0.081</td>\n",
              "      <td>14.0</td>\n",
              "      <td>38.0</td>\n",
              "      <td>0.99840</td>\n",
              "      <td>3.43</td>\n",
              "      <td>0.65</td>\n",
              "      <td>9.0</td>\n",
              "      <td>good</td>\n",
              "    </tr>\n",
              "    <tr>\n",
              "      <th>8</th>\n",
              "      <td>601</td>\n",
              "      <td>13.2</td>\n",
              "      <td>0.46</td>\n",
              "      <td>0.52</td>\n",
              "      <td>2.2</td>\n",
              "      <td>0.071</td>\n",
              "      <td>12.0</td>\n",
              "      <td>35.0</td>\n",
              "      <td>1.00060</td>\n",
              "      <td>3.10</td>\n",
              "      <td>0.56</td>\n",
              "      <td>9.0</td>\n",
              "      <td>good</td>\n",
              "    </tr>\n",
              "    <tr>\n",
              "      <th>9</th>\n",
              "      <td>239</td>\n",
              "      <td>8.2</td>\n",
              "      <td>1.00</td>\n",
              "      <td>0.09</td>\n",
              "      <td>2.3</td>\n",
              "      <td>0.065</td>\n",
              "      <td>7.0</td>\n",
              "      <td>37.0</td>\n",
              "      <td>0.99685</td>\n",
              "      <td>3.32</td>\n",
              "      <td>0.55</td>\n",
              "      <td>9.0</td>\n",
              "      <td>good</td>\n",
              "    </tr>\n",
              "  </tbody>\n",
              "</table>\n",
              "</div>\n",
              "      <button class=\"colab-df-convert\" onclick=\"convertToInteractive('df-6ddb8ec8-4f00-4772-91c8-26b05a0403dc')\"\n",
              "              title=\"Convert this dataframe to an interactive table.\"\n",
              "              style=\"display:none;\">\n",
              "        \n",
              "  <svg xmlns=\"http://www.w3.org/2000/svg\" height=\"24px\"viewBox=\"0 0 24 24\"\n",
              "       width=\"24px\">\n",
              "    <path d=\"M0 0h24v24H0V0z\" fill=\"none\"/>\n",
              "    <path d=\"M18.56 5.44l.94 2.06.94-2.06 2.06-.94-2.06-.94-.94-2.06-.94 2.06-2.06.94zm-11 1L8.5 8.5l.94-2.06 2.06-.94-2.06-.94L8.5 2.5l-.94 2.06-2.06.94zm10 10l.94 2.06.94-2.06 2.06-.94-2.06-.94-.94-2.06-.94 2.06-2.06.94z\"/><path d=\"M17.41 7.96l-1.37-1.37c-.4-.4-.92-.59-1.43-.59-.52 0-1.04.2-1.43.59L10.3 9.45l-7.72 7.72c-.78.78-.78 2.05 0 2.83L4 21.41c.39.39.9.59 1.41.59.51 0 1.02-.2 1.41-.59l7.78-7.78 2.81-2.81c.8-.78.8-2.07 0-2.86zM5.41 20L4 18.59l7.72-7.72 1.47 1.35L5.41 20z\"/>\n",
              "  </svg>\n",
              "      </button>\n",
              "      \n",
              "  <style>\n",
              "    .colab-df-container {\n",
              "      display:flex;\n",
              "      flex-wrap:wrap;\n",
              "      gap: 12px;\n",
              "    }\n",
              "\n",
              "    .colab-df-convert {\n",
              "      background-color: #E8F0FE;\n",
              "      border: none;\n",
              "      border-radius: 50%;\n",
              "      cursor: pointer;\n",
              "      display: none;\n",
              "      fill: #1967D2;\n",
              "      height: 32px;\n",
              "      padding: 0 0 0 0;\n",
              "      width: 32px;\n",
              "    }\n",
              "\n",
              "    .colab-df-convert:hover {\n",
              "      background-color: #E2EBFA;\n",
              "      box-shadow: 0px 1px 2px rgba(60, 64, 67, 0.3), 0px 1px 3px 1px rgba(60, 64, 67, 0.15);\n",
              "      fill: #174EA6;\n",
              "    }\n",
              "\n",
              "    [theme=dark] .colab-df-convert {\n",
              "      background-color: #3B4455;\n",
              "      fill: #D2E3FC;\n",
              "    }\n",
              "\n",
              "    [theme=dark] .colab-df-convert:hover {\n",
              "      background-color: #434B5C;\n",
              "      box-shadow: 0px 1px 3px 1px rgba(0, 0, 0, 0.15);\n",
              "      filter: drop-shadow(0px 1px 2px rgba(0, 0, 0, 0.3));\n",
              "      fill: #FFFFFF;\n",
              "    }\n",
              "  </style>\n",
              "\n",
              "      <script>\n",
              "        const buttonEl =\n",
              "          document.querySelector('#df-6ddb8ec8-4f00-4772-91c8-26b05a0403dc button.colab-df-convert');\n",
              "        buttonEl.style.display =\n",
              "          google.colab.kernel.accessAllowed ? 'block' : 'none';\n",
              "\n",
              "        async function convertToInteractive(key) {\n",
              "          const element = document.querySelector('#df-6ddb8ec8-4f00-4772-91c8-26b05a0403dc');\n",
              "          const dataTable =\n",
              "            await google.colab.kernel.invokeFunction('convertToInteractive',\n",
              "                                                     [key], {});\n",
              "          if (!dataTable) return;\n",
              "\n",
              "          const docLinkHtml = 'Like what you see? Visit the ' +\n",
              "            '<a target=\"_blank\" href=https://colab.research.google.com/notebooks/data_table.ipynb>data table notebook</a>'\n",
              "            + ' to learn more about interactive tables.';\n",
              "          element.innerHTML = '';\n",
              "          dataTable['output_type'] = 'display_data';\n",
              "          await google.colab.output.renderOutput(dataTable, element);\n",
              "          const docLink = document.createElement('div');\n",
              "          docLink.innerHTML = docLinkHtml;\n",
              "          element.appendChild(docLink);\n",
              "        }\n",
              "      </script>\n",
              "    </div>\n",
              "  </div>\n",
              "  "
            ]
          },
          "metadata": {},
          "execution_count": 88
        }
      ]
    },
    {
      "cell_type": "markdown",
      "source": [
        "8. Draw correlation heat map in order to find highly correlated features(drop highly correlated features **if neseccesery**, higher then 0.85)"
      ],
      "metadata": {
        "id": "s-io9fs8AVfp"
      }
    },
    {
      "cell_type": "code",
      "source": [
        "corr_df=df.corr()\n",
        "fig = go.Figure()\n",
        "fig.add_traces(go.Heatmap(\n",
        "    z=corr_df, \n",
        "    x=corr_df.columns, \n",
        "    y=corr_df.columns,\n",
        "    zmax=1, \n",
        "    zmin=-1\n",
        "))\n",
        "fig.update_layout({\n",
        "    'title':\"Features Correlation Heatmap\"\n",
        "})"
      ],
      "metadata": {
        "colab": {
          "base_uri": "https://localhost:8080/",
          "height": 542
        },
        "id": "3ky95rmDIaFR",
        "outputId": "1099670d-85ef-4583-f7df-ad1bf508550a"
      },
      "execution_count": null,
      "outputs": [
        {
          "output_type": "display_data",
          "data": {
            "text/html": [
              "<html>\n",
              "<head><meta charset=\"utf-8\" /></head>\n",
              "<body>\n",
              "    <div>            <script src=\"https://cdnjs.cloudflare.com/ajax/libs/mathjax/2.7.5/MathJax.js?config=TeX-AMS-MML_SVG\"></script><script type=\"text/javascript\">if (window.MathJax) {MathJax.Hub.Config({SVG: {font: \"STIX-Web\"}});}</script>                <script type=\"text/javascript\">window.PlotlyConfig = {MathJaxConfig: 'local'};</script>\n",
              "        <script src=\"https://cdn.plot.ly/plotly-2.8.3.min.js\"></script>                <div id=\"e6565e28-ca0b-43fc-90cc-0d36e297116f\" class=\"plotly-graph-div\" style=\"height:525px; width:100%;\"></div>            <script type=\"text/javascript\">                                    window.PLOTLYENV=window.PLOTLYENV || {};                                    if (document.getElementById(\"e6565e28-ca0b-43fc-90cc-0d36e297116f\")) {                    Plotly.newPlot(                        \"e6565e28-ca0b-43fc-90cc-0d36e297116f\",                        [{\"x\":[\"index\",\"fixed acidity\",\"volatile acidity\",\"citric acid\",\"residual sugar\",\"chlorides\",\"free sulfur dioxide\",\"total sulfur dioxide\",\"density\",\"pH\",\"sulphates\",\"alcohol\"],\"y\":[\"index\",\"fixed acidity\",\"volatile acidity\",\"citric acid\",\"residual sugar\",\"chlorides\",\"free sulfur dioxide\",\"total sulfur dioxide\",\"density\",\"pH\",\"sulphates\",\"alcohol\"],\"z\":[[1.0,-0.2732826323826383,-0.003779271303150978,-0.15685314096854677,-0.028450169259348387,-0.12297053264848011,0.09199319853484861,-0.11560951524849793,-0.3718618151563213,0.14031579895946025,-0.12964578361345352,0.2501518290607598],[-0.2732826323826383,1.0,-0.2540156053394261,0.6683426959742822,0.11283250695007378,0.09247341313099058,-0.15484308055628496,-0.11138068026271221,0.6664597822765707,-0.6832530838929236,0.18389763337137421,-0.06244159276749997],[-0.003779271303150978,-0.2540156053394261,1.0,-0.5529496612019419,0.003604266765461168,0.06268444347241674,-0.008545133717823197,0.08196727618578943,0.028032184962245795,0.22658138034227085,-0.25836639448714716,-0.21233335324203303],[-0.15685314096854677,0.6683426959742822,-0.5529496612019419,1.0,0.140173980673794,0.20528525389488592,-0.0608822261017054,0.035456728154529465,0.35975590084624487,-0.5401841676506617,0.31377687635635576,0.11233096447311579],[-0.028450169259348387,0.11283250695007378,0.003604266765461168,0.140173980673794,1.0,0.05643207581850203,0.18952069600488447,0.20229823108081957,0.355077428549522,-0.08518720675643142,0.0016057267041893891,0.04189885910614257],[-0.12297053264848011,0.09247341313099058,0.06268444347241674,0.20528525389488592,0.05643207581850203,1.0,0.007280093953278329,0.04995603914710068,0.2005371974897209,-0.26720402247950187,0.37910571961865314,-0.22245029803186825],[0.09199319853484861,-0.15484308055628496,-0.008545133717823197,-0.0608822261017054,0.18952069600488447,0.007280093953278329,1.0,0.6670266364798708,-0.022884679751782894,0.07397856832528975,0.04590347606396488,-0.06860004291824964],[-0.11560951524849793,-0.11138068026271221,0.08196727618578943,0.035456728154529465,0.20229823108081957,0.04995603914710068,0.6670266364798708,1.0,0.07163104292566803,-0.06368894775871907,0.03678086129178286,-0.20206728582687694],[-0.3718618151563213,0.6664597822765707,0.028032184962245795,0.35975590084624487,0.355077428549522,0.2005371974897209,-0.022884679751782894,0.07163104292566803,1.0,-0.3379358829446427,0.14848557579427163,-0.49983909412203165],[0.14031579895946025,-0.6832530838929236,0.22658138034227085,-0.5401841676506617,-0.08518720675643142,-0.26720402247950187,0.07397856832528975,-0.06368894775871907,-0.3379358829446427,1.0,-0.1908593915837975,0.20360439830375726],[-0.12964578361345352,0.18389763337137421,-0.25836639448714716,0.31377687635635576,0.0016057267041893891,0.37910571961865314,0.04590347606396488,0.03678086129178286,0.14848557579427163,-0.1908593915837975,1.0,0.0943708261592616],[0.2501518290607598,-0.06244159276749997,-0.21233335324203303,0.11233096447311579,0.04189885910614257,-0.22245029803186825,-0.06860004291824964,-0.20206728582687694,-0.49983909412203165,0.20360439830375726,0.0943708261592616,1.0]],\"zmax\":1,\"zmin\":-1,\"type\":\"heatmap\"}],                        {\"template\":{\"data\":{\"bar\":[{\"error_x\":{\"color\":\"#2a3f5f\"},\"error_y\":{\"color\":\"#2a3f5f\"},\"marker\":{\"line\":{\"color\":\"#E5ECF6\",\"width\":0.5},\"pattern\":{\"fillmode\":\"overlay\",\"size\":10,\"solidity\":0.2}},\"type\":\"bar\"}],\"barpolar\":[{\"marker\":{\"line\":{\"color\":\"#E5ECF6\",\"width\":0.5},\"pattern\":{\"fillmode\":\"overlay\",\"size\":10,\"solidity\":0.2}},\"type\":\"barpolar\"}],\"carpet\":[{\"aaxis\":{\"endlinecolor\":\"#2a3f5f\",\"gridcolor\":\"white\",\"linecolor\":\"white\",\"minorgridcolor\":\"white\",\"startlinecolor\":\"#2a3f5f\"},\"baxis\":{\"endlinecolor\":\"#2a3f5f\",\"gridcolor\":\"white\",\"linecolor\":\"white\",\"minorgridcolor\":\"white\",\"startlinecolor\":\"#2a3f5f\"},\"type\":\"carpet\"}],\"choropleth\":[{\"colorbar\":{\"outlinewidth\":0,\"ticks\":\"\"},\"type\":\"choropleth\"}],\"contour\":[{\"colorbar\":{\"outlinewidth\":0,\"ticks\":\"\"},\"colorscale\":[[0.0,\"#0d0887\"],[0.1111111111111111,\"#46039f\"],[0.2222222222222222,\"#7201a8\"],[0.3333333333333333,\"#9c179e\"],[0.4444444444444444,\"#bd3786\"],[0.5555555555555556,\"#d8576b\"],[0.6666666666666666,\"#ed7953\"],[0.7777777777777778,\"#fb9f3a\"],[0.8888888888888888,\"#fdca26\"],[1.0,\"#f0f921\"]],\"type\":\"contour\"}],\"contourcarpet\":[{\"colorbar\":{\"outlinewidth\":0,\"ticks\":\"\"},\"type\":\"contourcarpet\"}],\"heatmap\":[{\"colorbar\":{\"outlinewidth\":0,\"ticks\":\"\"},\"colorscale\":[[0.0,\"#0d0887\"],[0.1111111111111111,\"#46039f\"],[0.2222222222222222,\"#7201a8\"],[0.3333333333333333,\"#9c179e\"],[0.4444444444444444,\"#bd3786\"],[0.5555555555555556,\"#d8576b\"],[0.6666666666666666,\"#ed7953\"],[0.7777777777777778,\"#fb9f3a\"],[0.8888888888888888,\"#fdca26\"],[1.0,\"#f0f921\"]],\"type\":\"heatmap\"}],\"heatmapgl\":[{\"colorbar\":{\"outlinewidth\":0,\"ticks\":\"\"},\"colorscale\":[[0.0,\"#0d0887\"],[0.1111111111111111,\"#46039f\"],[0.2222222222222222,\"#7201a8\"],[0.3333333333333333,\"#9c179e\"],[0.4444444444444444,\"#bd3786\"],[0.5555555555555556,\"#d8576b\"],[0.6666666666666666,\"#ed7953\"],[0.7777777777777778,\"#fb9f3a\"],[0.8888888888888888,\"#fdca26\"],[1.0,\"#f0f921\"]],\"type\":\"heatmapgl\"}],\"histogram\":[{\"marker\":{\"pattern\":{\"fillmode\":\"overlay\",\"size\":10,\"solidity\":0.2}},\"type\":\"histogram\"}],\"histogram2d\":[{\"colorbar\":{\"outlinewidth\":0,\"ticks\":\"\"},\"colorscale\":[[0.0,\"#0d0887\"],[0.1111111111111111,\"#46039f\"],[0.2222222222222222,\"#7201a8\"],[0.3333333333333333,\"#9c179e\"],[0.4444444444444444,\"#bd3786\"],[0.5555555555555556,\"#d8576b\"],[0.6666666666666666,\"#ed7953\"],[0.7777777777777778,\"#fb9f3a\"],[0.8888888888888888,\"#fdca26\"],[1.0,\"#f0f921\"]],\"type\":\"histogram2d\"}],\"histogram2dcontour\":[{\"colorbar\":{\"outlinewidth\":0,\"ticks\":\"\"},\"colorscale\":[[0.0,\"#0d0887\"],[0.1111111111111111,\"#46039f\"],[0.2222222222222222,\"#7201a8\"],[0.3333333333333333,\"#9c179e\"],[0.4444444444444444,\"#bd3786\"],[0.5555555555555556,\"#d8576b\"],[0.6666666666666666,\"#ed7953\"],[0.7777777777777778,\"#fb9f3a\"],[0.8888888888888888,\"#fdca26\"],[1.0,\"#f0f921\"]],\"type\":\"histogram2dcontour\"}],\"mesh3d\":[{\"colorbar\":{\"outlinewidth\":0,\"ticks\":\"\"},\"type\":\"mesh3d\"}],\"parcoords\":[{\"line\":{\"colorbar\":{\"outlinewidth\":0,\"ticks\":\"\"}},\"type\":\"parcoords\"}],\"pie\":[{\"automargin\":true,\"type\":\"pie\"}],\"scatter\":[{\"marker\":{\"colorbar\":{\"outlinewidth\":0,\"ticks\":\"\"}},\"type\":\"scatter\"}],\"scatter3d\":[{\"line\":{\"colorbar\":{\"outlinewidth\":0,\"ticks\":\"\"}},\"marker\":{\"colorbar\":{\"outlinewidth\":0,\"ticks\":\"\"}},\"type\":\"scatter3d\"}],\"scattercarpet\":[{\"marker\":{\"colorbar\":{\"outlinewidth\":0,\"ticks\":\"\"}},\"type\":\"scattercarpet\"}],\"scattergeo\":[{\"marker\":{\"colorbar\":{\"outlinewidth\":0,\"ticks\":\"\"}},\"type\":\"scattergeo\"}],\"scattergl\":[{\"marker\":{\"colorbar\":{\"outlinewidth\":0,\"ticks\":\"\"}},\"type\":\"scattergl\"}],\"scattermapbox\":[{\"marker\":{\"colorbar\":{\"outlinewidth\":0,\"ticks\":\"\"}},\"type\":\"scattermapbox\"}],\"scatterpolar\":[{\"marker\":{\"colorbar\":{\"outlinewidth\":0,\"ticks\":\"\"}},\"type\":\"scatterpolar\"}],\"scatterpolargl\":[{\"marker\":{\"colorbar\":{\"outlinewidth\":0,\"ticks\":\"\"}},\"type\":\"scatterpolargl\"}],\"scatterternary\":[{\"marker\":{\"colorbar\":{\"outlinewidth\":0,\"ticks\":\"\"}},\"type\":\"scatterternary\"}],\"surface\":[{\"colorbar\":{\"outlinewidth\":0,\"ticks\":\"\"},\"colorscale\":[[0.0,\"#0d0887\"],[0.1111111111111111,\"#46039f\"],[0.2222222222222222,\"#7201a8\"],[0.3333333333333333,\"#9c179e\"],[0.4444444444444444,\"#bd3786\"],[0.5555555555555556,\"#d8576b\"],[0.6666666666666666,\"#ed7953\"],[0.7777777777777778,\"#fb9f3a\"],[0.8888888888888888,\"#fdca26\"],[1.0,\"#f0f921\"]],\"type\":\"surface\"}],\"table\":[{\"cells\":{\"fill\":{\"color\":\"#EBF0F8\"},\"line\":{\"color\":\"white\"}},\"header\":{\"fill\":{\"color\":\"#C8D4E3\"},\"line\":{\"color\":\"white\"}},\"type\":\"table\"}]},\"layout\":{\"annotationdefaults\":{\"arrowcolor\":\"#2a3f5f\",\"arrowhead\":0,\"arrowwidth\":1},\"autotypenumbers\":\"strict\",\"coloraxis\":{\"colorbar\":{\"outlinewidth\":0,\"ticks\":\"\"}},\"colorscale\":{\"diverging\":[[0,\"#8e0152\"],[0.1,\"#c51b7d\"],[0.2,\"#de77ae\"],[0.3,\"#f1b6da\"],[0.4,\"#fde0ef\"],[0.5,\"#f7f7f7\"],[0.6,\"#e6f5d0\"],[0.7,\"#b8e186\"],[0.8,\"#7fbc41\"],[0.9,\"#4d9221\"],[1,\"#276419\"]],\"sequential\":[[0.0,\"#0d0887\"],[0.1111111111111111,\"#46039f\"],[0.2222222222222222,\"#7201a8\"],[0.3333333333333333,\"#9c179e\"],[0.4444444444444444,\"#bd3786\"],[0.5555555555555556,\"#d8576b\"],[0.6666666666666666,\"#ed7953\"],[0.7777777777777778,\"#fb9f3a\"],[0.8888888888888888,\"#fdca26\"],[1.0,\"#f0f921\"]],\"sequentialminus\":[[0.0,\"#0d0887\"],[0.1111111111111111,\"#46039f\"],[0.2222222222222222,\"#7201a8\"],[0.3333333333333333,\"#9c179e\"],[0.4444444444444444,\"#bd3786\"],[0.5555555555555556,\"#d8576b\"],[0.6666666666666666,\"#ed7953\"],[0.7777777777777778,\"#fb9f3a\"],[0.8888888888888888,\"#fdca26\"],[1.0,\"#f0f921\"]]},\"colorway\":[\"#636efa\",\"#EF553B\",\"#00cc96\",\"#ab63fa\",\"#FFA15A\",\"#19d3f3\",\"#FF6692\",\"#B6E880\",\"#FF97FF\",\"#FECB52\"],\"font\":{\"color\":\"#2a3f5f\"},\"geo\":{\"bgcolor\":\"white\",\"lakecolor\":\"white\",\"landcolor\":\"#E5ECF6\",\"showlakes\":true,\"showland\":true,\"subunitcolor\":\"white\"},\"hoverlabel\":{\"align\":\"left\"},\"hovermode\":\"closest\",\"mapbox\":{\"style\":\"light\"},\"paper_bgcolor\":\"white\",\"plot_bgcolor\":\"#E5ECF6\",\"polar\":{\"angularaxis\":{\"gridcolor\":\"white\",\"linecolor\":\"white\",\"ticks\":\"\"},\"bgcolor\":\"#E5ECF6\",\"radialaxis\":{\"gridcolor\":\"white\",\"linecolor\":\"white\",\"ticks\":\"\"}},\"scene\":{\"xaxis\":{\"backgroundcolor\":\"#E5ECF6\",\"gridcolor\":\"white\",\"gridwidth\":2,\"linecolor\":\"white\",\"showbackground\":true,\"ticks\":\"\",\"zerolinecolor\":\"white\"},\"yaxis\":{\"backgroundcolor\":\"#E5ECF6\",\"gridcolor\":\"white\",\"gridwidth\":2,\"linecolor\":\"white\",\"showbackground\":true,\"ticks\":\"\",\"zerolinecolor\":\"white\"},\"zaxis\":{\"backgroundcolor\":\"#E5ECF6\",\"gridcolor\":\"white\",\"gridwidth\":2,\"linecolor\":\"white\",\"showbackground\":true,\"ticks\":\"\",\"zerolinecolor\":\"white\"}},\"shapedefaults\":{\"line\":{\"color\":\"#2a3f5f\"}},\"ternary\":{\"aaxis\":{\"gridcolor\":\"white\",\"linecolor\":\"white\",\"ticks\":\"\"},\"baxis\":{\"gridcolor\":\"white\",\"linecolor\":\"white\",\"ticks\":\"\"},\"bgcolor\":\"#E5ECF6\",\"caxis\":{\"gridcolor\":\"white\",\"linecolor\":\"white\",\"ticks\":\"\"}},\"title\":{\"x\":0.05},\"xaxis\":{\"automargin\":true,\"gridcolor\":\"white\",\"linecolor\":\"white\",\"ticks\":\"\",\"title\":{\"standoff\":15},\"zerolinecolor\":\"white\",\"zerolinewidth\":2},\"yaxis\":{\"automargin\":true,\"gridcolor\":\"white\",\"linecolor\":\"white\",\"ticks\":\"\",\"title\":{\"standoff\":15},\"zerolinecolor\":\"white\",\"zerolinewidth\":2}}},\"title\":{\"text\":\"Features Correlation Heatmap\"}},                        {\"responsive\": true}                    ).then(function(){\n",
              "                            \n",
              "var gd = document.getElementById('e6565e28-ca0b-43fc-90cc-0d36e297116f');\n",
              "var x = new MutationObserver(function (mutations, observer) {{\n",
              "        var display = window.getComputedStyle(gd).display;\n",
              "        if (!display || display === 'none') {{\n",
              "            console.log([gd, 'removed!']);\n",
              "            Plotly.purge(gd);\n",
              "            observer.disconnect();\n",
              "        }}\n",
              "}});\n",
              "\n",
              "// Listen for the removal of the full notebook cells\n",
              "var notebookContainer = gd.closest('#notebook-container');\n",
              "if (notebookContainer) {{\n",
              "    x.observe(notebookContainer, {childList: true});\n",
              "}}\n",
              "\n",
              "// Listen for the clearing of the current output cell\n",
              "var outputEl = gd.closest('.output');\n",
              "if (outputEl) {{\n",
              "    x.observe(outputEl, {childList: true});\n",
              "}}\n",
              "\n",
              "                        })                };                            </script>        </div>\n",
              "</body>\n",
              "</html>"
            ]
          },
          "metadata": {}
        }
      ]
    },
    {
      "cell_type": "code",
      "source": [
        "#check if there is highly correlated features, higher then 0.85 --> not exist\n",
        "cols = corr_df.columns.to_list()\n",
        "for i in range(len(cols)):\n",
        "  print(cols[i], ': ', end=' ')\n",
        "  for j in range(len(cols)):\n",
        "    if abs(corr_df.iloc[i,j]) >= 0.85 and cols[i] is not cols[j] :\n",
        "      print(cols[j], end=', ')\n",
        "  print()"
      ],
      "metadata": {
        "colab": {
          "base_uri": "https://localhost:8080/"
        },
        "id": "vfoiF-U6xTP7",
        "outputId": "d76eee03-a6b9-4407-8739-283407cb9be2"
      },
      "execution_count": null,
      "outputs": [
        {
          "output_type": "stream",
          "name": "stdout",
          "text": [
            "index :  \n",
            "fixed acidity :  \n",
            "volatile acidity :  \n",
            "citric acid :  \n",
            "residual sugar :  \n",
            "chlorides :  \n",
            "free sulfur dioxide :  \n",
            "total sulfur dioxide :  \n",
            "density :  \n",
            "pH :  \n",
            "sulphates :  \n",
            "alcohol :  \n"
          ]
        }
      ]
    },
    {
      "cell_type": "markdown",
      "source": [
        "9. Convert the 'quality' values to 1, 0 ('good' or 'bad) it's essential for running the model"
      ],
      "metadata": {
        "id": "9lVVooWzA0Yz"
      }
    },
    {
      "cell_type": "code",
      "source": [
        "from pandas._libs import index\n",
        "df['quality'].replace(['bad', 'good'], [0, 1], inplace=True)\n",
        "df.drop(['index'], axis=1,inplace=True)\n",
        "df"
      ],
      "metadata": {
        "colab": {
          "base_uri": "https://localhost:8080/",
          "height": 424
        },
        "id": "KvP07N4RBQSH",
        "outputId": "910fd9c9-abfb-4b18-b995-de23320e438d"
      },
      "execution_count": null,
      "outputs": [
        {
          "output_type": "execute_result",
          "data": {
            "text/plain": [
              "      fixed acidity  volatile acidity  citric acid  residual sugar  chlorides  \\\n",
              "0              10.4              0.61         0.49             2.1      0.200   \n",
              "1              14.3              0.31         0.74             1.8      0.075   \n",
              "2              10.0              0.38         0.38             1.6      0.169   \n",
              "3               7.9              0.24         0.40             1.6      0.056   \n",
              "4               8.2              0.42         0.49             2.6      0.084   \n",
              "...             ...               ...          ...             ...        ...   \n",
              "1563            5.0              0.42         0.24             2.0      0.060   \n",
              "1564            5.5              0.49         0.03             1.8      0.044   \n",
              "1565            5.2              0.34         0.00             1.8      0.050   \n",
              "1566            8.8              0.46         0.45             2.6      0.065   \n",
              "1567           15.9              0.36         0.65             7.5      0.096   \n",
              "\n",
              "      free sulfur dioxide  total sulfur dioxide  density    pH  sulphates  \\\n",
              "0                     5.0                  16.0  0.99940  3.16       0.63   \n",
              "1                     6.0                  15.0  1.00080  2.86       0.79   \n",
              "2                    27.0                  90.0  0.99914  3.15       0.65   \n",
              "3                    11.0                  25.0  0.99670  3.32       0.87   \n",
              "4                    32.0                  55.0  0.99880  3.34       0.75   \n",
              "...                   ...                   ...      ...   ...        ...   \n",
              "1563                 19.0                  50.0  0.99170  3.72       0.74   \n",
              "1564                 28.0                  87.0  0.99080  3.50       0.82   \n",
              "1565                 27.0                  63.0  0.99160  3.68       0.79   \n",
              "1566                  7.0                  18.0  0.99470  3.32       0.79   \n",
              "1567                 22.0                  71.0  0.99760  2.98       0.84   \n",
              "\n",
              "      alcohol  quality  \n",
              "0         8.4        0  \n",
              "1         8.4        1  \n",
              "2         8.5        0  \n",
              "3         8.7        1  \n",
              "4         8.7        1  \n",
              "...       ...      ...  \n",
              "1563     14.0        1  \n",
              "1564     14.0        1  \n",
              "1565     14.0        1  \n",
              "1566     14.0        1  \n",
              "1567     14.9        0  \n",
              "\n",
              "[1568 rows x 12 columns]"
            ],
            "text/html": [
              "\n",
              "  <div id=\"df-041ddd46-6f9c-4ec8-bda2-f0e8aba4dc7a\">\n",
              "    <div class=\"colab-df-container\">\n",
              "      <div>\n",
              "<style scoped>\n",
              "    .dataframe tbody tr th:only-of-type {\n",
              "        vertical-align: middle;\n",
              "    }\n",
              "\n",
              "    .dataframe tbody tr th {\n",
              "        vertical-align: top;\n",
              "    }\n",
              "\n",
              "    .dataframe thead th {\n",
              "        text-align: right;\n",
              "    }\n",
              "</style>\n",
              "<table border=\"1\" class=\"dataframe\">\n",
              "  <thead>\n",
              "    <tr style=\"text-align: right;\">\n",
              "      <th></th>\n",
              "      <th>fixed acidity</th>\n",
              "      <th>volatile acidity</th>\n",
              "      <th>citric acid</th>\n",
              "      <th>residual sugar</th>\n",
              "      <th>chlorides</th>\n",
              "      <th>free sulfur dioxide</th>\n",
              "      <th>total sulfur dioxide</th>\n",
              "      <th>density</th>\n",
              "      <th>pH</th>\n",
              "      <th>sulphates</th>\n",
              "      <th>alcohol</th>\n",
              "      <th>quality</th>\n",
              "    </tr>\n",
              "  </thead>\n",
              "  <tbody>\n",
              "    <tr>\n",
              "      <th>0</th>\n",
              "      <td>10.4</td>\n",
              "      <td>0.61</td>\n",
              "      <td>0.49</td>\n",
              "      <td>2.1</td>\n",
              "      <td>0.200</td>\n",
              "      <td>5.0</td>\n",
              "      <td>16.0</td>\n",
              "      <td>0.99940</td>\n",
              "      <td>3.16</td>\n",
              "      <td>0.63</td>\n",
              "      <td>8.4</td>\n",
              "      <td>0</td>\n",
              "    </tr>\n",
              "    <tr>\n",
              "      <th>1</th>\n",
              "      <td>14.3</td>\n",
              "      <td>0.31</td>\n",
              "      <td>0.74</td>\n",
              "      <td>1.8</td>\n",
              "      <td>0.075</td>\n",
              "      <td>6.0</td>\n",
              "      <td>15.0</td>\n",
              "      <td>1.00080</td>\n",
              "      <td>2.86</td>\n",
              "      <td>0.79</td>\n",
              "      <td>8.4</td>\n",
              "      <td>1</td>\n",
              "    </tr>\n",
              "    <tr>\n",
              "      <th>2</th>\n",
              "      <td>10.0</td>\n",
              "      <td>0.38</td>\n",
              "      <td>0.38</td>\n",
              "      <td>1.6</td>\n",
              "      <td>0.169</td>\n",
              "      <td>27.0</td>\n",
              "      <td>90.0</td>\n",
              "      <td>0.99914</td>\n",
              "      <td>3.15</td>\n",
              "      <td>0.65</td>\n",
              "      <td>8.5</td>\n",
              "      <td>0</td>\n",
              "    </tr>\n",
              "    <tr>\n",
              "      <th>3</th>\n",
              "      <td>7.9</td>\n",
              "      <td>0.24</td>\n",
              "      <td>0.40</td>\n",
              "      <td>1.6</td>\n",
              "      <td>0.056</td>\n",
              "      <td>11.0</td>\n",
              "      <td>25.0</td>\n",
              "      <td>0.99670</td>\n",
              "      <td>3.32</td>\n",
              "      <td>0.87</td>\n",
              "      <td>8.7</td>\n",
              "      <td>1</td>\n",
              "    </tr>\n",
              "    <tr>\n",
              "      <th>4</th>\n",
              "      <td>8.2</td>\n",
              "      <td>0.42</td>\n",
              "      <td>0.49</td>\n",
              "      <td>2.6</td>\n",
              "      <td>0.084</td>\n",
              "      <td>32.0</td>\n",
              "      <td>55.0</td>\n",
              "      <td>0.99880</td>\n",
              "      <td>3.34</td>\n",
              "      <td>0.75</td>\n",
              "      <td>8.7</td>\n",
              "      <td>1</td>\n",
              "    </tr>\n",
              "    <tr>\n",
              "      <th>...</th>\n",
              "      <td>...</td>\n",
              "      <td>...</td>\n",
              "      <td>...</td>\n",
              "      <td>...</td>\n",
              "      <td>...</td>\n",
              "      <td>...</td>\n",
              "      <td>...</td>\n",
              "      <td>...</td>\n",
              "      <td>...</td>\n",
              "      <td>...</td>\n",
              "      <td>...</td>\n",
              "      <td>...</td>\n",
              "    </tr>\n",
              "    <tr>\n",
              "      <th>1563</th>\n",
              "      <td>5.0</td>\n",
              "      <td>0.42</td>\n",
              "      <td>0.24</td>\n",
              "      <td>2.0</td>\n",
              "      <td>0.060</td>\n",
              "      <td>19.0</td>\n",
              "      <td>50.0</td>\n",
              "      <td>0.99170</td>\n",
              "      <td>3.72</td>\n",
              "      <td>0.74</td>\n",
              "      <td>14.0</td>\n",
              "      <td>1</td>\n",
              "    </tr>\n",
              "    <tr>\n",
              "      <th>1564</th>\n",
              "      <td>5.5</td>\n",
              "      <td>0.49</td>\n",
              "      <td>0.03</td>\n",
              "      <td>1.8</td>\n",
              "      <td>0.044</td>\n",
              "      <td>28.0</td>\n",
              "      <td>87.0</td>\n",
              "      <td>0.99080</td>\n",
              "      <td>3.50</td>\n",
              "      <td>0.82</td>\n",
              "      <td>14.0</td>\n",
              "      <td>1</td>\n",
              "    </tr>\n",
              "    <tr>\n",
              "      <th>1565</th>\n",
              "      <td>5.2</td>\n",
              "      <td>0.34</td>\n",
              "      <td>0.00</td>\n",
              "      <td>1.8</td>\n",
              "      <td>0.050</td>\n",
              "      <td>27.0</td>\n",
              "      <td>63.0</td>\n",
              "      <td>0.99160</td>\n",
              "      <td>3.68</td>\n",
              "      <td>0.79</td>\n",
              "      <td>14.0</td>\n",
              "      <td>1</td>\n",
              "    </tr>\n",
              "    <tr>\n",
              "      <th>1566</th>\n",
              "      <td>8.8</td>\n",
              "      <td>0.46</td>\n",
              "      <td>0.45</td>\n",
              "      <td>2.6</td>\n",
              "      <td>0.065</td>\n",
              "      <td>7.0</td>\n",
              "      <td>18.0</td>\n",
              "      <td>0.99470</td>\n",
              "      <td>3.32</td>\n",
              "      <td>0.79</td>\n",
              "      <td>14.0</td>\n",
              "      <td>1</td>\n",
              "    </tr>\n",
              "    <tr>\n",
              "      <th>1567</th>\n",
              "      <td>15.9</td>\n",
              "      <td>0.36</td>\n",
              "      <td>0.65</td>\n",
              "      <td>7.5</td>\n",
              "      <td>0.096</td>\n",
              "      <td>22.0</td>\n",
              "      <td>71.0</td>\n",
              "      <td>0.99760</td>\n",
              "      <td>2.98</td>\n",
              "      <td>0.84</td>\n",
              "      <td>14.9</td>\n",
              "      <td>0</td>\n",
              "    </tr>\n",
              "  </tbody>\n",
              "</table>\n",
              "<p>1568 rows × 12 columns</p>\n",
              "</div>\n",
              "      <button class=\"colab-df-convert\" onclick=\"convertToInteractive('df-041ddd46-6f9c-4ec8-bda2-f0e8aba4dc7a')\"\n",
              "              title=\"Convert this dataframe to an interactive table.\"\n",
              "              style=\"display:none;\">\n",
              "        \n",
              "  <svg xmlns=\"http://www.w3.org/2000/svg\" height=\"24px\"viewBox=\"0 0 24 24\"\n",
              "       width=\"24px\">\n",
              "    <path d=\"M0 0h24v24H0V0z\" fill=\"none\"/>\n",
              "    <path d=\"M18.56 5.44l.94 2.06.94-2.06 2.06-.94-2.06-.94-.94-2.06-.94 2.06-2.06.94zm-11 1L8.5 8.5l.94-2.06 2.06-.94-2.06-.94L8.5 2.5l-.94 2.06-2.06.94zm10 10l.94 2.06.94-2.06 2.06-.94-2.06-.94-.94-2.06-.94 2.06-2.06.94z\"/><path d=\"M17.41 7.96l-1.37-1.37c-.4-.4-.92-.59-1.43-.59-.52 0-1.04.2-1.43.59L10.3 9.45l-7.72 7.72c-.78.78-.78 2.05 0 2.83L4 21.41c.39.39.9.59 1.41.59.51 0 1.02-.2 1.41-.59l7.78-7.78 2.81-2.81c.8-.78.8-2.07 0-2.86zM5.41 20L4 18.59l7.72-7.72 1.47 1.35L5.41 20z\"/>\n",
              "  </svg>\n",
              "      </button>\n",
              "      \n",
              "  <style>\n",
              "    .colab-df-container {\n",
              "      display:flex;\n",
              "      flex-wrap:wrap;\n",
              "      gap: 12px;\n",
              "    }\n",
              "\n",
              "    .colab-df-convert {\n",
              "      background-color: #E8F0FE;\n",
              "      border: none;\n",
              "      border-radius: 50%;\n",
              "      cursor: pointer;\n",
              "      display: none;\n",
              "      fill: #1967D2;\n",
              "      height: 32px;\n",
              "      padding: 0 0 0 0;\n",
              "      width: 32px;\n",
              "    }\n",
              "\n",
              "    .colab-df-convert:hover {\n",
              "      background-color: #E2EBFA;\n",
              "      box-shadow: 0px 1px 2px rgba(60, 64, 67, 0.3), 0px 1px 3px 1px rgba(60, 64, 67, 0.15);\n",
              "      fill: #174EA6;\n",
              "    }\n",
              "\n",
              "    [theme=dark] .colab-df-convert {\n",
              "      background-color: #3B4455;\n",
              "      fill: #D2E3FC;\n",
              "    }\n",
              "\n",
              "    [theme=dark] .colab-df-convert:hover {\n",
              "      background-color: #434B5C;\n",
              "      box-shadow: 0px 1px 3px 1px rgba(0, 0, 0, 0.15);\n",
              "      filter: drop-shadow(0px 1px 2px rgba(0, 0, 0, 0.3));\n",
              "      fill: #FFFFFF;\n",
              "    }\n",
              "  </style>\n",
              "\n",
              "      <script>\n",
              "        const buttonEl =\n",
              "          document.querySelector('#df-041ddd46-6f9c-4ec8-bda2-f0e8aba4dc7a button.colab-df-convert');\n",
              "        buttonEl.style.display =\n",
              "          google.colab.kernel.accessAllowed ? 'block' : 'none';\n",
              "\n",
              "        async function convertToInteractive(key) {\n",
              "          const element = document.querySelector('#df-041ddd46-6f9c-4ec8-bda2-f0e8aba4dc7a');\n",
              "          const dataTable =\n",
              "            await google.colab.kernel.invokeFunction('convertToInteractive',\n",
              "                                                     [key], {});\n",
              "          if (!dataTable) return;\n",
              "\n",
              "          const docLinkHtml = 'Like what you see? Visit the ' +\n",
              "            '<a target=\"_blank\" href=https://colab.research.google.com/notebooks/data_table.ipynb>data table notebook</a>'\n",
              "            + ' to learn more about interactive tables.';\n",
              "          element.innerHTML = '';\n",
              "          dataTable['output_type'] = 'display_data';\n",
              "          await google.colab.output.renderOutput(dataTable, element);\n",
              "          const docLink = document.createElement('div');\n",
              "          docLink.innerHTML = docLinkHtml;\n",
              "          element.appendChild(docLink);\n",
              "        }\n",
              "      </script>\n",
              "    </div>\n",
              "  </div>\n",
              "  "
            ]
          },
          "metadata": {},
          "execution_count": 91
        }
      ]
    },
    {
      "cell_type": "code",
      "source": [
        "sns.countplot(x=df.quality)"
      ],
      "metadata": {
        "colab": {
          "base_uri": "https://localhost:8080/",
          "height": 296
        },
        "id": "yP9RKcWt1W8M",
        "outputId": "ff7c20da-1925-498c-f5bd-013878097d70"
      },
      "execution_count": null,
      "outputs": [
        {
          "output_type": "execute_result",
          "data": {
            "text/plain": [
              "<matplotlib.axes._subplots.AxesSubplot at 0x7f0c6fbe7790>"
            ]
          },
          "metadata": {},
          "execution_count": 92
        },
        {
          "output_type": "display_data",
          "data": {
            "text/plain": [
              "<Figure size 432x288 with 1 Axes>"
            ],
            "image/png": "[encoded data removed]"
          },
          "metadata": {
            "needs_background": "light"
          }
        }
      ]
    },
    {
      "cell_type": "markdown",
      "metadata": {
        "id": "cNlBoTM1Lq7H"
      },
      "source": [
        "10. Split to train and test sets"
      ]
    },
    {
      "cell_type": "code",
      "source": [
        "# set X y\n",
        "y = df['quality']\n",
        "X = df.drop('quality',axis=1)\n"
      ],
      "metadata": {
        "id": "XbNxpJqzpYHB"
      },
      "execution_count": null,
      "outputs": []
    },
    {
      "cell_type": "code",
      "source": [
        "#split to train test\n",
        "from sklearn.model_selection import train_test_split\n",
        "X_train, X_test, y_train, y_test = train_test_split(X, y, test_size=0.3, random_state=1234)"
      ],
      "metadata": {
        "id": "hj-uJJQOpr-3"
      },
      "execution_count": null,
      "outputs": []
    },
    {
      "cell_type": "markdown",
      "metadata": {
        "id": "gy2EAs4XMJvo"
      },
      "source": [
        "11. Import the DecisionTreeClassifier object and train the model\n",
        "\n",
        "    * use the following parameters:\n",
        "\n",
        "      - criterion = \"entropy\"\n",
        "\n",
        "      - max_depth = 9\n",
        "\n",
        "\n"
      ]
    },
    {
      "cell_type": "code",
      "source": [
        "from sklearn.tree import DecisionTreeClassifier\n",
        "\n",
        "#we can prune the tree by specifing the max depth\n",
        "dtree = DecisionTreeClassifier(criterion=\"entropy\",max_depth=9)\n"
      ],
      "metadata": {
        "id": "18bOLZCwqMcG"
      },
      "execution_count": null,
      "outputs": []
    },
    {
      "cell_type": "code",
      "source": [
        "#train\n",
        "dtree.fit(X_train,y_train)"
      ],
      "metadata": {
        "colab": {
          "base_uri": "https://localhost:8080/"
        },
        "id": "zr20fL9tqUmA",
        "outputId": "72e17c8e-bfab-475c-8984-241be95bbff9"
      },
      "execution_count": null,
      "outputs": [
        {
          "output_type": "execute_result",
          "data": {
            "text/plain": [
              "DecisionTreeClassifier(criterion='entropy', max_depth=9)"
            ]
          },
          "metadata": {},
          "execution_count": 96
        }
      ]
    },
    {
      "cell_type": "markdown",
      "metadata": {
        "id": "V0XZ9yx8Ge7e"
      },
      "source": [
        "##Prediction and Evaluation"
      ]
    },
    {
      "cell_type": "markdown",
      "source": [
        "11.\n",
        "* predict and predict probability using the X test data set\n",
        "* create a data frame with the probabilitis(0 and 1), prediction and the actual class"
      ],
      "metadata": {
        "id": "jkzy6pYCuEse"
      }
    },
    {
      "cell_type": "code",
      "source": [
        "y_pred = dtree.predict(X_test)\n",
        "\n",
        "from pandas.core.frame import DataFrame\n",
        "probability = dtree.predict_proba(X_test)\n",
        "prediction = dtree.predict(X_test)\n",
        "prediction\n",
        "prob_0 = pd.Series(probability[:,0], name ='probability_0', index=X_test.index)\n",
        "prob_1 = pd.Series(probability[:,1], name ='probability_1', index=X_test.index)\n",
        "predict = pd.Series(prediction, name='prediction', index=y_test.index)\n",
        "\n",
        "test_results = pd.DataFrame(data={'probability_0':prob_0, 'probability_1':prob_1,'prediction':predict, 'actual':y_test})\n",
        "\n",
        "test_results\n"
      ],
      "metadata": {
        "colab": {
          "base_uri": "https://localhost:8080/",
          "height": 424
        },
        "id": "kLOJfGFd2iPd",
        "outputId": "73f0e04b-5c93-4d39-f0f9-9859fcb2dca4"
      },
      "execution_count": null,
      "outputs": [
        {
          "output_type": "execute_result",
          "data": {
            "text/plain": [
              "      probability_0  probability_1  prediction  actual\n",
              "57         0.000000       1.000000           1       0\n",
              "78         0.333333       0.666667           1       0\n",
              "142        0.454545       0.545455           1       0\n",
              "1343       1.000000       0.000000           0       1\n",
              "1161       0.000000       1.000000           1       1\n",
              "...             ...            ...         ...     ...\n",
              "268        0.777778       0.222222           0       0\n",
              "1356       0.000000       1.000000           1       1\n",
              "586        0.958333       0.041667           0       1\n",
              "1239       0.000000       1.000000           1       1\n",
              "923        1.000000       0.000000           0       0\n",
              "\n",
              "[471 rows x 4 columns]"
            ],
            "text/html": [
              "\n",
              "  <div id=\"df-a8404923-15ee-4e9a-a66b-9013d4dd7f9e\">\n",
              "    <div class=\"colab-df-container\">\n",
              "      <div>\n",
              "<style scoped>\n",
              "    .dataframe tbody tr th:only-of-type {\n",
              "        vertical-align: middle;\n",
              "    }\n",
              "\n",
              "    .dataframe tbody tr th {\n",
              "        vertical-align: top;\n",
              "    }\n",
              "\n",
              "    .dataframe thead th {\n",
              "        text-align: right;\n",
              "    }\n",
              "</style>\n",
              "<table border=\"1\" class=\"dataframe\">\n",
              "  <thead>\n",
              "    <tr style=\"text-align: right;\">\n",
              "      <th></th>\n",
              "      <th>probability_0</th>\n",
              "      <th>probability_1</th>\n",
              "      <th>prediction</th>\n",
              "      <th>actual</th>\n",
              "    </tr>\n",
              "  </thead>\n",
              "  <tbody>\n",
              "    <tr>\n",
              "      <th>57</th>\n",
              "      <td>0.000000</td>\n",
              "      <td>1.000000</td>\n",
              "      <td>1</td>\n",
              "      <td>0</td>\n",
              "    </tr>\n",
              "    <tr>\n",
              "      <th>78</th>\n",
              "      <td>0.333333</td>\n",
              "      <td>0.666667</td>\n",
              "      <td>1</td>\n",
              "      <td>0</td>\n",
              "    </tr>\n",
              "    <tr>\n",
              "      <th>142</th>\n",
              "      <td>0.454545</td>\n",
              "      <td>0.545455</td>\n",
              "      <td>1</td>\n",
              "      <td>0</td>\n",
              "    </tr>\n",
              "    <tr>\n",
              "      <th>1343</th>\n",
              "      <td>1.000000</td>\n",
              "      <td>0.000000</td>\n",
              "      <td>0</td>\n",
              "      <td>1</td>\n",
              "    </tr>\n",
              "    <tr>\n",
              "      <th>1161</th>\n",
              "      <td>0.000000</td>\n",
              "      <td>1.000000</td>\n",
              "      <td>1</td>\n",
              "      <td>1</td>\n",
              "    </tr>\n",
              "    <tr>\n",
              "      <th>...</th>\n",
              "      <td>...</td>\n",
              "      <td>...</td>\n",
              "      <td>...</td>\n",
              "      <td>...</td>\n",
              "    </tr>\n",
              "    <tr>\n",
              "      <th>268</th>\n",
              "      <td>0.777778</td>\n",
              "      <td>0.222222</td>\n",
              "      <td>0</td>\n",
              "      <td>0</td>\n",
              "    </tr>\n",
              "    <tr>\n",
              "      <th>1356</th>\n",
              "      <td>0.000000</td>\n",
              "      <td>1.000000</td>\n",
              "      <td>1</td>\n",
              "      <td>1</td>\n",
              "    </tr>\n",
              "    <tr>\n",
              "      <th>586</th>\n",
              "      <td>0.958333</td>\n",
              "      <td>0.041667</td>\n",
              "      <td>0</td>\n",
              "      <td>1</td>\n",
              "    </tr>\n",
              "    <tr>\n",
              "      <th>1239</th>\n",
              "      <td>0.000000</td>\n",
              "      <td>1.000000</td>\n",
              "      <td>1</td>\n",
              "      <td>1</td>\n",
              "    </tr>\n",
              "    <tr>\n",
              "      <th>923</th>\n",
              "      <td>1.000000</td>\n",
              "      <td>0.000000</td>\n",
              "      <td>0</td>\n",
              "      <td>0</td>\n",
              "    </tr>\n",
              "  </tbody>\n",
              "</table>\n",
              "<p>471 rows × 4 columns</p>\n",
              "</div>\n",
              "      <button class=\"colab-df-convert\" onclick=\"convertToInteractive('df-a8404923-15ee-4e9a-a66b-9013d4dd7f9e')\"\n",
              "              title=\"Convert this dataframe to an interactive table.\"\n",
              "              style=\"display:none;\">\n",
              "        \n",
              "  <svg xmlns=\"http://www.w3.org/2000/svg\" height=\"24px\"viewBox=\"0 0 24 24\"\n",
              "       width=\"24px\">\n",
              "    <path d=\"M0 0h24v24H0V0z\" fill=\"none\"/>\n",
              "    <path d=\"M18.56 5.44l.94 2.06.94-2.06 2.06-.94-2.06-.94-.94-2.06-.94 2.06-2.06.94zm-11 1L8.5 8.5l.94-2.06 2.06-.94-2.06-.94L8.5 2.5l-.94 2.06-2.06.94zm10 10l.94 2.06.94-2.06 2.06-.94-2.06-.94-.94-2.06-.94 2.06-2.06.94z\"/><path d=\"M17.41 7.96l-1.37-1.37c-.4-.4-.92-.59-1.43-.59-.52 0-1.04.2-1.43.59L10.3 9.45l-7.72 7.72c-.78.78-.78 2.05 0 2.83L4 21.41c.39.39.9.59 1.41.59.51 0 1.02-.2 1.41-.59l7.78-7.78 2.81-2.81c.8-.78.8-2.07 0-2.86zM5.41 20L4 18.59l7.72-7.72 1.47 1.35L5.41 20z\"/>\n",
              "  </svg>\n",
              "      </button>\n",
              "      \n",
              "  <style>\n",
              "    .colab-df-container {\n",
              "      display:flex;\n",
              "      flex-wrap:wrap;\n",
              "      gap: 12px;\n",
              "    }\n",
              "\n",
              "    .colab-df-convert {\n",
              "      background-color: #E8F0FE;\n",
              "      border: none;\n",
              "      border-radius: 50%;\n",
              "      cursor: pointer;\n",
              "      display: none;\n",
              "      fill: #1967D2;\n",
              "      height: 32px;\n",
              "      padding: 0 0 0 0;\n",
              "      width: 32px;\n",
              "    }\n",
              "\n",
              "    .colab-df-convert:hover {\n",
              "      background-color: #E2EBFA;\n",
              "      box-shadow: 0px 1px 2px rgba(60, 64, 67, 0.3), 0px 1px 3px 1px rgba(60, 64, 67, 0.15);\n",
              "      fill: #174EA6;\n",
              "    }\n",
              "\n",
              "    [theme=dark] .colab-df-convert {\n",
              "      background-color: #3B4455;\n",
              "      fill: #D2E3FC;\n",
              "    }\n",
              "\n",
              "    [theme=dark] .colab-df-convert:hover {\n",
              "      background-color: #434B5C;\n",
              "      box-shadow: 0px 1px 3px 1px rgba(0, 0, 0, 0.15);\n",
              "      filter: drop-shadow(0px 1px 2px rgba(0, 0, 0, 0.3));\n",
              "      fill: #FFFFFF;\n",
              "    }\n",
              "  </style>\n",
              "\n",
              "      <script>\n",
              "        const buttonEl =\n",
              "          document.querySelector('#df-a8404923-15ee-4e9a-a66b-9013d4dd7f9e button.colab-df-convert');\n",
              "        buttonEl.style.display =\n",
              "          google.colab.kernel.accessAllowed ? 'block' : 'none';\n",
              "\n",
              "        async function convertToInteractive(key) {\n",
              "          const element = document.querySelector('#df-a8404923-15ee-4e9a-a66b-9013d4dd7f9e');\n",
              "          const dataTable =\n",
              "            await google.colab.kernel.invokeFunction('convertToInteractive',\n",
              "                                                     [key], {});\n",
              "          if (!dataTable) return;\n",
              "\n",
              "          const docLinkHtml = 'Like what you see? Visit the ' +\n",
              "            '<a target=\"_blank\" href=https://colab.research.google.com/notebooks/data_table.ipynb>data table notebook</a>'\n",
              "            + ' to learn more about interactive tables.';\n",
              "          element.innerHTML = '';\n",
              "          dataTable['output_type'] = 'display_data';\n",
              "          await google.colab.output.renderOutput(dataTable, element);\n",
              "          const docLink = document.createElement('div');\n",
              "          docLink.innerHTML = docLinkHtml;\n",
              "          element.appendChild(docLink);\n",
              "        }\n",
              "      </script>\n",
              "    </div>\n",
              "  </div>\n",
              "  "
            ]
          },
          "metadata": {},
          "execution_count": 97
        }
      ]
    },
    {
      "cell_type": "markdown",
      "source": [
        "12.Print the classification report"
      ],
      "metadata": {
        "id": "_gQ3nLlr5as9"
      }
    },
    {
      "cell_type": "code",
      "source": [
        "from sklearn.metrics import classification_report,confusion_matrix\n",
        "print(confusion_matrix(y_test,y_pred))\n",
        "print(classification_report(y_test,y_pred))"
      ],
      "metadata": {
        "colab": {
          "base_uri": "https://localhost:8080/"
        },
        "id": "09F4Alp3CHSe",
        "outputId": "010b602b-2b90-449e-a0b8-25b393c3d7b8"
      },
      "execution_count": null,
      "outputs": [
        {
          "output_type": "stream",
          "name": "stdout",
          "text": [
            "[[148  67]\n",
            " [ 53 203]]\n",
            "              precision    recall  f1-score   support\n",
            "\n",
            "           0       0.74      0.69      0.71       215\n",
            "           1       0.75      0.79      0.77       256\n",
            "\n",
            "    accuracy                           0.75       471\n",
            "   macro avg       0.74      0.74      0.74       471\n",
            "weighted avg       0.74      0.75      0.74       471\n",
            "\n"
          ]
        }
      ]
    },
    {
      "cell_type": "markdown",
      "source": [
        "13. Plot the ROC curve"
      ],
      "metadata": {
        "id": "YYghK5X6hM3k"
      }
    },
    {
      "cell_type": "code",
      "source": [
        "# IMPORTANT: first argument is true values, second argument is predicted probabilities for 1\n",
        "from sklearn import metrics\n",
        "fp_rate, tp_rate, thresholds = metrics.roc_curve(y_test,prob_1)\n"
      ],
      "metadata": {
        "id": "hT-dZocrDnhg"
      },
      "execution_count": null,
      "outputs": []
    },
    {
      "cell_type": "code",
      "source": [
        "fig=go.Figure()\n",
        "trace=go.Scatter(x=fp_rate, y=tp_rate, mode='lines', hoverinfo='x+y+text', text=thresholds)\n",
        "fig.add_trace(trace)\n",
        "fig.update_layout(\n",
        "    title=\"ROC curve for diabetes classifier\",\n",
        "    xaxis_title=\"False Positive Rate (1 - Specificity)\",\n",
        "    yaxis_title=\"True Positive Rate (Sensitivity/Recall)\",\n",
        "    \n",
        ")\n",
        "fig.show()"
      ],
      "metadata": {
        "colab": {
          "base_uri": "https://localhost:8080/",
          "height": 542
        },
        "id": "kbYHVSBcD3jm",
        "outputId": "e6867fe6-db66-46d2-c195-f1c76c3a6622"
      },
      "execution_count": null,
      "outputs": [
        {
          "output_type": "display_data",
          "data": {
            "text/html": [
              "<html>\n",
              "<head><meta charset=\"utf-8\" /></head>\n",
              "<body>\n",
              "    <div>            <script src=\"https://cdnjs.cloudflare.com/ajax/libs/mathjax/2.7.5/MathJax.js?config=TeX-AMS-MML_SVG\"></script><script type=\"text/javascript\">if (window.MathJax) {MathJax.Hub.Config({SVG: {font: \"STIX-Web\"}});}</script>                <script type=\"text/javascript\">window.PlotlyConfig = {MathJaxConfig: 'local'};</script>\n",
              "        <script src=\"https://cdn.plot.ly/plotly-2.8.3.min.js\"></script>                <div id=\"c58f878b-29e9-4350-95ec-beb05d2889de\" class=\"plotly-graph-div\" style=\"height:525px; width:100%;\"></div>            <script type=\"text/javascript\">                                    window.PLOTLYENV=window.PLOTLYENV || {};                                    if (document.getElementById(\"c58f878b-29e9-4350-95ec-beb05d2889de\")) {                    Plotly.newPlot(                        \"c58f878b-29e9-4350-95ec-beb05d2889de\",                        [{\"hoverinfo\":\"x+y+text\",\"mode\":\"lines\",\"text\":[2.0,1.0,0.9090909090909091,0.8873239436619719,0.8571428571428571,0.75,0.7142857142857143,0.6923076923076923,0.6666666666666666,0.5714285714285714,0.5454545454545454,0.38461538461538464,0.38235294117647056,0.2857142857142857,0.2222222222222222,0.2,0.041666666666666664,0.0],\"x\":[0.0,0.14418604651162792,0.16744186046511628,0.18604651162790697,0.19534883720930232,0.20465116279069767,0.21395348837209302,0.2372093023255814,0.26046511627906976,0.2837209302325581,0.3116279069767442,0.3674418604651163,0.40930232558139534,0.4697674418604651,0.5395348837209303,0.5488372093023256,0.6046511627906976,1.0],\"y\":[0.0,0.609375,0.6328125,0.7109375,0.71875,0.734375,0.73828125,0.73828125,0.76953125,0.7734375,0.79296875,0.828125,0.84375,0.86328125,0.8984375,0.90234375,0.91015625,1.0],\"type\":\"scatter\"}],                        {\"template\":{\"data\":{\"bar\":[{\"error_x\":{\"color\":\"#2a3f5f\"},\"error_y\":{\"color\":\"#2a3f5f\"},\"marker\":{\"line\":{\"color\":\"#E5ECF6\",\"width\":0.5},\"pattern\":{\"fillmode\":\"overlay\",\"size\":10,\"solidity\":0.2}},\"type\":\"bar\"}],\"barpolar\":[{\"marker\":{\"line\":{\"color\":\"#E5ECF6\",\"width\":0.5},\"pattern\":{\"fillmode\":\"overlay\",\"size\":10,\"solidity\":0.2}},\"type\":\"barpolar\"}],\"carpet\":[{\"aaxis\":{\"endlinecolor\":\"#2a3f5f\",\"gridcolor\":\"white\",\"linecolor\":\"white\",\"minorgridcolor\":\"white\",\"startlinecolor\":\"#2a3f5f\"},\"baxis\":{\"endlinecolor\":\"#2a3f5f\",\"gridcolor\":\"white\",\"linecolor\":\"white\",\"minorgridcolor\":\"white\",\"startlinecolor\":\"#2a3f5f\"},\"type\":\"carpet\"}],\"choropleth\":[{\"colorbar\":{\"outlinewidth\":0,\"ticks\":\"\"},\"type\":\"choropleth\"}],\"contour\":[{\"colorbar\":{\"outlinewidth\":0,\"ticks\":\"\"},\"colorscale\":[[0.0,\"#0d0887\"],[0.1111111111111111,\"#46039f\"],[0.2222222222222222,\"#7201a8\"],[0.3333333333333333,\"#9c179e\"],[0.4444444444444444,\"#bd3786\"],[0.5555555555555556,\"#d8576b\"],[0.6666666666666666,\"#ed7953\"],[0.7777777777777778,\"#fb9f3a\"],[0.8888888888888888,\"#fdca26\"],[1.0,\"#f0f921\"]],\"type\":\"contour\"}],\"contourcarpet\":[{\"colorbar\":{\"outlinewidth\":0,\"ticks\":\"\"},\"type\":\"contourcarpet\"}],\"heatmap\":[{\"colorbar\":{\"outlinewidth\":0,\"ticks\":\"\"},\"colorscale\":[[0.0,\"#0d0887\"],[0.1111111111111111,\"#46039f\"],[0.2222222222222222,\"#7201a8\"],[0.3333333333333333,\"#9c179e\"],[0.4444444444444444,\"#bd3786\"],[0.5555555555555556,\"#d8576b\"],[0.6666666666666666,\"#ed7953\"],[0.7777777777777778,\"#fb9f3a\"],[0.8888888888888888,\"#fdca26\"],[1.0,\"#f0f921\"]],\"type\":\"heatmap\"}],\"heatmapgl\":[{\"colorbar\":{\"outlinewidth\":0,\"ticks\":\"\"},\"colorscale\":[[0.0,\"#0d0887\"],[0.1111111111111111,\"#46039f\"],[0.2222222222222222,\"#7201a8\"],[0.3333333333333333,\"#9c179e\"],[0.4444444444444444,\"#bd3786\"],[0.5555555555555556,\"#d8576b\"],[0.6666666666666666,\"#ed7953\"],[0.7777777777777778,\"#fb9f3a\"],[0.8888888888888888,\"#fdca26\"],[1.0,\"#f0f921\"]],\"type\":\"heatmapgl\"}],\"histogram\":[{\"marker\":{\"pattern\":{\"fillmode\":\"overlay\",\"size\":10,\"solidity\":0.2}},\"type\":\"histogram\"}],\"histogram2d\":[{\"colorbar\":{\"outlinewidth\":0,\"ticks\":\"\"},\"colorscale\":[[0.0,\"#0d0887\"],[0.1111111111111111,\"#46039f\"],[0.2222222222222222,\"#7201a8\"],[0.3333333333333333,\"#9c179e\"],[0.4444444444444444,\"#bd3786\"],[0.5555555555555556,\"#d8576b\"],[0.6666666666666666,\"#ed7953\"],[0.7777777777777778,\"#fb9f3a\"],[0.8888888888888888,\"#fdca26\"],[1.0,\"#f0f921\"]],\"type\":\"histogram2d\"}],\"histogram2dcontour\":[{\"colorbar\":{\"outlinewidth\":0,\"ticks\":\"\"},\"colorscale\":[[0.0,\"#0d0887\"],[0.1111111111111111,\"#46039f\"],[0.2222222222222222,\"#7201a8\"],[0.3333333333333333,\"#9c179e\"],[0.4444444444444444,\"#bd3786\"],[0.5555555555555556,\"#d8576b\"],[0.6666666666666666,\"#ed7953\"],[0.7777777777777778,\"#fb9f3a\"],[0.8888888888888888,\"#fdca26\"],[1.0,\"#f0f921\"]],\"type\":\"histogram2dcontour\"}],\"mesh3d\":[{\"colorbar\":{\"outlinewidth\":0,\"ticks\":\"\"},\"type\":\"mesh3d\"}],\"parcoords\":[{\"line\":{\"colorbar\":{\"outlinewidth\":0,\"ticks\":\"\"}},\"type\":\"parcoords\"}],\"pie\":[{\"automargin\":true,\"type\":\"pie\"}],\"scatter\":[{\"marker\":{\"colorbar\":{\"outlinewidth\":0,\"ticks\":\"\"}},\"type\":\"scatter\"}],\"scatter3d\":[{\"line\":{\"colorbar\":{\"outlinewidth\":0,\"ticks\":\"\"}},\"marker\":{\"colorbar\":{\"outlinewidth\":0,\"ticks\":\"\"}},\"type\":\"scatter3d\"}],\"scattercarpet\":[{\"marker\":{\"colorbar\":{\"outlinewidth\":0,\"ticks\":\"\"}},\"type\":\"scattercarpet\"}],\"scattergeo\":[{\"marker\":{\"colorbar\":{\"outlinewidth\":0,\"ticks\":\"\"}},\"type\":\"scattergeo\"}],\"scattergl\":[{\"marker\":{\"colorbar\":{\"outlinewidth\":0,\"ticks\":\"\"}},\"type\":\"scattergl\"}],\"scattermapbox\":[{\"marker\":{\"colorbar\":{\"outlinewidth\":0,\"ticks\":\"\"}},\"type\":\"scattermapbox\"}],\"scatterpolar\":[{\"marker\":{\"colorbar\":{\"outlinewidth\":0,\"ticks\":\"\"}},\"type\":\"scatterpolar\"}],\"scatterpolargl\":[{\"marker\":{\"colorbar\":{\"outlinewidth\":0,\"ticks\":\"\"}},\"type\":\"scatterpolargl\"}],\"scatterternary\":[{\"marker\":{\"colorbar\":{\"outlinewidth\":0,\"ticks\":\"\"}},\"type\":\"scatterternary\"}],\"surface\":[{\"colorbar\":{\"outlinewidth\":0,\"ticks\":\"\"},\"colorscale\":[[0.0,\"#0d0887\"],[0.1111111111111111,\"#46039f\"],[0.2222222222222222,\"#7201a8\"],[0.3333333333333333,\"#9c179e\"],[0.4444444444444444,\"#bd3786\"],[0.5555555555555556,\"#d8576b\"],[0.6666666666666666,\"#ed7953\"],[0.7777777777777778,\"#fb9f3a\"],[0.8888888888888888,\"#fdca26\"],[1.0,\"#f0f921\"]],\"type\":\"surface\"}],\"table\":[{\"cells\":{\"fill\":{\"color\":\"#EBF0F8\"},\"line\":{\"color\":\"white\"}},\"header\":{\"fill\":{\"color\":\"#C8D4E3\"},\"line\":{\"color\":\"white\"}},\"type\":\"table\"}]},\"layout\":{\"annotationdefaults\":{\"arrowcolor\":\"#2a3f5f\",\"arrowhead\":0,\"arrowwidth\":1},\"autotypenumbers\":\"strict\",\"coloraxis\":{\"colorbar\":{\"outlinewidth\":0,\"ticks\":\"\"}},\"colorscale\":{\"diverging\":[[0,\"#8e0152\"],[0.1,\"#c51b7d\"],[0.2,\"#de77ae\"],[0.3,\"#f1b6da\"],[0.4,\"#fde0ef\"],[0.5,\"#f7f7f7\"],[0.6,\"#e6f5d0\"],[0.7,\"#b8e186\"],[0.8,\"#7fbc41\"],[0.9,\"#4d9221\"],[1,\"#276419\"]],\"sequential\":[[0.0,\"#0d0887\"],[0.1111111111111111,\"#46039f\"],[0.2222222222222222,\"#7201a8\"],[0.3333333333333333,\"#9c179e\"],[0.4444444444444444,\"#bd3786\"],[0.5555555555555556,\"#d8576b\"],[0.6666666666666666,\"#ed7953\"],[0.7777777777777778,\"#fb9f3a\"],[0.8888888888888888,\"#fdca26\"],[1.0,\"#f0f921\"]],\"sequentialminus\":[[0.0,\"#0d0887\"],[0.1111111111111111,\"#46039f\"],[0.2222222222222222,\"#7201a8\"],[0.3333333333333333,\"#9c179e\"],[0.4444444444444444,\"#bd3786\"],[0.5555555555555556,\"#d8576b\"],[0.6666666666666666,\"#ed7953\"],[0.7777777777777778,\"#fb9f3a\"],[0.8888888888888888,\"#fdca26\"],[1.0,\"#f0f921\"]]},\"colorway\":[\"#636efa\",\"#EF553B\",\"#00cc96\",\"#ab63fa\",\"#FFA15A\",\"#19d3f3\",\"#FF6692\",\"#B6E880\",\"#FF97FF\",\"#FECB52\"],\"font\":{\"color\":\"#2a3f5f\"},\"geo\":{\"bgcolor\":\"white\",\"lakecolor\":\"white\",\"landcolor\":\"#E5ECF6\",\"showlakes\":true,\"showland\":true,\"subunitcolor\":\"white\"},\"hoverlabel\":{\"align\":\"left\"},\"hovermode\":\"closest\",\"mapbox\":{\"style\":\"light\"},\"paper_bgcolor\":\"white\",\"plot_bgcolor\":\"#E5ECF6\",\"polar\":{\"angularaxis\":{\"gridcolor\":\"white\",\"linecolor\":\"white\",\"ticks\":\"\"},\"bgcolor\":\"#E5ECF6\",\"radialaxis\":{\"gridcolor\":\"white\",\"linecolor\":\"white\",\"ticks\":\"\"}},\"scene\":{\"xaxis\":{\"backgroundcolor\":\"#E5ECF6\",\"gridcolor\":\"white\",\"gridwidth\":2,\"linecolor\":\"white\",\"showbackground\":true,\"ticks\":\"\",\"zerolinecolor\":\"white\"},\"yaxis\":{\"backgroundcolor\":\"#E5ECF6\",\"gridcolor\":\"white\",\"gridwidth\":2,\"linecolor\":\"white\",\"showbackground\":true,\"ticks\":\"\",\"zerolinecolor\":\"white\"},\"zaxis\":{\"backgroundcolor\":\"#E5ECF6\",\"gridcolor\":\"white\",\"gridwidth\":2,\"linecolor\":\"white\",\"showbackground\":true,\"ticks\":\"\",\"zerolinecolor\":\"white\"}},\"shapedefaults\":{\"line\":{\"color\":\"#2a3f5f\"}},\"ternary\":{\"aaxis\":{\"gridcolor\":\"white\",\"linecolor\":\"white\",\"ticks\":\"\"},\"baxis\":{\"gridcolor\":\"white\",\"linecolor\":\"white\",\"ticks\":\"\"},\"bgcolor\":\"#E5ECF6\",\"caxis\":{\"gridcolor\":\"white\",\"linecolor\":\"white\",\"ticks\":\"\"}},\"title\":{\"x\":0.05},\"xaxis\":{\"automargin\":true,\"gridcolor\":\"white\",\"linecolor\":\"white\",\"ticks\":\"\",\"title\":{\"standoff\":15},\"zerolinecolor\":\"white\",\"zerolinewidth\":2},\"yaxis\":{\"automargin\":true,\"gridcolor\":\"white\",\"linecolor\":\"white\",\"ticks\":\"\",\"title\":{\"standoff\":15},\"zerolinecolor\":\"white\",\"zerolinewidth\":2}}},\"title\":{\"text\":\"ROC curve for diabetes classifier\"},\"xaxis\":{\"title\":{\"text\":\"False Positive Rate (1 - Specificity)\"}},\"yaxis\":{\"title\":{\"text\":\"True Positive Rate (Sensitivity/Recall)\"}}},                        {\"responsive\": true}                    ).then(function(){\n",
              "                            \n",
              "var gd = document.getElementById('c58f878b-29e9-4350-95ec-beb05d2889de');\n",
              "var x = new MutationObserver(function (mutations, observer) {{\n",
              "        var display = window.getComputedStyle(gd).display;\n",
              "        if (!display || display === 'none') {{\n",
              "            console.log([gd, 'removed!']);\n",
              "            Plotly.purge(gd);\n",
              "            observer.disconnect();\n",
              "        }}\n",
              "}});\n",
              "\n",
              "// Listen for the removal of the full notebook cells\n",
              "var notebookContainer = gd.closest('#notebook-container');\n",
              "if (notebookContainer) {{\n",
              "    x.observe(notebookContainer, {childList: true});\n",
              "}}\n",
              "\n",
              "// Listen for the clearing of the current output cell\n",
              "var outputEl = gd.closest('.output');\n",
              "if (outputEl) {{\n",
              "    x.observe(outputEl, {childList: true});\n",
              "}}\n",
              "\n",
              "                        })                };                            </script>        </div>\n",
              "</body>\n",
              "</html>"
            ]
          },
          "metadata": {}
        }
      ]
    },
    {
      "cell_type": "markdown",
      "source": [
        "14. Calculate AUC"
      ],
      "metadata": {
        "id": "N8l8zcBYh_ES"
      }
    },
    {
      "cell_type": "code",
      "source": [
        "# IMPORTANT: first argument is true values, second argument is predicted probabilities\n",
        "AUC = metrics.roc_auc_score(y_test, prob_1)\n",
        "print('AUC',AUC)"
      ],
      "metadata": {
        "colab": {
          "base_uri": "https://localhost:8080/"
        },
        "id": "fx1efmkhiKfr",
        "outputId": "52750740-d98b-4492-e4f6-7d59cb4eb883"
      },
      "execution_count": null,
      "outputs": [
        {
          "output_type": "stream",
          "name": "stdout",
          "text": [
            "AUC 0.7954760174418605\n"
          ]
        }
      ]
    },
    {
      "cell_type": "markdown",
      "source": [
        "15.Improve the model by changing the threshold"
      ],
      "metadata": {
        "id": "N4MgPWIxhkAL"
      }
    },
    {
      "cell_type": "markdown",
      "metadata": {
        "id": "00uTFtqV4-J1"
      },
      "source": [
        "- ROC curve can help you to **choose a threshold** that balances sensitivity and specificity in a way that makes sense for your particular context"
      ]
    },
    {
      "cell_type": "code",
      "source": [
        "from sklearn.preprocessing import binarize\n",
        "y_pred_03 = binarize(X=[prob_1], threshold=0.8)[0]\n",
        "y_pred_03 = pd.Series(y_pred_03)\n",
        "y_pred_03"
      ],
      "metadata": {
        "colab": {
          "base_uri": "https://localhost:8080/"
        },
        "id": "yOrRpQpVhoK4",
        "outputId": "261ba8c3-4679-4f9f-ad92-6625aaf325c2"
      },
      "execution_count": null,
      "outputs": [
        {
          "output_type": "execute_result",
          "data": {
            "text/plain": [
              "0      1.0\n",
              "1      0.0\n",
              "2      0.0\n",
              "3      0.0\n",
              "4      1.0\n",
              "      ... \n",
              "466    0.0\n",
              "467    1.0\n",
              "468    0.0\n",
              "469    1.0\n",
              "470    0.0\n",
              "Length: 471, dtype: float64"
            ]
          },
          "metadata": {},
          "execution_count": 144
        }
      ]
    },
    {
      "cell_type": "markdown",
      "source": [
        "Print the confusion metrics for the new predictions(with the new threshold) - it should be slightly improved!"
      ],
      "metadata": {
        "id": "Kd_KRN5lkSKl"
      }
    },
    {
      "cell_type": "code",
      "source": [
        "print(confusion_matrix(y_test,y_pred_03))\n",
        "print(classification_report(y_test,y_pred_03))"
      ],
      "metadata": {
        "colab": {
          "base_uri": "https://localhost:8080/"
        },
        "id": "NT42b3xVkZhY",
        "outputId": "e43c3d0c-fdc3-4239-a882-c45f2f37065b"
      },
      "execution_count": null,
      "outputs": [
        {
          "output_type": "stream",
          "name": "stdout",
          "text": [
            "[[173  42]\n",
            " [ 72 184]]\n",
            "              precision    recall  f1-score   support\n",
            "\n",
            "           0       0.71      0.80      0.75       215\n",
            "           1       0.81      0.72      0.76       256\n",
            "\n",
            "    accuracy                           0.76       471\n",
            "   macro avg       0.76      0.76      0.76       471\n",
            "weighted avg       0.76      0.76      0.76       471\n",
            "\n"
          ]
        }
      ]
    },
    {
      "cell_type": "markdown",
      "source": [
        "###Running the cross validation procedure and get the score.\n"
      ],
      "metadata": {
        "id": "2wKMnnj3RYzB"
      }
    },
    {
      "cell_type": "markdown",
      "source": [
        "16.a. Calculate f1 scores using cross validation - your results may be a little bit different.\n",
        "\n",
        "- use cv = 30"
      ],
      "metadata": {
        "id": "w8pL1dbEwlrW"
      }
    },
    {
      "cell_type": "code",
      "source": [
        "from sklearn.model_selection import cross_val_score\n",
        "f1_scores = cross_val_score(dtree, X, y, cv=30, scoring='f1') \n",
        "f1_scores"
      ],
      "metadata": {
        "colab": {
          "base_uri": "https://localhost:8080/"
        },
        "id": "2O37ZDlnRin5",
        "outputId": "6aa3fd79-14ed-42f9-9320-c27bc4e868ee"
      },
      "execution_count": null,
      "outputs": [
        {
          "output_type": "execute_result",
          "data": {
            "text/plain": [
              "array([0.53061224, 0.54901961, 0.52173913, 0.32432432, 0.5       ,\n",
              "       0.17142857, 0.55555556, 0.59574468, 0.6122449 , 0.4       ,\n",
              "       0.78431373, 0.59259259, 0.61818182, 0.70588235, 0.82142857,\n",
              "       0.75      , 0.75862069, 0.77419355, 0.81818182, 0.67741935,\n",
              "       0.6969697 , 0.67857143, 0.6984127 , 0.7826087 , 0.75362319,\n",
              "       0.70422535, 0.76190476, 0.75675676, 0.50746269, 0.71794872])"
            ]
          },
          "metadata": {},
          "execution_count": 147
        }
      ]
    },
    {
      "cell_type": "markdown",
      "source": [
        "b. Calculate accuracy scores using cross validation - your results may be a little bit different.\n",
        "\n",
        "- use cv = 30"
      ],
      "metadata": {
        "id": "V_NoaXqsxEkE"
      }
    },
    {
      "cell_type": "code",
      "source": [
        "accuracy = cross_val_score(dtree, X, y, cv=30, scoring='accuracy') \n",
        "accuracy"
      ],
      "metadata": {
        "colab": {
          "base_uri": "https://localhost:8080/"
        },
        "id": "ShPDsYdITJCt",
        "outputId": "017a153a-3d8c-4f65-cddd-b55b03d47113"
      },
      "execution_count": null,
      "outputs": [
        {
          "output_type": "execute_result",
          "data": {
            "text/plain": [
              "array([0.56603774, 0.54716981, 0.62264151, 0.52830189, 0.62264151,\n",
              "       0.45283019, 0.56603774, 0.64150943, 0.63461538, 0.53846154,\n",
              "       0.76923077, 0.55769231, 0.57692308, 0.73076923, 0.78846154,\n",
              "       0.75      , 0.86538462, 0.73076923, 0.76923077, 0.57692308,\n",
              "       0.61538462, 0.63461538, 0.65384615, 0.71153846, 0.63461538,\n",
              "       0.61538462, 0.69230769, 0.67307692, 0.36538462, 0.57692308])"
            ]
          },
          "metadata": {},
          "execution_count": 148
        }
      ]
    },
    {
      "cell_type": "markdown",
      "source": [
        "17. Print the mean values of the f1 and accuracy scores"
      ],
      "metadata": {
        "id": "Tq914UQ7xJ2J"
      }
    },
    {
      "cell_type": "code",
      "source": [
        "print('F1 :',f1_scores.mean())\n",
        "print('ACC : ',accuracy.mean())"
      ],
      "metadata": {
        "colab": {
          "base_uri": "https://localhost:8080/"
        },
        "id": "bHJsxYSuTJHW",
        "outputId": "b19d97a0-9ca5-4036-f074-3350eabd609f"
      },
      "execution_count": null,
      "outputs": [
        {
          "output_type": "stream",
          "name": "stdout",
          "text": [
            "F1 : 0.6373322489431202\n",
            "ACC :  0.6336236090953073\n"
          ]
        }
      ]
    },
    {
      "cell_type": "markdown",
      "source": [
        "# Bonus ---optional task---\n",
        "\n",
        "Do questions 10 - 17 with the random forests classifier model and see the difference\n",
        "\n"
      ],
      "metadata": {
        "id": "mfDK7r4w15co"
      }
    },
    {
      "cell_type": "code",
      "source": [
        "#split to train test\n",
        "from sklearn.model_selection import train_test_split\n",
        "X_train, X_test, y_train, y_test = train_test_split(X, y, test_size=0.3, random_state=1234)"
      ],
      "metadata": {
        "id": "beq1i6Fhf4-B"
      },
      "execution_count": null,
      "outputs": []
    },
    {
      "cell_type": "code",
      "source": [
        "from sklearn.ensemble import RandomForestClassifier\n",
        "rfc = RandomForestClassifier(n_estimators=50, criterion='entropy', max_depth=9)"
      ],
      "metadata": {
        "id": "Ol7SI-t_f47J"
      },
      "execution_count": null,
      "outputs": []
    },
    {
      "cell_type": "code",
      "source": [
        "rfc.fit(X_train,y_train)"
      ],
      "metadata": {
        "colab": {
          "base_uri": "https://localhost:8080/"
        },
        "id": "gWJjk3-2f44O",
        "outputId": "d5575a86-626a-4292-8fa3-53a460016277"
      },
      "execution_count": null,
      "outputs": [
        {
          "output_type": "execute_result",
          "data": {
            "text/plain": [
              "RandomForestClassifier(criterion='entropy', max_depth=9, n_estimators=50)"
            ]
          },
          "metadata": {},
          "execution_count": 154
        }
      ]
    },
    {
      "cell_type": "code",
      "source": [
        "y_pred = rfc.predict(X_test)\n",
        "\n",
        "from pandas.core.frame import DataFrame\n",
        "probability = rfc.predict_proba(X_test)\n",
        "prediction = rfc.predict(X_test)\n",
        "prediction\n",
        "prob_0 = pd.Series(probability[:,0], name ='probability_0', index=X_test.index)\n",
        "prob_1 = pd.Series(probability[:,1], name ='probability_1', index=X_test.index)\n",
        "predict = pd.Series(prediction, name='prediction', index=y_test.index)\n",
        "\n",
        "test_results = pd.DataFrame(data={'probability_0':prob_0, 'probability_1':prob_1,'prediction':predict, 'actual':y_test})\n",
        "\n",
        "test_results"
      ],
      "metadata": {
        "colab": {
          "base_uri": "https://localhost:8080/",
          "height": 424
        },
        "id": "VrICDmJ_gWCw",
        "outputId": "5fe15869-408b-4c22-d763-2ab734ea620b"
      },
      "execution_count": null,
      "outputs": [
        {
          "output_type": "execute_result",
          "data": {
            "text/plain": [
              "      probability_0  probability_1  prediction  actual\n",
              "57         0.525102       0.474898           0       0\n",
              "78         0.425845       0.574155           1       0\n",
              "142        0.677876       0.322124           0       0\n",
              "1343       0.145430       0.854570           1       1\n",
              "1161       0.237195       0.762805           1       1\n",
              "...             ...            ...         ...     ...\n",
              "268        0.778748       0.221252           0       0\n",
              "1356       0.000000       1.000000           1       1\n",
              "586        0.804366       0.195634           0       1\n",
              "1239       0.070160       0.929840           1       1\n",
              "923        0.526309       0.473691           0       0\n",
              "\n",
              "[471 rows x 4 columns]"
            ],
            "text/html": [
              "\n",
              "  <div id=\"df-c6c78aab-0ea1-496c-950a-4d726241a0d0\">\n",
              "    <div class=\"colab-df-container\">\n",
              "      <div>\n",
              "<style scoped>\n",
              "    .dataframe tbody tr th:only-of-type {\n",
              "        vertical-align: middle;\n",
              "    }\n",
              "\n",
              "    .dataframe tbody tr th {\n",
              "        vertical-align: top;\n",
              "    }\n",
              "\n",
              "    .dataframe thead th {\n",
              "        text-align: right;\n",
              "    }\n",
              "</style>\n",
              "<table border=\"1\" class=\"dataframe\">\n",
              "  <thead>\n",
              "    <tr style=\"text-align: right;\">\n",
              "      <th></th>\n",
              "      <th>probability_0</th>\n",
              "      <th>probability_1</th>\n",
              "      <th>prediction</th>\n",
              "      <th>actual</th>\n",
              "    </tr>\n",
              "  </thead>\n",
              "  <tbody>\n",
              "    <tr>\n",
              "      <th>57</th>\n",
              "      <td>0.525102</td>\n",
              "      <td>0.474898</td>\n",
              "      <td>0</td>\n",
              "      <td>0</td>\n",
              "    </tr>\n",
              "    <tr>\n",
              "      <th>78</th>\n",
              "      <td>0.425845</td>\n",
              "      <td>0.574155</td>\n",
              "      <td>1</td>\n",
              "      <td>0</td>\n",
              "    </tr>\n",
              "    <tr>\n",
              "      <th>142</th>\n",
              "      <td>0.677876</td>\n",
              "      <td>0.322124</td>\n",
              "      <td>0</td>\n",
              "      <td>0</td>\n",
              "    </tr>\n",
              "    <tr>\n",
              "      <th>1343</th>\n",
              "      <td>0.145430</td>\n",
              "      <td>0.854570</td>\n",
              "      <td>1</td>\n",
              "      <td>1</td>\n",
              "    </tr>\n",
              "    <tr>\n",
              "      <th>1161</th>\n",
              "      <td>0.237195</td>\n",
              "      <td>0.762805</td>\n",
              "      <td>1</td>\n",
              "      <td>1</td>\n",
              "    </tr>\n",
              "    <tr>\n",
              "      <th>...</th>\n",
              "      <td>...</td>\n",
              "      <td>...</td>\n",
              "      <td>...</td>\n",
              "      <td>...</td>\n",
              "    </tr>\n",
              "    <tr>\n",
              "      <th>268</th>\n",
              "      <td>0.778748</td>\n",
              "      <td>0.221252</td>\n",
              "      <td>0</td>\n",
              "      <td>0</td>\n",
              "    </tr>\n",
              "    <tr>\n",
              "      <th>1356</th>\n",
              "      <td>0.000000</td>\n",
              "      <td>1.000000</td>\n",
              "      <td>1</td>\n",
              "      <td>1</td>\n",
              "    </tr>\n",
              "    <tr>\n",
              "      <th>586</th>\n",
              "      <td>0.804366</td>\n",
              "      <td>0.195634</td>\n",
              "      <td>0</td>\n",
              "      <td>1</td>\n",
              "    </tr>\n",
              "    <tr>\n",
              "      <th>1239</th>\n",
              "      <td>0.070160</td>\n",
              "      <td>0.929840</td>\n",
              "      <td>1</td>\n",
              "      <td>1</td>\n",
              "    </tr>\n",
              "    <tr>\n",
              "      <th>923</th>\n",
              "      <td>0.526309</td>\n",
              "      <td>0.473691</td>\n",
              "      <td>0</td>\n",
              "      <td>0</td>\n",
              "    </tr>\n",
              "  </tbody>\n",
              "</table>\n",
              "<p>471 rows × 4 columns</p>\n",
              "</div>\n",
              "      <button class=\"colab-df-convert\" onclick=\"convertToInteractive('df-c6c78aab-0ea1-496c-950a-4d726241a0d0')\"\n",
              "              title=\"Convert this dataframe to an interactive table.\"\n",
              "              style=\"display:none;\">\n",
              "        \n",
              "  <svg xmlns=\"http://www.w3.org/2000/svg\" height=\"24px\"viewBox=\"0 0 24 24\"\n",
              "       width=\"24px\">\n",
              "    <path d=\"M0 0h24v24H0V0z\" fill=\"none\"/>\n",
              "    <path d=\"M18.56 5.44l.94 2.06.94-2.06 2.06-.94-2.06-.94-.94-2.06-.94 2.06-2.06.94zm-11 1L8.5 8.5l.94-2.06 2.06-.94-2.06-.94L8.5 2.5l-.94 2.06-2.06.94zm10 10l.94 2.06.94-2.06 2.06-.94-2.06-.94-.94-2.06-.94 2.06-2.06.94z\"/><path d=\"M17.41 7.96l-1.37-1.37c-.4-.4-.92-.59-1.43-.59-.52 0-1.04.2-1.43.59L10.3 9.45l-7.72 7.72c-.78.78-.78 2.05 0 2.83L4 21.41c.39.39.9.59 1.41.59.51 0 1.02-.2 1.41-.59l7.78-7.78 2.81-2.81c.8-.78.8-2.07 0-2.86zM5.41 20L4 18.59l7.72-7.72 1.47 1.35L5.41 20z\"/>\n",
              "  </svg>\n",
              "      </button>\n",
              "      \n",
              "  <style>\n",
              "    .colab-df-container {\n",
              "      display:flex;\n",
              "      flex-wrap:wrap;\n",
              "      gap: 12px;\n",
              "    }\n",
              "\n",
              "    .colab-df-convert {\n",
              "      background-color: #E8F0FE;\n",
              "      border: none;\n",
              "      border-radius: 50%;\n",
              "      cursor: pointer;\n",
              "      display: none;\n",
              "      fill: #1967D2;\n",
              "      height: 32px;\n",
              "      padding: 0 0 0 0;\n",
              "      width: 32px;\n",
              "    }\n",
              "\n",
              "    .colab-df-convert:hover {\n",
              "      background-color: #E2EBFA;\n",
              "      box-shadow: 0px 1px 2px rgba(60, 64, 67, 0.3), 0px 1px 3px 1px rgba(60, 64, 67, 0.15);\n",
              "      fill: #174EA6;\n",
              "    }\n",
              "\n",
              "    [theme=dark] .colab-df-convert {\n",
              "      background-color: #3B4455;\n",
              "      fill: #D2E3FC;\n",
              "    }\n",
              "\n",
              "    [theme=dark] .colab-df-convert:hover {\n",
              "      background-color: #434B5C;\n",
              "      box-shadow: 0px 1px 3px 1px rgba(0, 0, 0, 0.15);\n",
              "      filter: drop-shadow(0px 1px 2px rgba(0, 0, 0, 0.3));\n",
              "      fill: #FFFFFF;\n",
              "    }\n",
              "  </style>\n",
              "\n",
              "      <script>\n",
              "        const buttonEl =\n",
              "          document.querySelector('#df-c6c78aab-0ea1-496c-950a-4d726241a0d0 button.colab-df-convert');\n",
              "        buttonEl.style.display =\n",
              "          google.colab.kernel.accessAllowed ? 'block' : 'none';\n",
              "\n",
              "        async function convertToInteractive(key) {\n",
              "          const element = document.querySelector('#df-c6c78aab-0ea1-496c-950a-4d726241a0d0');\n",
              "          const dataTable =\n",
              "            await google.colab.kernel.invokeFunction('convertToInteractive',\n",
              "                                                     [key], {});\n",
              "          if (!dataTable) return;\n",
              "\n",
              "          const docLinkHtml = 'Like what you see? Visit the ' +\n",
              "            '<a target=\"_blank\" href=https://colab.research.google.com/notebooks/data_table.ipynb>data table notebook</a>'\n",
              "            + ' to learn more about interactive tables.';\n",
              "          element.innerHTML = '';\n",
              "          dataTable['output_type'] = 'display_data';\n",
              "          await google.colab.output.renderOutput(dataTable, element);\n",
              "          const docLink = document.createElement('div');\n",
              "          docLink.innerHTML = docLinkHtml;\n",
              "          element.appendChild(docLink);\n",
              "        }\n",
              "      </script>\n",
              "    </div>\n",
              "  </div>\n",
              "  "
            ]
          },
          "metadata": {},
          "execution_count": 155
        }
      ]
    },
    {
      "cell_type": "code",
      "source": [
        "y_predict = rfc.predict(X_test)"
      ],
      "metadata": {
        "id": "alPU-l4wf41j"
      },
      "execution_count": null,
      "outputs": []
    },
    {
      "cell_type": "code",
      "source": [
        "print(confusion_matrix(y_test,y_predict))\n",
        "print('----------------------------------------------------------')\n",
        "print(classification_report(y_test,y_predict))"
      ],
      "metadata": {
        "colab": {
          "base_uri": "https://localhost:8080/"
        },
        "id": "NIKfxRSpf4yn",
        "outputId": "60971263-babb-4dda-cf66-3558417b5156"
      },
      "execution_count": null,
      "outputs": [
        {
          "output_type": "stream",
          "name": "stdout",
          "text": [
            "[[172  43]\n",
            " [ 48 208]]\n",
            "----------------------------------------------------------\n",
            "              precision    recall  f1-score   support\n",
            "\n",
            "           0       0.78      0.80      0.79       215\n",
            "           1       0.83      0.81      0.82       256\n",
            "\n",
            "    accuracy                           0.81       471\n",
            "   macro avg       0.81      0.81      0.81       471\n",
            "weighted avg       0.81      0.81      0.81       471\n",
            "\n"
          ]
        }
      ]
    },
    {
      "cell_type": "code",
      "source": [
        "fig=go.Figure()\n",
        "trace=go.Scatter(x=fp_rate, y=tp_rate, mode='lines', hoverinfo='x+y+text', text=thresholds)\n",
        "fig.add_trace(trace)\n",
        "fig.update_layout(\n",
        "    title=\"ROC curve for diabetes classifier\",\n",
        "    xaxis_title=\"False Positive Rate (1 - Specificity)\",\n",
        "    yaxis_title=\"True Positive Rate (Sensitivity/Recall)\",\n",
        "    \n",
        ")\n",
        "fig.show()"
      ],
      "metadata": {
        "colab": {
          "base_uri": "https://localhost:8080/",
          "height": 542
        },
        "id": "8Dde6WdZgrSM",
        "outputId": "a3211785-248a-4daa-c69d-f1d998030d0c"
      },
      "execution_count": null,
      "outputs": [
        {
          "output_type": "display_data",
          "data": {
            "text/html": [
              "<html>\n",
              "<head><meta charset=\"utf-8\" /></head>\n",
              "<body>\n",
              "    <div>            <script src=\"https://cdnjs.cloudflare.com/ajax/libs/mathjax/2.7.5/MathJax.js?config=TeX-AMS-MML_SVG\"></script><script type=\"text/javascript\">if (window.MathJax) {MathJax.Hub.Config({SVG: {font: \"STIX-Web\"}});}</script>                <script type=\"text/javascript\">window.PlotlyConfig = {MathJaxConfig: 'local'};</script>\n",
              "        <script src=\"https://cdn.plot.ly/plotly-2.8.3.min.js\"></script>                <div id=\"b25068bf-56af-48f9-a54f-e147ca347153\" class=\"plotly-graph-div\" style=\"height:525px; width:100%;\"></div>            <script type=\"text/javascript\">                                    window.PLOTLYENV=window.PLOTLYENV || {};                                    if (document.getElementById(\"b25068bf-56af-48f9-a54f-e147ca347153\")) {                    Plotly.newPlot(                        \"b25068bf-56af-48f9-a54f-e147ca347153\",                        [{\"hoverinfo\":\"x+y+text\",\"mode\":\"lines\",\"text\":[2.0,1.0,0.9995121951219512,0.9691067821067821,0.9689229859571323,0.9616940133037695,0.9612504456327986,0.9591666666666666,0.9451997584366496,0.9383899294427457,0.9253846153846155,0.9208398679951008,0.92,0.9156662260875595,0.8759310461790081,0.874907734635356,0.8568994947261201,0.855740052005642,0.8438215828063284,0.8396468306423466,0.8297216482938891,0.8295713419183011,0.8147880978631089,0.8134113249976891,0.8066723076120668,0.8064956203217073,0.784638851171858,0.7818356751654778,0.7789462476248553,0.7765066207201475,0.7628050649577617,0.7624174499679327,0.7594983447924625,0.7592219421148124,0.7556828631439799,0.7555538769961728,0.7425408693668553,0.7420721945970052,0.735519412033183,0.7332534110247422,0.7323922743922744,0.7263449057974017,0.7195809959436197,0.7144616249384425,0.7062392223825873,0.7011609444422515,0.6978011513818271,0.696476882835577,0.6798297478098744,0.6741272363090869,0.6501537407512963,0.6492462750066766,0.6357360186400045,0.63372994156694,0.6310349614207373,0.6295561595615893,0.6290361237683673,0.6269236215205969,0.6204881436424471,0.6119382812450798,0.6069004793890327,0.6065573138786929,0.6002984427100894,0.596255530635473,0.5959600008380408,0.5902829131652659,0.5849685323771527,0.5844506845288362,0.5812806119536396,0.5790866378653124,0.5779253046552973,0.574154915272871,0.5708828035528611,0.5708025553021231,0.5653054728688331,0.5589216411652658,0.5544731068238502,0.5502217545715842,0.5456971998928106,0.5345903932558806,0.5315760414411386,0.5288756691580192,0.528541223158451,0.5283049577452045,0.5036498053426909,0.4989584449452022,0.49368791389479894,0.48249289020630043,0.4784627606185525,0.4780005746835015,0.4748981769163105,0.4739259416148485,0.47369092321310136,0.47324397031003207,0.4708559066385356,0.4684719588337047,0.46610285132295487,0.46554425724957854,0.4633089358267942,0.45579537608824217,0.4528270233581451,0.45192215374082667,0.45040701982708264,0.44806234798383054,0.4455894126501462,0.4447296133465506,0.4434157283620194,0.4403655020945231,0.43683052289606783,0.43549440641061893,0.4348158693430153,0.4267425349146257,0.4253084659957058,0.42240454554222934,0.42192711044013537,0.4204483379173441,0.41840312612924313,0.4082791401645957,0.40781177017365366,0.40565307645951987,0.405357849191336,0.403431217775842,0.40223785137446877,0.39517315620827764,0.3865084341503913,0.3731053747496476,0.37193687901811806,0.3679804672002417,0.3665610887783266,0.36585259696833367,0.36534568122678,0.34204130972512614,0.34183815817521856,0.33579863614102656,0.3338959505664396,0.3287098594721754,0.32863350959804616,0.3273551409576588,0.32072456696013063,0.3205075203965325,0.28774695776730036,0.2751272141588215,0.26343933723511687,0.2632043078413312,0.25925790626180345,0.25400466081315753,0.2419629505157017,0.23552589413363598,0.2002516049334344,0.19563439957071682,0.18327648584066375,0.18201550513298792,0.17192302505034796,0.16602941176470587,0.16188651737709997,0.16033333333333333,0.1564167971508397,0.1542501918985659,0.12799395372276728,0.12747552040964655,0.06699153518891836,0.066104526425955,0.0],\"x\":[0.0,0.0,0.0,0.0,0.004651162790697674,0.004651162790697674,0.009302325581395349,0.009302325581395349,0.009302325581395349,0.013953488372093023,0.013953488372093023,0.018604651162790697,0.018604651162790697,0.018604651162790697,0.018604651162790697,0.018604651162790697,0.018604651162790697,0.018604651162790697,0.018604651162790697,0.023255813953488372,0.023255813953488372,0.027906976744186046,0.027906976744186046,0.03255813953488372,0.03255813953488372,0.04186046511627907,0.04186046511627907,0.04186046511627907,0.04186046511627907,0.04186046511627907,0.04186046511627907,0.046511627906976744,0.046511627906976744,0.05116279069767442,0.05116279069767442,0.05116279069767442,0.05116279069767442,0.05581395348837209,0.05581395348837209,0.06046511627906977,0.06046511627906977,0.06511627906976744,0.06511627906976744,0.07441860465116279,0.07441860465116279,0.07906976744186046,0.07906976744186046,0.07906976744186046,0.07906976744186046,0.08372093023255814,0.08372093023255814,0.09302325581395349,0.09302325581395349,0.09767441860465116,0.09767441860465116,0.10232558139534884,0.10232558139534884,0.11162790697674418,0.11162790697674418,0.11627906976744186,0.11627906976744186,0.12093023255813953,0.12093023255813953,0.12558139534883722,0.12558139534883722,0.13488372093023257,0.13488372093023257,0.13953488372093023,0.13953488372093023,0.14418604651162792,0.14418604651162792,0.15348837209302327,0.15348837209302327,0.15813953488372093,0.15813953488372093,0.16744186046511628,0.16744186046511628,0.17674418604651163,0.17674418604651163,0.18604651162790697,0.18604651162790697,0.19069767441860466,0.19069767441860466,0.19534883720930232,0.19534883720930232,0.20465116279069767,0.20465116279069767,0.22790697674418606,0.22790697674418606,0.2372093023255814,0.24186046511627907,0.25116279069767444,0.2558139534883721,0.2558139534883721,0.2651162790697674,0.2651162790697674,0.26976744186046514,0.26976744186046514,0.26976744186046514,0.27906976744186046,0.27906976744186046,0.2837209302325581,0.2837209302325581,0.28837209302325584,0.28837209302325584,0.2930232558139535,0.2930232558139535,0.3023255813953488,0.3023255813953488,0.30697674418604654,0.30697674418604654,0.31627906976744186,0.31627906976744186,0.3209302325581395,0.3209302325581395,0.32558139534883723,0.32558139534883723,0.3488372093023256,0.3488372093023256,0.35348837209302325,0.35348837209302325,0.3674418604651163,0.3674418604651163,0.39069767441860465,0.39069767441860465,0.4232558139534884,0.4232558139534884,0.42790697674418604,0.42790697674418604,0.4325581395348837,0.4325581395348837,0.4930232558139535,0.4930232558139535,0.5116279069767442,0.5116279069767442,0.5209302325581395,0.5209302325581395,0.5302325581395348,0.5488372093023256,0.5488372093023256,0.5813953488372093,0.5813953488372093,0.6186046511627907,0.6186046511627907,0.6325581395348837,0.6325581395348837,0.641860465116279,0.6604651162790698,0.7441860465116279,0.7441860465116279,0.7627906976744186,0.7627906976744186,0.786046511627907,0.7953488372093023,0.8,0.8,0.8093023255813954,0.8186046511627907,0.8604651162790697,0.8604651162790697,0.958139534883721,0.958139534883721,1.0],\"y\":[0.0,0.015625,0.0234375,0.09375,0.09375,0.1015625,0.1015625,0.109375,0.13671875,0.13671875,0.17578125,0.17578125,0.1796875,0.1875,0.265625,0.2734375,0.30859375,0.31640625,0.3671875,0.3671875,0.38671875,0.38671875,0.421875,0.421875,0.4296875,0.4296875,0.45703125,0.46875,0.47265625,0.48046875,0.51171875,0.51171875,0.51953125,0.51953125,0.52734375,0.53515625,0.55859375,0.55859375,0.5703125,0.5703125,0.578125,0.578125,0.5859375,0.5859375,0.59375,0.59375,0.60546875,0.61328125,0.625,0.625,0.6484375,0.6484375,0.67578125,0.67578125,0.6796875,0.6796875,0.68359375,0.68359375,0.703125,0.703125,0.7265625,0.7265625,0.734375,0.734375,0.73828125,0.73828125,0.7421875,0.7421875,0.74609375,0.74609375,0.75390625,0.75390625,0.7578125,0.7578125,0.76171875,0.76171875,0.7734375,0.7734375,0.78125,0.78125,0.7890625,0.7890625,0.79296875,0.79296875,0.8125,0.8125,0.8203125,0.8203125,0.828125,0.828125,0.828125,0.828125,0.828125,0.83203125,0.83203125,0.84765625,0.84765625,0.85546875,0.8671875,0.8671875,0.87109375,0.87109375,0.875,0.875,0.87890625,0.87890625,0.8828125,0.8828125,0.890625,0.890625,0.89453125,0.89453125,0.8984375,0.8984375,0.90234375,0.90234375,0.91015625,0.91015625,0.91796875,0.91796875,0.921875,0.921875,0.92578125,0.92578125,0.93359375,0.93359375,0.9375,0.9375,0.94140625,0.94140625,0.9453125,0.9453125,0.94921875,0.94921875,0.953125,0.953125,0.95703125,0.95703125,0.95703125,0.9609375,0.9609375,0.96484375,0.96484375,0.96875,0.96875,0.9765625,0.9765625,0.9765625,0.9765625,0.98046875,0.98046875,0.984375,0.984375,0.984375,0.984375,0.9921875,0.9921875,0.9921875,0.9921875,0.99609375,0.99609375,1.0,1.0],\"type\":\"scatter\"}],                        {\"template\":{\"data\":{\"bar\":[{\"error_x\":{\"color\":\"#2a3f5f\"},\"error_y\":{\"color\":\"#2a3f5f\"},\"marker\":{\"line\":{\"color\":\"#E5ECF6\",\"width\":0.5},\"pattern\":{\"fillmode\":\"overlay\",\"size\":10,\"solidity\":0.2}},\"type\":\"bar\"}],\"barpolar\":[{\"marker\":{\"line\":{\"color\":\"#E5ECF6\",\"width\":0.5},\"pattern\":{\"fillmode\":\"overlay\",\"size\":10,\"solidity\":0.2}},\"type\":\"barpolar\"}],\"carpet\":[{\"aaxis\":{\"endlinecolor\":\"#2a3f5f\",\"gridcolor\":\"white\",\"linecolor\":\"white\",\"minorgridcolor\":\"white\",\"startlinecolor\":\"#2a3f5f\"},\"baxis\":{\"endlinecolor\":\"#2a3f5f\",\"gridcolor\":\"white\",\"linecolor\":\"white\",\"minorgridcolor\":\"white\",\"startlinecolor\":\"#2a3f5f\"},\"type\":\"carpet\"}],\"choropleth\":[{\"colorbar\":{\"outlinewidth\":0,\"ticks\":\"\"},\"type\":\"choropleth\"}],\"contour\":[{\"colorbar\":{\"outlinewidth\":0,\"ticks\":\"\"},\"colorscale\":[[0.0,\"#0d0887\"],[0.1111111111111111,\"#46039f\"],[0.2222222222222222,\"#7201a8\"],[0.3333333333333333,\"#9c179e\"],[0.4444444444444444,\"#bd3786\"],[0.5555555555555556,\"#d8576b\"],[0.6666666666666666,\"#ed7953\"],[0.7777777777777778,\"#fb9f3a\"],[0.8888888888888888,\"#fdca26\"],[1.0,\"#f0f921\"]],\"type\":\"contour\"}],\"contourcarpet\":[{\"colorbar\":{\"outlinewidth\":0,\"ticks\":\"\"},\"type\":\"contourcarpet\"}],\"heatmap\":[{\"colorbar\":{\"outlinewidth\":0,\"ticks\":\"\"},\"colorscale\":[[0.0,\"#0d0887\"],[0.1111111111111111,\"#46039f\"],[0.2222222222222222,\"#7201a8\"],[0.3333333333333333,\"#9c179e\"],[0.4444444444444444,\"#bd3786\"],[0.5555555555555556,\"#d8576b\"],[0.6666666666666666,\"#ed7953\"],[0.7777777777777778,\"#fb9f3a\"],[0.8888888888888888,\"#fdca26\"],[1.0,\"#f0f921\"]],\"type\":\"heatmap\"}],\"heatmapgl\":[{\"colorbar\":{\"outlinewidth\":0,\"ticks\":\"\"},\"colorscale\":[[0.0,\"#0d0887\"],[0.1111111111111111,\"#46039f\"],[0.2222222222222222,\"#7201a8\"],[0.3333333333333333,\"#9c179e\"],[0.4444444444444444,\"#bd3786\"],[0.5555555555555556,\"#d8576b\"],[0.6666666666666666,\"#ed7953\"],[0.7777777777777778,\"#fb9f3a\"],[0.8888888888888888,\"#fdca26\"],[1.0,\"#f0f921\"]],\"type\":\"heatmapgl\"}],\"histogram\":[{\"marker\":{\"pattern\":{\"fillmode\":\"overlay\",\"size\":10,\"solidity\":0.2}},\"type\":\"histogram\"}],\"histogram2d\":[{\"colorbar\":{\"outlinewidth\":0,\"ticks\":\"\"},\"colorscale\":[[0.0,\"#0d0887\"],[0.1111111111111111,\"#46039f\"],[0.2222222222222222,\"#7201a8\"],[0.3333333333333333,\"#9c179e\"],[0.4444444444444444,\"#bd3786\"],[0.5555555555555556,\"#d8576b\"],[0.6666666666666666,\"#ed7953\"],[0.7777777777777778,\"#fb9f3a\"],[0.8888888888888888,\"#fdca26\"],[1.0,\"#f0f921\"]],\"type\":\"histogram2d\"}],\"histogram2dcontour\":[{\"colorbar\":{\"outlinewidth\":0,\"ticks\":\"\"},\"colorscale\":[[0.0,\"#0d0887\"],[0.1111111111111111,\"#46039f\"],[0.2222222222222222,\"#7201a8\"],[0.3333333333333333,\"#9c179e\"],[0.4444444444444444,\"#bd3786\"],[0.5555555555555556,\"#d8576b\"],[0.6666666666666666,\"#ed7953\"],[0.7777777777777778,\"#fb9f3a\"],[0.8888888888888888,\"#fdca26\"],[1.0,\"#f0f921\"]],\"type\":\"histogram2dcontour\"}],\"mesh3d\":[{\"colorbar\":{\"outlinewidth\":0,\"ticks\":\"\"},\"type\":\"mesh3d\"}],\"parcoords\":[{\"line\":{\"colorbar\":{\"outlinewidth\":0,\"ticks\":\"\"}},\"type\":\"parcoords\"}],\"pie\":[{\"automargin\":true,\"type\":\"pie\"}],\"scatter\":[{\"marker\":{\"colorbar\":{\"outlinewidth\":0,\"ticks\":\"\"}},\"type\":\"scatter\"}],\"scatter3d\":[{\"line\":{\"colorbar\":{\"outlinewidth\":0,\"ticks\":\"\"}},\"marker\":{\"colorbar\":{\"outlinewidth\":0,\"ticks\":\"\"}},\"type\":\"scatter3d\"}],\"scattercarpet\":[{\"marker\":{\"colorbar\":{\"outlinewidth\":0,\"ticks\":\"\"}},\"type\":\"scattercarpet\"}],\"scattergeo\":[{\"marker\":{\"colorbar\":{\"outlinewidth\":0,\"ticks\":\"\"}},\"type\":\"scattergeo\"}],\"scattergl\":[{\"marker\":{\"colorbar\":{\"outlinewidth\":0,\"ticks\":\"\"}},\"type\":\"scattergl\"}],\"scattermapbox\":[{\"marker\":{\"colorbar\":{\"outlinewidth\":0,\"ticks\":\"\"}},\"type\":\"scattermapbox\"}],\"scatterpolar\":[{\"marker\":{\"colorbar\":{\"outlinewidth\":0,\"ticks\":\"\"}},\"type\":\"scatterpolar\"}],\"scatterpolargl\":[{\"marker\":{\"colorbar\":{\"outlinewidth\":0,\"ticks\":\"\"}},\"type\":\"scatterpolargl\"}],\"scatterternary\":[{\"marker\":{\"colorbar\":{\"outlinewidth\":0,\"ticks\":\"\"}},\"type\":\"scatterternary\"}],\"surface\":[{\"colorbar\":{\"outlinewidth\":0,\"ticks\":\"\"},\"colorscale\":[[0.0,\"#0d0887\"],[0.1111111111111111,\"#46039f\"],[0.2222222222222222,\"#7201a8\"],[0.3333333333333333,\"#9c179e\"],[0.4444444444444444,\"#bd3786\"],[0.5555555555555556,\"#d8576b\"],[0.6666666666666666,\"#ed7953\"],[0.7777777777777778,\"#fb9f3a\"],[0.8888888888888888,\"#fdca26\"],[1.0,\"#f0f921\"]],\"type\":\"surface\"}],\"table\":[{\"cells\":{\"fill\":{\"color\":\"#EBF0F8\"},\"line\":{\"color\":\"white\"}},\"header\":{\"fill\":{\"color\":\"#C8D4E3\"},\"line\":{\"color\":\"white\"}},\"type\":\"table\"}]},\"layout\":{\"annotationdefaults\":{\"arrowcolor\":\"#2a3f5f\",\"arrowhead\":0,\"arrowwidth\":1},\"autotypenumbers\":\"strict\",\"coloraxis\":{\"colorbar\":{\"outlinewidth\":0,\"ticks\":\"\"}},\"colorscale\":{\"diverging\":[[0,\"#8e0152\"],[0.1,\"#c51b7d\"],[0.2,\"#de77ae\"],[0.3,\"#f1b6da\"],[0.4,\"#fde0ef\"],[0.5,\"#f7f7f7\"],[0.6,\"#e6f5d0\"],[0.7,\"#b8e186\"],[0.8,\"#7fbc41\"],[0.9,\"#4d9221\"],[1,\"#276419\"]],\"sequential\":[[0.0,\"#0d0887\"],[0.1111111111111111,\"#46039f\"],[0.2222222222222222,\"#7201a8\"],[0.3333333333333333,\"#9c179e\"],[0.4444444444444444,\"#bd3786\"],[0.5555555555555556,\"#d8576b\"],[0.6666666666666666,\"#ed7953\"],[0.7777777777777778,\"#fb9f3a\"],[0.8888888888888888,\"#fdca26\"],[1.0,\"#f0f921\"]],\"sequentialminus\":[[0.0,\"#0d0887\"],[0.1111111111111111,\"#46039f\"],[0.2222222222222222,\"#7201a8\"],[0.3333333333333333,\"#9c179e\"],[0.4444444444444444,\"#bd3786\"],[0.5555555555555556,\"#d8576b\"],[0.6666666666666666,\"#ed7953\"],[0.7777777777777778,\"#fb9f3a\"],[0.8888888888888888,\"#fdca26\"],[1.0,\"#f0f921\"]]},\"colorway\":[\"#636efa\",\"#EF553B\",\"#00cc96\",\"#ab63fa\",\"#FFA15A\",\"#19d3f3\",\"#FF6692\",\"#B6E880\",\"#FF97FF\",\"#FECB52\"],\"font\":{\"color\":\"#2a3f5f\"},\"geo\":{\"bgcolor\":\"white\",\"lakecolor\":\"white\",\"landcolor\":\"#E5ECF6\",\"showlakes\":true,\"showland\":true,\"subunitcolor\":\"white\"},\"hoverlabel\":{\"align\":\"left\"},\"hovermode\":\"closest\",\"mapbox\":{\"style\":\"light\"},\"paper_bgcolor\":\"white\",\"plot_bgcolor\":\"#E5ECF6\",\"polar\":{\"angularaxis\":{\"gridcolor\":\"white\",\"linecolor\":\"white\",\"ticks\":\"\"},\"bgcolor\":\"#E5ECF6\",\"radialaxis\":{\"gridcolor\":\"white\",\"linecolor\":\"white\",\"ticks\":\"\"}},\"scene\":{\"xaxis\":{\"backgroundcolor\":\"#E5ECF6\",\"gridcolor\":\"white\",\"gridwidth\":2,\"linecolor\":\"white\",\"showbackground\":true,\"ticks\":\"\",\"zerolinecolor\":\"white\"},\"yaxis\":{\"backgroundcolor\":\"#E5ECF6\",\"gridcolor\":\"white\",\"gridwidth\":2,\"linecolor\":\"white\",\"showbackground\":true,\"ticks\":\"\",\"zerolinecolor\":\"white\"},\"zaxis\":{\"backgroundcolor\":\"#E5ECF6\",\"gridcolor\":\"white\",\"gridwidth\":2,\"linecolor\":\"white\",\"showbackground\":true,\"ticks\":\"\",\"zerolinecolor\":\"white\"}},\"shapedefaults\":{\"line\":{\"color\":\"#2a3f5f\"}},\"ternary\":{\"aaxis\":{\"gridcolor\":\"white\",\"linecolor\":\"white\",\"ticks\":\"\"},\"baxis\":{\"gridcolor\":\"white\",\"linecolor\":\"white\",\"ticks\":\"\"},\"bgcolor\":\"#E5ECF6\",\"caxis\":{\"gridcolor\":\"white\",\"linecolor\":\"white\",\"ticks\":\"\"}},\"title\":{\"x\":0.05},\"xaxis\":{\"automargin\":true,\"gridcolor\":\"white\",\"linecolor\":\"white\",\"ticks\":\"\",\"title\":{\"standoff\":15},\"zerolinecolor\":\"white\",\"zerolinewidth\":2},\"yaxis\":{\"automargin\":true,\"gridcolor\":\"white\",\"linecolor\":\"white\",\"ticks\":\"\",\"title\":{\"standoff\":15},\"zerolinecolor\":\"white\",\"zerolinewidth\":2}}},\"title\":{\"text\":\"ROC curve for diabetes classifier\"},\"xaxis\":{\"title\":{\"text\":\"False Positive Rate (1 - Specificity)\"}},\"yaxis\":{\"title\":{\"text\":\"True Positive Rate (Sensitivity/Recall)\"}}},                        {\"responsive\": true}                    ).then(function(){\n",
              "                            \n",
              "var gd = document.getElementById('b25068bf-56af-48f9-a54f-e147ca347153');\n",
              "var x = new MutationObserver(function (mutations, observer) {{\n",
              "        var display = window.getComputedStyle(gd).display;\n",
              "        if (!display || display === 'none') {{\n",
              "            console.log([gd, 'removed!']);\n",
              "            Plotly.purge(gd);\n",
              "            observer.disconnect();\n",
              "        }}\n",
              "}});\n",
              "\n",
              "// Listen for the removal of the full notebook cells\n",
              "var notebookContainer = gd.closest('#notebook-container');\n",
              "if (notebookContainer) {{\n",
              "    x.observe(notebookContainer, {childList: true});\n",
              "}}\n",
              "\n",
              "// Listen for the clearing of the current output cell\n",
              "var outputEl = gd.closest('.output');\n",
              "if (outputEl) {{\n",
              "    x.observe(outputEl, {childList: true});\n",
              "}}\n",
              "\n",
              "                        })                };                            </script>        </div>\n",
              "</body>\n",
              "</html>"
            ]
          },
          "metadata": {}
        }
      ]
    },
    {
      "cell_type": "code",
      "source": [
        "AUC = metrics.roc_auc_score(y_test, prob_1)\n",
        "print('AUC',AUC)"
      ],
      "metadata": {
        "colab": {
          "base_uri": "https://localhost:8080/"
        },
        "id": "WUUkoZ5AgrJC",
        "outputId": "4bf4e41d-f45a-4771-8de1-8aaa99114fd2"
      },
      "execution_count": null,
      "outputs": [
        {
          "output_type": "stream",
          "name": "stdout",
          "text": [
            "AUC 0.8815225290697674\n"
          ]
        }
      ]
    },
    {
      "cell_type": "code",
      "source": [
        "from sklearn.preprocessing import binarize\n",
        "y_pred_03 = binarize(X=[prob_1], threshold=0.5)[0]\n",
        "y_pred_03 = pd.Series(y_pred_03)\n",
        "y_pred_03"
      ],
      "metadata": {
        "colab": {
          "base_uri": "https://localhost:8080/"
        },
        "id": "SgE_3g0rg5kv",
        "outputId": "6ad03074-b9e9-4d89-ef76-13f35fb41976"
      },
      "execution_count": null,
      "outputs": [
        {
          "output_type": "execute_result",
          "data": {
            "text/plain": [
              "0      0.0\n",
              "1      1.0\n",
              "2      0.0\n",
              "3      1.0\n",
              "4      1.0\n",
              "      ... \n",
              "466    0.0\n",
              "467    1.0\n",
              "468    0.0\n",
              "469    1.0\n",
              "470    0.0\n",
              "Length: 471, dtype: float64"
            ]
          },
          "metadata": {},
          "execution_count": 168
        }
      ]
    },
    {
      "cell_type": "code",
      "source": [
        "from sklearn import metrics\n",
        "fp_rate, tp_rate, thresholds = metrics.roc_curve(y_test,y_pred_03)\n"
      ],
      "metadata": {
        "id": "o2s9okZpgmiZ"
      },
      "execution_count": null,
      "outputs": []
    },
    {
      "cell_type": "code",
      "source": [
        "print(confusion_matrix(y_test,y_pred_03))\n",
        "print(classification_report(y_test,y_pred_03))"
      ],
      "metadata": {
        "colab": {
          "base_uri": "https://localhost:8080/"
        },
        "id": "C544ywdshUAB",
        "outputId": "6f2735bb-a95e-4244-9a68-e756e6811807"
      },
      "execution_count": null,
      "outputs": [
        {
          "output_type": "stream",
          "name": "stdout",
          "text": [
            "[[172  43]\n",
            " [ 48 208]]\n",
            "              precision    recall  f1-score   support\n",
            "\n",
            "           0       0.78      0.80      0.79       215\n",
            "           1       0.83      0.81      0.82       256\n",
            "\n",
            "    accuracy                           0.81       471\n",
            "   macro avg       0.81      0.81      0.81       471\n",
            "weighted avg       0.81      0.81      0.81       471\n",
            "\n"
          ]
        }
      ]
    },
    {
      "cell_type": "code",
      "source": [],
      "metadata": {
        "id": "fFCvYyA8hT1x"
      },
      "execution_count": null,
      "outputs": []
    },
    {
      "cell_type": "code",
      "source": [
        "from sklearn.model_selection import cross_val_score\n",
        "f1_scores = cross_val_score(rfc, X, y, cv=30, scoring='f1')\n",
        "f1_scores"
      ],
      "metadata": {
        "colab": {
          "base_uri": "https://localhost:8080/"
        },
        "id": "Jz4vR6Ydf4v1",
        "outputId": "2474d664-e8df-444e-8686-2372cb756729"
      },
      "execution_count": null,
      "outputs": [
        {
          "output_type": "execute_result",
          "data": {
            "text/plain": [
              "array([0.28571429, 0.38888889, 0.32432432, 0.41025641, 0.19354839,\n",
              "       0.28571429, 0.51162791, 0.68181818, 0.71111111, 0.47368421,\n",
              "       0.80851064, 0.73076923, 0.82142857, 0.83018868, 0.86792453,\n",
              "       0.88135593, 0.87719298, 0.93333333, 0.9       , 0.81967213,\n",
              "       0.84375   , 0.75      , 0.73972603, 0.77777778, 0.75      ,\n",
              "       0.72727273, 0.77777778, 0.73684211, 0.7012987 , 0.7       ])"
            ]
          },
          "metadata": {},
          "execution_count": 171
        }
      ]
    },
    {
      "cell_type": "code",
      "source": [
        "accuracy_scores = cross_val_score(rfc, X, y, cv=30, scoring='accuracy')\n",
        "accuracy_scores"
      ],
      "metadata": {
        "colab": {
          "base_uri": "https://localhost:8080/"
        },
        "id": "F6N4WLkFf4tx",
        "outputId": "4422392c-1766-41c0-a41e-ccd39c7c94cb"
      },
      "execution_count": null,
      "outputs": [
        {
          "output_type": "execute_result",
          "data": {
            "text/plain": [
              "array([0.56603774, 0.56603774, 0.54716981, 0.50943396, 0.56603774,\n",
              "       0.56603774, 0.62264151, 0.73584906, 0.73076923, 0.61538462,\n",
              "       0.82692308, 0.71153846, 0.69230769, 0.78846154, 0.86538462,\n",
              "       0.90384615, 0.90384615, 0.88461538, 0.84615385, 0.82692308,\n",
              "       0.78846154, 0.67307692, 0.63461538, 0.63461538, 0.67307692,\n",
              "       0.61538462, 0.69230769, 0.63461538, 0.51923077, 0.53846154])"
            ]
          },
          "metadata": {},
          "execution_count": 172
        }
      ]
    },
    {
      "cell_type": "code",
      "source": [
        "print('Mean values')\n",
        "print('f1:', f1_scores.mean())\n",
        "print('accuracy: ', accuracy_scores.mean())\n"
      ],
      "metadata": {
        "colab": {
          "base_uri": "https://localhost:8080/"
        },
        "id": "_UQhYR7uf4qr",
        "outputId": "dbeffe21-7e67-43ce-a329-60460d98cb4d"
      },
      "execution_count": null,
      "outputs": [
        {
          "output_type": "stream",
          "name": "stdout",
          "text": [
            "Mean values\n",
            "f1: 0.6747169712132658\n",
            "accuracy:  0.6893081761006291\n"
          ]
        }
      ]
    }
  ]
}